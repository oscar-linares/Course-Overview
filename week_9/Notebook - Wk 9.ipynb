{
 "cells": [
  {
   "cell_type": "markdown",
   "metadata": {},
   "source": [
    "# Video Lectures\n",
    "\n",
    "## Testing\n",
    "\n",
    "We need to test new code that we read as well as it's compatibility with previous code. We need to avoid recurssion (errors in old code due to new code).\n",
    "\n",
    "### Testing terms\n",
    "\n",
    "**Test Case:** Set of statements that check for a specific response to a set of inputs.\n",
    "\n",
    "**Test Suit:** Collection of test cases.\n",
    "\n",
    "**Test Fixture:** Requires preparation, like creating a test dataset, before test cases can be ran.\n",
    "\n",
    "**Test Runner:** Application that runs test suits"
   ]
  },
  {
   "cell_type": "markdown",
   "metadata": {},
   "source": [
    "import unittest *this is a test suit*\n",
    "\n",
    "class TestStringMethods(unittest.TestCase):\n",
    "\n",
    "def test_isupper(self):\n",
    "self.assertTrue('FOO'.isupper()) *this is a test case*\n",
    "self.assertFalse('Foo'.isupper())  *this is another test case*\n",
    "\n",
    "if __name__ == '__main__':  *this is a test runner*\n",
    "unittest.main()"
   ]
  },
  {
   "cell_type": "markdown",
   "metadata": {},
   "source": [
    "## Test-Driven Coding"
   ]
  },
  {
   "cell_type": "code",
   "execution_count": 7,
   "metadata": {},
   "outputs": [],
   "source": [
    "class StringUtility(object):\n",
    "    \n",
    "    def reverse(self, data):\n",
    "        return data[::-1]\n",
    "    \n",
    "    def char_frequency(self, data, char):\n",
    "        data_lower = data.lower()\n",
    "        return data_lower.count(char.lower())\n",
    "    \n",
    "    def is_palindrome(self, data):\n",
    "        return data == data[::-1]\n",
    "    \n",
    "    "
   ]
  },
  {
   "cell_type": "code",
   "execution_count": 8,
   "metadata": {},
   "outputs": [
    {
     "name": "stdout",
     "output_type": "stream",
     "text": [
      "gnirtS tseT\n"
     ]
    }
   ],
   "source": [
    "stringUtil1 = StringUtility()\n",
    "\n",
    "print(stringUtil1.reverse(\"Test String\"))"
   ]
  },
  {
   "cell_type": "code",
   "execution_count": 9,
   "metadata": {
    "scrolled": true
   },
   "outputs": [
    {
     "name": "stdout",
     "output_type": "stream",
     "text": [
      "3\n"
     ]
    }
   ],
   "source": [
    "print(stringUtil1.char_frequency(\"Test String\", 't'))"
   ]
  },
  {
   "cell_type": "code",
   "execution_count": 11,
   "metadata": {},
   "outputs": [
    {
     "name": "stdout",
     "output_type": "stream",
     "text": [
      "True\n"
     ]
    }
   ],
   "source": [
    "print(stringUtil1.is_palindrome(\"otto\"))"
   ]
  },
  {
   "cell_type": "code",
   "execution_count": null,
   "metadata": {},
   "outputs": [],
   "source": []
  }
 ],
 "metadata": {
  "kernelspec": {
   "display_name": "Python Analytics",
   "language": "python",
   "name": "analytics_py3"
  },
  "language_info": {
   "codemirror_mode": {
    "name": "ipython",
    "version": 3
   },
   "file_extension": ".py",
   "mimetype": "text/x-python",
   "name": "python",
   "nbconvert_exporter": "python",
   "pygments_lexer": "ipython3",
   "version": "3.7.4"
  }
 },
 "nbformat": 4,
 "nbformat_minor": 2
}
