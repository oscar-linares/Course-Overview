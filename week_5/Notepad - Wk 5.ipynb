{
 "cells": [
  {
   "cell_type": "markdown",
   "metadata": {},
   "source": [
    "# Video Lectures"
   ]
  },
  {
   "cell_type": "markdown",
   "metadata": {},
   "source": [
    "## Standalone Programs"
   ]
  },
  {
   "cell_type": "code",
   "execution_count": 77,
   "metadata": {},
   "outputs": [
    {
     "name": "stdout",
     "output_type": "stream",
     "text": [
      "Hello World, revisited\r\n"
     ]
    }
   ],
   "source": [
    "!python3 helloworld.py"
   ]
  },
  {
   "cell_type": "code",
   "execution_count": 78,
   "metadata": {},
   "outputs": [
    {
     "name": "stdout",
     "output_type": "stream",
     "text": [
      "# helloworld.py\r\n",
      "# \r\n",
      "# This is our frist python script run from the command line as a standalone\r\n",
      "# application\r\n",
      "\r\n",
      "print(\"Hello World, revisited\")"
     ]
    }
   ],
   "source": [
    "!cat helloworld.py"
   ]
  },
  {
   "cell_type": "code",
   "execution_count": 79,
   "metadata": {
    "scrolled": true
   },
   "outputs": [
    {
     "name": "stdout",
     "output_type": "stream",
     "text": [
      "# showargmuments.py\r\n",
      "# \r\n",
      "# Prints out the program arguments that have been passed into this standalone\r\n",
      "# application\r\n",
      "\r\n",
      "import sys # We need to import the sys module in order to gain access to the arguments\r\n",
      "\r\n",
      "print(\"Program arguments:\", sys.argv)"
     ]
    }
   ],
   "source": [
    "!cat showarguments.py"
   ]
  },
  {
   "cell_type": "code",
   "execution_count": 80,
   "metadata": {},
   "outputs": [
    {
     "name": "stdout",
     "output_type": "stream",
     "text": [
      "Program arguments: ['showarguments.py']\r\n"
     ]
    }
   ],
   "source": [
    "!python3 showarguments.py"
   ]
  },
  {
   "cell_type": "code",
   "execution_count": 81,
   "metadata": {},
   "outputs": [
    {
     "name": "stdout",
     "output_type": "stream",
     "text": [
      "Program arguments: ['showarguments.py', 'firstArg', 'secondArg', 'thirdArg']\r\n"
     ]
    }
   ],
   "source": [
    "!python3 showarguments.py firstArg secondArg thirdArg"
   ]
  },
  {
   "cell_type": "markdown",
   "metadata": {},
   "source": [
    "## Modules and the import statement"
   ]
  },
  {
   "cell_type": "code",
   "execution_count": 82,
   "metadata": {},
   "outputs": [
    {
     "name": "stdout",
     "output_type": "stream",
     "text": [
      "# weatherman.py\r\n",
      "# \r\n",
      "# Provides the current forecast for the weather in Berkeley, California\r\n",
      "\r\n",
      "from urllib.request import urlopen\r\n",
      "import json\r\n",
      "\r\n",
      "def get_report():\r\n",
      "    \"\"\"\r\n",
      "    Returns the current forecast of Berkeley right now\r\n",
      "    \"\"\"\r\n",
      "    response = urlopen(\r\n",
      "        'http://api.openweathermap.org/data/2.5/weather?q=Berkeley,ca')\r\n",
      "    rawWeatherData = response.read().decode(\"utf-8\")\r\n",
      "    weatherData = json.loads(rawWeatherData)\r\n",
      "\r\n",
      "    forecast = \"Berkeley, CA Forecast: \" + weatherData[\"weather\"][0][\"main\"]\r\n",
      "    return forecast"
     ]
    }
   ],
   "source": [
    "!cat weatherman.py"
   ]
  },
  {
   "cell_type": "markdown",
   "metadata": {},
   "source": [
    "## Module search path"
   ]
  },
  {
   "cell_type": "code",
   "execution_count": 83,
   "metadata": {},
   "outputs": [
    {
     "name": "stdout",
     "output_type": "stream",
     "text": [
      "/Users/oscar_linares/.pyenv/versions/3.7.4/envs/analytics_py3/lib/python3.7/site-packages\n",
      "/Users/oscar_linares/.pyenv/versions/3.7.4/envs/analytics_py3/lib/python3.7/lib-dynload\n",
      "/Users/oscar_linares/Documents/GitHub/Course-Overview/week_5\n",
      "/Users/oscar_linares/.pyenv/versions/3.7.4/lib/python37.zip\n",
      "/Users/oscar_linares/.pyenv/versions/3.7.4/lib/python3.7\n",
      "/Users/oscar_linares/.pyenv/versions/3.7.4/lib/python3.7/lib-dynload\n",
      "\n",
      "/Users/oscar_linares/.pyenv/versions/analytics_py3/lib/python3.7/site-packages\n",
      "/Users/oscar_linares/.pyenv/versions/analytics_py3/lib/python3.7/site-packages/IPython/extensions\n",
      "/Users/oscar_linares/.ipython\n"
     ]
    }
   ],
   "source": [
    "import sys\n",
    "for p in sys.path:\n",
    "    print(p)"
   ]
  },
  {
   "cell_type": "markdown",
   "metadata": {},
   "source": [
    "## dateime in Python 3"
   ]
  },
  {
   "cell_type": "code",
   "execution_count": 84,
   "metadata": {},
   "outputs": [
    {
     "name": "stdout",
     "output_type": "stream",
     "text": [
      "Forecast for Berkeley, CA on Saturday, August 22, 2015, 11:16 AM local time\n",
      "\n"
     ]
    }
   ],
   "source": [
    "import datetime\n",
    "\n",
    "weatherData = {}\n",
    "weatherData['dt'] = 1440270976  # seconds after the UNIX epoch\n",
    "\n",
    "current_utc_offset = -datetime.timedelta(hours=8)  # setting to PST from UTC\n",
    "\n",
    "current_timezone = datetime.timezone(current_utc_offset)  # create the timezone object, which for example accomodates for daylight savings\n",
    "\n",
    "current_datetime = datetime.datetime.fromtimestamp(weatherData['dt'], current_timezone)  # create datetime object\n",
    "\n",
    "forecastStr = \"Forecast for Berkeley, CA on \" + current_datetime.strftime(\"%A, %B %d, %Y, %H:%M %p\") + \" local time\\n\"  # format datetime object\n",
    "print(forecastStr)"
   ]
  },
  {
   "cell_type": "markdown",
   "metadata": {},
   "source": [
    "## Standard library"
   ]
  },
  {
   "cell_type": "markdown",
   "metadata": {},
   "source": [
    "### Handling KeyErrors automatically using setdefault"
   ]
  },
  {
   "cell_type": "code",
   "execution_count": 85,
   "metadata": {},
   "outputs": [],
   "source": [
    "periodic_table = {'Hydrogen': 1, 'Helium': 2}"
   ]
  },
  {
   "cell_type": "code",
   "execution_count": 86,
   "metadata": {},
   "outputs": [
    {
     "ename": "KeyError",
     "evalue": "'Carbon'",
     "output_type": "error",
     "traceback": [
      "\u001b[0;31m---------------------------------------------------------------------------\u001b[0m",
      "\u001b[0;31mKeyError\u001b[0m                                  Traceback (most recent call last)",
      "\u001b[0;32m<ipython-input-86-cb1a6e41d67e>\u001b[0m in \u001b[0;36m<module>\u001b[0;34m\u001b[0m\n\u001b[0;32m----> 1\u001b[0;31m \u001b[0mperiodic_table\u001b[0m\u001b[0;34m[\u001b[0m\u001b[0;34m'Carbon'\u001b[0m\u001b[0;34m]\u001b[0m\u001b[0;34m\u001b[0m\u001b[0;34m\u001b[0m\u001b[0m\n\u001b[0m",
      "\u001b[0;31mKeyError\u001b[0m: 'Carbon'"
     ]
    }
   ],
   "source": [
    "periodic_table['Carbon']"
   ]
  },
  {
   "cell_type": "code",
   "execution_count": 87,
   "metadata": {},
   "outputs": [
    {
     "name": "stdout",
     "output_type": "stream",
     "text": [
      "{'Hydrogen': 1, 'Helium': 2}\n"
     ]
    }
   ],
   "source": [
    "periodic_table.setdefault('Hydrogen', 12)\n",
    "print(periodic_table)"
   ]
  },
  {
   "cell_type": "code",
   "execution_count": 88,
   "metadata": {},
   "outputs": [
    {
     "name": "stdout",
     "output_type": "stream",
     "text": [
      "{'Hydrogen': 1, 'Helium': 2}\n"
     ]
    }
   ],
   "source": [
    "periodic_table.setdefault('Helium', 12)\n",
    "print(periodic_table)"
   ]
  },
  {
   "cell_type": "code",
   "execution_count": 89,
   "metadata": {},
   "outputs": [
    {
     "name": "stdout",
     "output_type": "stream",
     "text": [
      "{'Hydrogen': 1, 'Helium': 2, 'Carbon': 12}\n"
     ]
    }
   ],
   "source": [
    "periodic_table.setdefault('Carbon', 12)\n",
    "print(periodic_table)"
   ]
  },
  {
   "cell_type": "code",
   "execution_count": 90,
   "metadata": {},
   "outputs": [
    {
     "name": "stdout",
     "output_type": "stream",
     "text": [
      "{'Hydrogen': 1, 'Helium': 2, 'Carbon': 12}\n"
     ]
    }
   ],
   "source": [
    "print(periodic_table)"
   ]
  },
  {
   "cell_type": "markdown",
   "metadata": {},
   "source": [
    "### Create a dictionary with a default value using defaultdict()"
   ]
  },
  {
   "cell_type": "code",
   "execution_count": 103,
   "metadata": {},
   "outputs": [],
   "source": [
    "from collections import defaultdict, Counter\n",
    "\n",
    "def not_an_element():\n",
    "    return int()"
   ]
  },
  {
   "cell_type": "code",
   "execution_count": 92,
   "metadata": {},
   "outputs": [],
   "source": [
    "no_error_periodic_table = defaultdict(not_an_element)\n",
    "\n",
    "no_error_periodic_table['Hydrogen'] = 1\n",
    "no_error_periodic_table['Helium'] = 2"
   ]
  },
  {
   "cell_type": "code",
   "execution_count": 93,
   "metadata": {},
   "outputs": [
    {
     "data": {
      "text/plain": [
       "defaultdict(<function __main__.not_an_element()>, {'Hydrogen': 1, 'Helium': 2})"
      ]
     },
     "execution_count": 93,
     "metadata": {},
     "output_type": "execute_result"
    }
   ],
   "source": [
    "no_error_periodic_table"
   ]
  },
  {
   "cell_type": "code",
   "execution_count": 94,
   "metadata": {},
   "outputs": [
    {
     "data": {
      "text/plain": [
       "0"
      ]
     },
     "execution_count": 94,
     "metadata": {},
     "output_type": "execute_result"
    }
   ],
   "source": [
    "no_error_periodic_table['Blastium']"
   ]
  },
  {
   "cell_type": "code",
   "execution_count": 95,
   "metadata": {},
   "outputs": [
    {
     "data": {
      "text/plain": [
       "defaultdict(<function __main__.not_an_element()>,\n",
       "            {'Hydrogen': 1, 'Helium': 2, 'Blastium': 0})"
      ]
     },
     "execution_count": 95,
     "metadata": {},
     "output_type": "execute_result"
    }
   ],
   "source": [
    "no_error_periodic_table"
   ]
  },
  {
   "cell_type": "code",
   "execution_count": 96,
   "metadata": {},
   "outputs": [],
   "source": [
    "from urllib.request import urlopen\n",
    "import json"
   ]
  },
  {
   "cell_type": "code",
   "execution_count": 97,
   "metadata": {},
   "outputs": [],
   "source": [
    "response = urlopen('https://www.googleapis.com/books/v1/volumes?q=berkeley&maxResults=40')"
   ]
  },
  {
   "cell_type": "code",
   "execution_count": 98,
   "metadata": {},
   "outputs": [],
   "source": [
    "rawData = response.read().decode(\"utf-8\")\n",
    "book_data = json.loads(rawData)"
   ]
  },
  {
   "cell_type": "code",
   "execution_count": 99,
   "metadata": {
    "scrolled": true
   },
   "outputs": [
    {
     "name": "stdout",
     "output_type": "stream",
     "text": [
      "defaultdict(<class 'int'>, {'Univ of California Press': 1})\n",
      "defaultdict(<class 'int'>, {'Univ of California Press': 1, 'Princeton Architectural Press': 1})\n",
      "defaultdict(<class 'int'>, {'Univ of California Press': 1, 'Princeton Architectural Press': 1, 'Andrews McMeel Publishing': 1})\n",
      "defaultdict(<class 'int'>, {'Univ of California Press': 1, 'Princeton Architectural Press': 1, 'Andrews McMeel Publishing': 1, 'Oxford University Press, USA': 1})\n",
      "defaultdict(<class 'int'>, {'Univ of California Press': 2, 'Princeton Architectural Press': 1, 'Andrews McMeel Publishing': 1, 'Oxford University Press, USA': 1})\n",
      "defaultdict(<class 'int'>, {'Univ of California Press': 2, 'Princeton Architectural Press': 1, 'Andrews McMeel Publishing': 1, 'Oxford University Press, USA': 1, 'University of Toronto Press': 1})\n",
      "defaultdict(<class 'int'>, {'Univ of California Press': 2, 'Princeton Architectural Press': 1, 'Andrews McMeel Publishing': 1, 'Oxford University Press, USA': 1, 'University of Toronto Press': 1, 'Frog Books': 1})\n",
      "defaultdict(<class 'int'>, {'Univ of California Press': 2, 'Princeton Architectural Press': 1, 'Andrews McMeel Publishing': 1, 'Oxford University Press, USA': 1, 'University of Toronto Press': 1, 'Frog Books': 1, 'U of Minnesota Press': 1})\n",
      "defaultdict(<class 'int'>, {'Univ of California Press': 2, 'Princeton Architectural Press': 1, 'Andrews McMeel Publishing': 1, 'Oxford University Press, USA': 1, 'University of Toronto Press': 1, 'Frog Books': 1, 'U of Minnesota Press': 1, 'Fordham Univ Press': 1})\n",
      "defaultdict(<class 'int'>, {'Univ of California Press': 3, 'Princeton Architectural Press': 1, 'Andrews McMeel Publishing': 1, 'Oxford University Press, USA': 1, 'University of Toronto Press': 1, 'Frog Books': 1, 'U of Minnesota Press': 1, 'Fordham Univ Press': 1})\n",
      "defaultdict(<class 'int'>, {'Univ of California Press': 3, 'Princeton Architectural Press': 1, 'Andrews McMeel Publishing': 1, 'Oxford University Press, USA': 2, 'University of Toronto Press': 1, 'Frog Books': 1, 'U of Minnesota Press': 1, 'Fordham Univ Press': 1})\n",
      "defaultdict(<class 'int'>, {'Univ of California Press': 3, 'Princeton Architectural Press': 1, 'Andrews McMeel Publishing': 1, 'Oxford University Press, USA': 2, 'University of Toronto Press': 1, 'Frog Books': 1, 'U of Minnesota Press': 1, 'Fordham Univ Press': 1, 'University of Chicago Press': 1})\n",
      "defaultdict(<class 'int'>, {'Univ of California Press': 3, 'Princeton Architectural Press': 1, 'Andrews McMeel Publishing': 1, 'Oxford University Press, USA': 2, 'University of Toronto Press': 1, 'Frog Books': 1, 'U of Minnesota Press': 1, 'Fordham Univ Press': 1, 'University of Chicago Press': 1, 'Cambridge University Press': 1})\n",
      "defaultdict(<class 'int'>, {'Univ of California Press': 3, 'Princeton Architectural Press': 1, 'Andrews McMeel Publishing': 1, 'Oxford University Press, USA': 2, 'University of Toronto Press': 1, 'Frog Books': 1, 'U of Minnesota Press': 1, 'Fordham Univ Press': 1, 'University of Chicago Press': 1, 'Cambridge University Press': 1, 'Springer Science & Business Media': 1})\n",
      "defaultdict(<class 'int'>, {'Univ of California Press': 3, 'Princeton Architectural Press': 1, 'Andrews McMeel Publishing': 1, 'Oxford University Press, USA': 2, 'University of Toronto Press': 1, 'Frog Books': 1, 'U of Minnesota Press': 1, 'Fordham Univ Press': 1, 'University of Chicago Press': 1, 'Cambridge University Press': 1, 'Springer Science & Business Media': 1, 'Boydell Press': 1})\n",
      "defaultdict(<class 'int'>, {'Univ of California Press': 3, 'Princeton Architectural Press': 1, 'Andrews McMeel Publishing': 1, 'Oxford University Press, USA': 2, 'University of Toronto Press': 1, 'Frog Books': 1, 'U of Minnesota Press': 1, 'Fordham Univ Press': 1, 'University of Chicago Press': 1, 'Cambridge University Press': 1, 'Springer Science & Business Media': 1, 'Boydell Press': 1, 'Cornell University Press': 1})\n",
      "defaultdict(<class 'int'>, {'Univ of California Press': 3, 'Princeton Architectural Press': 1, 'Andrews McMeel Publishing': 1, 'Oxford University Press, USA': 2, 'University of Toronto Press': 1, 'Frog Books': 1, 'U of Minnesota Press': 1, 'Fordham Univ Press': 1, 'University of Chicago Press': 1, 'Cambridge University Press': 2, 'Springer Science & Business Media': 1, 'Boydell Press': 1, 'Cornell University Press': 1})\n",
      "defaultdict(<class 'int'>, {'Univ of California Press': 3, 'Princeton Architectural Press': 1, 'Andrews McMeel Publishing': 1, 'Oxford University Press, USA': 2, 'University of Toronto Press': 1, 'Frog Books': 1, 'U of Minnesota Press': 1, 'Fordham Univ Press': 1, 'University of Chicago Press': 1, 'Cambridge University Press': 2, 'Springer Science & Business Media': 1, 'Boydell Press': 1, 'Cornell University Press': 1, 'Lexington Books': 1})\n",
      "defaultdict(<class 'int'>, {'Univ of California Press': 3, 'Princeton Architectural Press': 1, 'Andrews McMeel Publishing': 1, 'Oxford University Press, USA': 2, 'University of Toronto Press': 1, 'Frog Books': 1, 'U of Minnesota Press': 1, 'Fordham Univ Press': 1, 'University of Chicago Press': 1, 'Cambridge University Press': 2, 'Springer Science & Business Media': 1, 'Boydell Press': 1, 'Cornell University Press': 1, 'Lexington Books': 1, 'Manchester University Press': 1})\n",
      "defaultdict(<class 'int'>, {'Univ of California Press': 3, 'Princeton Architectural Press': 1, 'Andrews McMeel Publishing': 1, 'Oxford University Press, USA': 2, 'University of Toronto Press': 1, 'Frog Books': 1, 'U of Minnesota Press': 1, 'Fordham Univ Press': 1, 'University of Chicago Press': 1, 'Cambridge University Press': 2, 'Springer Science & Business Media': 2, 'Boydell Press': 1, 'Cornell University Press': 1, 'Lexington Books': 1, 'Manchester University Press': 1})\n",
      "defaultdict(<class 'int'>, {'Univ of California Press': 3, 'Princeton Architectural Press': 1, 'Andrews McMeel Publishing': 1, 'Oxford University Press, USA': 2, 'University of Toronto Press': 1, 'Frog Books': 1, 'U of Minnesota Press': 1, 'Fordham Univ Press': 1, 'University of Chicago Press': 1, 'Cambridge University Press': 2, 'Springer Science & Business Media': 2, 'Boydell Press': 1, 'Cornell University Press': 2, 'Lexington Books': 1, 'Manchester University Press': 1})\n",
      "defaultdict(<class 'int'>, {'Univ of California Press': 3, 'Princeton Architectural Press': 1, 'Andrews McMeel Publishing': 1, 'Oxford University Press, USA': 2, 'University of Toronto Press': 1, 'Frog Books': 1, 'U of Minnesota Press': 1, 'Fordham Univ Press': 1, 'University of Chicago Press': 1, 'Cambridge University Press': 2, 'Springer Science & Business Media': 2, 'Boydell Press': 1, 'Cornell University Press': 2, 'Lexington Books': 1, 'Manchester University Press': 1, 'Heritage Books': 1})\n",
      "defaultdict(<class 'int'>, {'Univ of California Press': 3, 'Princeton Architectural Press': 1, 'Andrews McMeel Publishing': 1, 'Oxford University Press, USA': 2, 'University of Toronto Press': 1, 'Frog Books': 1, 'U of Minnesota Press': 1, 'Fordham Univ Press': 1, 'University of Chicago Press': 1, 'Cambridge University Press': 2, 'Springer Science & Business Media': 2, 'Boydell Press': 1, 'Cornell University Press': 2, 'Lexington Books': 1, 'Manchester University Press': 1, 'Heritage Books': 1, 'Indiana University Press': 1})\n",
      "defaultdict(<class 'int'>, {'Univ of California Press': 3, 'Princeton Architectural Press': 1, 'Andrews McMeel Publishing': 1, 'Oxford University Press, USA': 2, 'University of Toronto Press': 1, 'Frog Books': 1, 'U of Minnesota Press': 1, 'Fordham Univ Press': 1, 'University of Chicago Press': 1, 'Cambridge University Press': 2, 'Springer Science & Business Media': 2, 'Boydell Press': 1, 'Cornell University Press': 2, 'Lexington Books': 1, 'Manchester University Press': 1, 'Heritage Books': 1, 'Indiana University Press': 1, 'Booksllc.Net': 1})\n",
      "defaultdict(<class 'int'>, {'Univ of California Press': 3, 'Princeton Architectural Press': 1, 'Andrews McMeel Publishing': 1, 'Oxford University Press, USA': 2, 'University of Toronto Press': 1, 'Frog Books': 1, 'U of Minnesota Press': 1, 'Fordham Univ Press': 1, 'University of Chicago Press': 1, 'Cambridge University Press': 2, 'Springer Science & Business Media': 2, 'Boydell Press': 1, 'Cornell University Press': 2, 'Lexington Books': 1, 'Manchester University Press': 1, 'Heritage Books': 1, 'Indiana University Press': 1, 'Booksllc.Net': 1, 'Psychology Press': 1})\n",
      "defaultdict(<class 'int'>, {'Univ of California Press': 3, 'Princeton Architectural Press': 1, 'Andrews McMeel Publishing': 1, 'Oxford University Press, USA': 2, 'University of Toronto Press': 1, 'Frog Books': 1, 'U of Minnesota Press': 1, 'Fordham Univ Press': 1, 'University of Chicago Press': 1, 'Cambridge University Press': 2, 'Springer Science & Business Media': 2, 'Boydell Press': 1, 'Cornell University Press': 2, 'Lexington Books': 1, 'Manchester University Press': 1, 'Heritage Books': 1, 'Indiana University Press': 1, 'Booksllc.Net': 1, 'Psychology Press': 1, 'Yale University Press': 1})\n",
      "defaultdict(<class 'int'>, {'Univ of California Press': 3, 'Princeton Architectural Press': 1, 'Andrews McMeel Publishing': 1, 'Oxford University Press, USA': 2, 'University of Toronto Press': 1, 'Frog Books': 1, 'U of Minnesota Press': 1, 'Fordham Univ Press': 1, 'University of Chicago Press': 1, 'Cambridge University Press': 2, 'Springer Science & Business Media': 3, 'Boydell Press': 1, 'Cornell University Press': 2, 'Lexington Books': 1, 'Manchester University Press': 1, 'Heritage Books': 1, 'Indiana University Press': 1, 'Booksllc.Net': 1, 'Psychology Press': 1, 'Yale University Press': 1})\n",
      "defaultdict(<class 'int'>, {'Univ of California Press': 3, 'Princeton Architectural Press': 1, 'Andrews McMeel Publishing': 1, 'Oxford University Press, USA': 2, 'University of Toronto Press': 1, 'Frog Books': 1, 'U of Minnesota Press': 1, 'Fordham Univ Press': 1, 'University of Chicago Press': 1, 'Cambridge University Press': 2, 'Springer Science & Business Media': 3, 'Boydell Press': 1, 'Cornell University Press': 2, 'Lexington Books': 1, 'Manchester University Press': 1, 'Heritage Books': 1, 'Indiana University Press': 1, 'Booksllc.Net': 1, 'Psychology Press': 1, 'Yale University Press': 1, 'North Atlantic Books': 1})\n",
      "defaultdict(<class 'int'>, {'Univ of California Press': 3, 'Princeton Architectural Press': 1, 'Andrews McMeel Publishing': 1, 'Oxford University Press, USA': 2, 'University of Toronto Press': 1, 'Frog Books': 1, 'U of Minnesota Press': 1, 'Fordham Univ Press': 1, 'University of Chicago Press': 1, 'Cambridge University Press': 2, 'Springer Science & Business Media': 3, 'Boydell Press': 1, 'Cornell University Press': 2, 'Lexington Books': 1, 'Manchester University Press': 1, 'Heritage Books': 1, 'Indiana University Press': 1, 'Booksllc.Net': 1, 'Psychology Press': 1, 'Yale University Press': 1, 'North Atlantic Books': 1, 'Penn State Press': 1})\n",
      "defaultdict(<class 'int'>, {'Univ of California Press': 3, 'Princeton Architectural Press': 1, 'Andrews McMeel Publishing': 1, 'Oxford University Press, USA': 2, 'University of Toronto Press': 1, 'Frog Books': 1, 'U of Minnesota Press': 1, 'Fordham Univ Press': 1, 'University of Chicago Press': 1, 'Cambridge University Press': 3, 'Springer Science & Business Media': 3, 'Boydell Press': 1, 'Cornell University Press': 2, 'Lexington Books': 1, 'Manchester University Press': 1, 'Heritage Books': 1, 'Indiana University Press': 1, 'Booksllc.Net': 1, 'Psychology Press': 1, 'Yale University Press': 1, 'North Atlantic Books': 1, 'Penn State Press': 1})\n",
      "defaultdict(<class 'int'>, {'Univ of California Press': 3, 'Princeton Architectural Press': 1, 'Andrews McMeel Publishing': 1, 'Oxford University Press, USA': 2, 'University of Toronto Press': 1, 'Frog Books': 1, 'U of Minnesota Press': 1, 'Fordham Univ Press': 1, 'University of Chicago Press': 1, 'Cambridge University Press': 3, 'Springer Science & Business Media': 3, 'Boydell Press': 1, 'Cornell University Press': 2, 'Lexington Books': 1, 'Manchester University Press': 1, 'Heritage Books': 1, 'Indiana University Press': 1, 'Booksllc.Net': 1, 'Psychology Press': 1, 'Yale University Press': 1, 'North Atlantic Books': 1, 'Penn State Press': 1, 'John Wiley & Sons': 1})\n",
      "defaultdict(<class 'int'>, {'Univ of California Press': 3, 'Princeton Architectural Press': 1, 'Andrews McMeel Publishing': 1, 'Oxford University Press, USA': 2, 'University of Toronto Press': 1, 'Frog Books': 1, 'U of Minnesota Press': 1, 'Fordham Univ Press': 1, 'University of Chicago Press': 1, 'Cambridge University Press': 3, 'Springer Science & Business Media': 3, 'Boydell Press': 1, 'Cornell University Press': 2, 'Lexington Books': 1, 'Manchester University Press': 1, 'Heritage Books': 1, 'Indiana University Press': 1, 'Booksllc.Net': 1, 'Psychology Press': 1, 'Yale University Press': 1, 'North Atlantic Books': 1, 'Penn State Press': 1, 'John Wiley & Sons': 1, 'None': 1})\n",
      "defaultdict(<class 'int'>, {'Univ of California Press': 3, 'Princeton Architectural Press': 1, 'Andrews McMeel Publishing': 1, 'Oxford University Press, USA': 2, 'University of Toronto Press': 1, 'Frog Books': 1, 'U of Minnesota Press': 1, 'Fordham Univ Press': 1, 'University of Chicago Press': 1, 'Cambridge University Press': 3, 'Springer Science & Business Media': 3, 'Boydell Press': 1, 'Cornell University Press': 2, 'Lexington Books': 1, 'Manchester University Press': 1, 'Heritage Books': 1, 'Indiana University Press': 1, 'Booksllc.Net': 1, 'Psychology Press': 1, 'Yale University Press': 1, 'North Atlantic Books': 1, 'Penn State Press': 1, 'John Wiley & Sons': 1, 'None': 1, 'Bloomsbury Publishing': 1})\n",
      "defaultdict(<class 'int'>, {'Univ of California Press': 3, 'Princeton Architectural Press': 1, 'Andrews McMeel Publishing': 1, 'Oxford University Press, USA': 2, 'University of Toronto Press': 1, 'Frog Books': 1, 'U of Minnesota Press': 1, 'Fordham Univ Press': 1, 'University of Chicago Press': 1, 'Cambridge University Press': 3, 'Springer Science & Business Media': 3, 'Boydell Press': 1, 'Cornell University Press': 2, 'Lexington Books': 1, 'Manchester University Press': 1, 'Heritage Books': 1, 'Indiana University Press': 1, 'Booksllc.Net': 1, 'Psychology Press': 1, 'Yale University Press': 1, 'North Atlantic Books': 1, 'Penn State Press': 1, 'John Wiley & Sons': 1, 'None': 2, 'Bloomsbury Publishing': 1})\n",
      "defaultdict(<class 'int'>, {'Univ of California Press': 3, 'Princeton Architectural Press': 1, 'Andrews McMeel Publishing': 1, 'Oxford University Press, USA': 2, 'University of Toronto Press': 1, 'Frog Books': 1, 'U of Minnesota Press': 1, 'Fordham Univ Press': 1, 'University of Chicago Press': 1, 'Cambridge University Press': 3, 'Springer Science & Business Media': 4, 'Boydell Press': 1, 'Cornell University Press': 2, 'Lexington Books': 1, 'Manchester University Press': 1, 'Heritage Books': 1, 'Indiana University Press': 1, 'Booksllc.Net': 1, 'Psychology Press': 1, 'Yale University Press': 1, 'North Atlantic Books': 1, 'Penn State Press': 1, 'John Wiley & Sons': 1, 'None': 2, 'Bloomsbury Publishing': 1})\n",
      "defaultdict(<class 'int'>, {'Univ of California Press': 3, 'Princeton Architectural Press': 1, 'Andrews McMeel Publishing': 1, 'Oxford University Press, USA': 2, 'University of Toronto Press': 1, 'Frog Books': 1, 'U of Minnesota Press': 1, 'Fordham Univ Press': 1, 'University of Chicago Press': 1, 'Cambridge University Press': 3, 'Springer Science & Business Media': 4, 'Boydell Press': 1, 'Cornell University Press': 2, 'Lexington Books': 1, 'Manchester University Press': 1, 'Heritage Books': 1, 'Indiana University Press': 1, 'Booksllc.Net': 1, 'Psychology Press': 1, 'Yale University Press': 1, 'North Atlantic Books': 1, 'Penn State Press': 1, 'John Wiley & Sons': 1, 'None': 2, 'Bloomsbury Publishing': 1, 'Arcadia Publishing': 1})\n",
      "defaultdict(<class 'int'>, {'Univ of California Press': 3, 'Princeton Architectural Press': 1, 'Andrews McMeel Publishing': 1, 'Oxford University Press, USA': 2, 'University of Toronto Press': 1, 'Frog Books': 1, 'U of Minnesota Press': 1, 'Fordham Univ Press': 1, 'University of Chicago Press': 1, 'Cambridge University Press': 3, 'Springer Science & Business Media': 4, 'Boydell Press': 1, 'Cornell University Press': 2, 'Lexington Books': 1, 'Manchester University Press': 1, 'Heritage Books': 1, 'Indiana University Press': 1, 'Booksllc.Net': 1, 'Psychology Press': 1, 'Yale University Press': 1, 'North Atlantic Books': 1, 'Penn State Press': 1, 'John Wiley & Sons': 1, 'None': 2, 'Bloomsbury Publishing': 1, 'Arcadia Publishing': 1, 'Gibbs Smith': 1})\n",
      "defaultdict(<class 'int'>, {'Univ of California Press': 3, 'Princeton Architectural Press': 1, 'Andrews McMeel Publishing': 1, 'Oxford University Press, USA': 2, 'University of Toronto Press': 1, 'Frog Books': 1, 'U of Minnesota Press': 1, 'Fordham Univ Press': 1, 'University of Chicago Press': 1, 'Cambridge University Press': 3, 'Springer Science & Business Media': 4, 'Boydell Press': 1, 'Cornell University Press': 2, 'Lexington Books': 1, 'Manchester University Press': 1, 'Heritage Books': 1, 'Indiana University Press': 1, 'Booksllc.Net': 1, 'Psychology Press': 1, 'Yale University Press': 1, 'North Atlantic Books': 1, 'Penn State Press': 1, 'John Wiley & Sons': 1, 'None': 2, 'Bloomsbury Publishing': 1, 'Arcadia Publishing': 1, 'Gibbs Smith': 1, 'Oxford University Press': 1})\n",
      "defaultdict(<class 'int'>, {'Univ of California Press': 3, 'Princeton Architectural Press': 1, 'Andrews McMeel Publishing': 1, 'Oxford University Press, USA': 2, 'University of Toronto Press': 1, 'Frog Books': 1, 'U of Minnesota Press': 1, 'Fordham Univ Press': 1, 'University of Chicago Press': 1, 'Cambridge University Press': 3, 'Springer Science & Business Media': 4, 'Boydell Press': 1, 'Cornell University Press': 2, 'Lexington Books': 1, 'Manchester University Press': 1, 'Heritage Books': 1, 'Indiana University Press': 1, 'Booksllc.Net': 1, 'Psychology Press': 1, 'Yale University Press': 1, 'North Atlantic Books': 1, 'Penn State Press': 1, 'John Wiley & Sons': 1, 'None': 2, 'Bloomsbury Publishing': 1, 'Arcadia Publishing': 1, 'Gibbs Smith': 1, 'Oxford University Press': 1, 'Routledge': 1})\n",
      "defaultdict(<class 'int'>, {'Univ of California Press': 3, 'Princeton Architectural Press': 1, 'Andrews McMeel Publishing': 1, 'Oxford University Press, USA': 2, 'University of Toronto Press': 1, 'Frog Books': 1, 'U of Minnesota Press': 1, 'Fordham Univ Press': 1, 'University of Chicago Press': 1, 'Cambridge University Press': 3, 'Springer Science & Business Media': 4, 'Boydell Press': 1, 'Cornell University Press': 2, 'Lexington Books': 1, 'Manchester University Press': 1, 'Heritage Books': 1, 'Indiana University Press': 1, 'Booksllc.Net': 1, 'Psychology Press': 1, 'Yale University Press': 1, 'North Atlantic Books': 1, 'Penn State Press': 1, 'John Wiley & Sons': 1, 'None': 2, 'Bloomsbury Publishing': 1, 'Arcadia Publishing': 1, 'Gibbs Smith': 1, 'Oxford University Press': 1, 'Routledge': 1, 'Sams Publishing': 1})\n"
     ]
    }
   ],
   "source": [
    "publisher_counter = defaultdict(int)\n",
    "\n",
    "for item in book_data['items']:\n",
    "    publisher = item['volumeInfo'].setdefault(\"publisher\", \"None\")\n",
    "    publisher_counter[publisher] +=1\n",
    "    print(publisher_counter)"
   ]
  },
  {
   "cell_type": "code",
   "execution_count": 100,
   "metadata": {},
   "outputs": [
    {
     "name": "stdout",
     "output_type": "stream",
     "text": [
      "Univ of California Press 3\n",
      "Princeton Architectural Press 1\n",
      "Andrews McMeel Publishing 1\n",
      "Oxford University Press, USA 2\n",
      "University of Toronto Press 1\n",
      "Frog Books 1\n",
      "U of Minnesota Press 1\n",
      "Fordham Univ Press 1\n",
      "University of Chicago Press 1\n",
      "Cambridge University Press 3\n",
      "Springer Science & Business Media 4\n",
      "Boydell Press 1\n",
      "Cornell University Press 2\n",
      "Lexington Books 1\n",
      "Manchester University Press 1\n",
      "Heritage Books 1\n",
      "Indiana University Press 1\n",
      "Booksllc.Net 1\n",
      "Psychology Press 1\n",
      "Yale University Press 1\n",
      "North Atlantic Books 1\n",
      "Penn State Press 1\n",
      "John Wiley & Sons 1\n",
      "None 2\n",
      "Bloomsbury Publishing 1\n",
      "Arcadia Publishing 1\n",
      "Gibbs Smith 1\n",
      "Oxford University Press 1\n",
      "Routledge 1\n",
      "Sams Publishing 1\n"
     ]
    }
   ],
   "source": [
    "for publisher, count in publisher_counter.items():\n",
    "    print(publisher, count)"
   ]
  },
  {
   "cell_type": "code",
   "execution_count": 101,
   "metadata": {},
   "outputs": [
    {
     "name": "stdout",
     "output_type": "stream",
     "text": [
      "999999\n",
      "999999\n"
     ]
    }
   ],
   "source": [
    "no_error_periodic_table = defaultdict(lambda: 999999)\n",
    "print(no_error_periodic_table['Hydrogen'])\n",
    "print(no_error_periodic_table['Blastium'])"
   ]
  },
  {
   "cell_type": "code",
   "execution_count": 102,
   "metadata": {},
   "outputs": [
    {
     "data": {
      "text/plain": [
       "defaultdict(<function __main__.<lambda>()>,\n",
       "            {'Hydrogen': 999999, 'Blastium': 999999})"
      ]
     },
     "execution_count": 102,
     "metadata": {},
     "output_type": "execute_result"
    }
   ],
   "source": [
    "no_error_periodic_table"
   ]
  },
  {
   "cell_type": "markdown",
   "metadata": {},
   "source": [
    "## Count items with Counter()"
   ]
  },
  {
   "cell_type": "code",
   "execution_count": 104,
   "metadata": {},
   "outputs": [
    {
     "name": "stdout",
     "output_type": "stream",
     "text": [
      "Counter({'Springer Science & Business Media': 4, 'Univ of California Press': 3, 'Cambridge University Press': 3, 'Oxford University Press, USA': 2, 'Cornell University Press': 2, 'None': 2, 'Princeton Architectural Press': 1, 'Andrews McMeel Publishing': 1, 'University of Toronto Press': 1, 'Frog Books': 1, 'U of Minnesota Press': 1, 'Fordham Univ Press': 1, 'University of Chicago Press': 1, 'Boydell Press': 1, 'Lexington Books': 1, 'Manchester University Press': 1, 'Heritage Books': 1, 'Indiana University Press': 1, 'Booksllc.Net': 1, 'Psychology Press': 1, 'Yale University Press': 1, 'North Atlantic Books': 1, 'Penn State Press': 1, 'John Wiley & Sons': 1, 'Bloomsbury Publishing': 1, 'Arcadia Publishing': 1, 'Gibbs Smith': 1, 'Oxford University Press': 1, 'Routledge': 1, 'Sams Publishing': 1})\n"
     ]
    }
   ],
   "source": [
    "berkeley_list = list()\n",
    "\n",
    "for item in book_data['items']:\n",
    "    berkeley_list.append(item['volumeInfo'].setdefault('publisher', 'None'))\n",
    "    \n",
    "berkeley_counter = Counter(berkeley_list)\n",
    "print(berkeley_counter)"
   ]
  },
  {
   "cell_type": "code",
   "execution_count": 119,
   "metadata": {},
   "outputs": [
    {
     "data": {
      "text/plain": [
       "[('Springer Science & Business Media', 4),\n",
       " ('Univ of California Press', 3),\n",
       " ('Cambridge University Press', 3),\n",
       " ('Oxford University Press, USA', 2),\n",
       " ('Cornell University Press', 2)]"
      ]
     },
     "execution_count": 119,
     "metadata": {},
     "output_type": "execute_result"
    }
   ],
   "source": [
    "berkeley_counter.most_common(5)"
   ]
  },
  {
   "cell_type": "code",
   "execution_count": 114,
   "metadata": {},
   "outputs": [],
   "source": [
    "response = urlopen('https://www.googleapis.com/books/v1/volumes?q=stanford&maxResults=40')\n",
    "rawData = response.read().decode(\"utf-8\")\n",
    "book_data = json.loads(rawData)"
   ]
  },
  {
   "cell_type": "code",
   "execution_count": 115,
   "metadata": {},
   "outputs": [
    {
     "name": "stdout",
     "output_type": "stream",
     "text": [
      "Counter({'None': 22, 'Stanford University Press': 5, 'College Prowler, Inc': 1, 'Sports Publishing LLC': 1, 'Cambridge University Press': 1, 'Courier Corporation': 1, 'Princeton Architectural Press': 1, 'Columbia University Press': 1, 'Oxford University Press on Demand': 1, \"McGill-Queen's Press - MQUP\": 1, 'Hoover Press': 1, 'Univ of California Press': 1, 'Read Books': 1, 'iUniverse': 1, 'DIANE Publishing': 1})\n"
     ]
    }
   ],
   "source": [
    "stanford_list = list()\n",
    "\n",
    "for item in book_data['items']:\n",
    "    stanford_list.append(item['volumeInfo'].setdefault('publisher', 'None'))\n",
    "    \n",
    "stanford_counter = Counter(stanford_list)\n",
    "print(stanford_counter)"
   ]
  },
  {
   "cell_type": "code",
   "execution_count": 118,
   "metadata": {},
   "outputs": [
    {
     "data": {
      "text/plain": [
       "[('None', 22),\n",
       " ('Stanford University Press', 5),\n",
       " ('College Prowler, Inc', 1),\n",
       " ('Sports Publishing LLC', 1),\n",
       " ('Cambridge University Press', 1)]"
      ]
     },
     "execution_count": 118,
     "metadata": {},
     "output_type": "execute_result"
    }
   ],
   "source": [
    "stanford_counter.most_common(5)"
   ]
  },
  {
   "cell_type": "code",
   "execution_count": 116,
   "metadata": {
    "scrolled": true
   },
   "outputs": [
    {
     "data": {
      "text/plain": [
       "Counter({'Univ of California Press': 4,\n",
       "         'Princeton Architectural Press': 2,\n",
       "         'Andrews McMeel Publishing': 1,\n",
       "         'Oxford University Press, USA': 2,\n",
       "         'University of Toronto Press': 1,\n",
       "         'Frog Books': 1,\n",
       "         'U of Minnesota Press': 1,\n",
       "         'Fordham Univ Press': 1,\n",
       "         'University of Chicago Press': 1,\n",
       "         'Cambridge University Press': 4,\n",
       "         'Springer Science & Business Media': 4,\n",
       "         'Boydell Press': 1,\n",
       "         'Cornell University Press': 2,\n",
       "         'Lexington Books': 1,\n",
       "         'Manchester University Press': 1,\n",
       "         'Heritage Books': 1,\n",
       "         'Indiana University Press': 1,\n",
       "         'Booksllc.Net': 1,\n",
       "         'Psychology Press': 1,\n",
       "         'Yale University Press': 1,\n",
       "         'North Atlantic Books': 1,\n",
       "         'Penn State Press': 1,\n",
       "         'John Wiley & Sons': 1,\n",
       "         'None': 24,\n",
       "         'Bloomsbury Publishing': 1,\n",
       "         'Arcadia Publishing': 1,\n",
       "         'Gibbs Smith': 1,\n",
       "         'Oxford University Press': 1,\n",
       "         'Routledge': 1,\n",
       "         'Sams Publishing': 1,\n",
       "         'College Prowler, Inc': 1,\n",
       "         'Sports Publishing LLC': 1,\n",
       "         'Stanford University Press': 5,\n",
       "         'Courier Corporation': 1,\n",
       "         'Columbia University Press': 1,\n",
       "         'Oxford University Press on Demand': 1,\n",
       "         \"McGill-Queen's Press - MQUP\": 1,\n",
       "         'Hoover Press': 1,\n",
       "         'Read Books': 1,\n",
       "         'iUniverse': 1,\n",
       "         'DIANE Publishing': 1})"
      ]
     },
     "execution_count": 116,
     "metadata": {},
     "output_type": "execute_result"
    }
   ],
   "source": [
    "berkeley_counter + stanford_counter"
   ]
  },
  {
   "cell_type": "code",
   "execution_count": 117,
   "metadata": {},
   "outputs": [
    {
     "data": {
      "text/plain": [
       "Counter({'Univ of California Press': 1,\n",
       "         'Princeton Architectural Press': 1,\n",
       "         'Cambridge University Press': 1,\n",
       "         'None': 2})"
      ]
     },
     "execution_count": 117,
     "metadata": {},
     "output_type": "execute_result"
    }
   ],
   "source": [
    "berkeley_counter & stanford_counter"
   ]
  },
  {
   "cell_type": "markdown",
   "metadata": {},
   "source": [
    "# Ordering dictionaries with OrderedDict()"
   ]
  },
  {
   "cell_type": "code",
   "execution_count": 123,
   "metadata": {},
   "outputs": [
    {
     "name": "stdout",
     "output_type": "stream",
     "text": [
      "('Univ of California Press', 3)\n",
      "('Princeton Architectural Press', 1)\n",
      "('Andrews McMeel Publishing', 1)\n",
      "('Oxford University Press, USA', 2)\n",
      "('University of Toronto Press', 1)\n",
      "('Frog Books', 1)\n",
      "('U of Minnesota Press', 1)\n",
      "('Fordham Univ Press', 1)\n",
      "('University of Chicago Press', 1)\n",
      "('Cambridge University Press', 3)\n",
      "('Springer Science & Business Media', 4)\n",
      "('Boydell Press', 1)\n",
      "('Cornell University Press', 2)\n",
      "('Lexington Books', 1)\n",
      "('Manchester University Press', 1)\n",
      "('Heritage Books', 1)\n",
      "('Indiana University Press', 1)\n",
      "('Booksllc.Net', 1)\n",
      "('Psychology Press', 1)\n",
      "('Yale University Press', 1)\n",
      "('North Atlantic Books', 1)\n",
      "('Penn State Press', 1)\n",
      "('John Wiley & Sons', 1)\n",
      "('None', 2)\n",
      "('Bloomsbury Publishing', 1)\n",
      "('Arcadia Publishing', 1)\n",
      "('Gibbs Smith', 1)\n",
      "('Oxford University Press', 1)\n",
      "('Routledge', 1)\n",
      "('Sams Publishing', 1)\n"
     ]
    }
   ],
   "source": [
    "for p in publisher_counter.items():\n",
    "    print(p)"
   ]
  },
  {
   "cell_type": "code",
   "execution_count": 131,
   "metadata": {},
   "outputs": [
    {
     "name": "stdout",
     "output_type": "stream",
     "text": [
      "('Univ of California Press', 3)\n",
      "('Princeton Architectural Press', 1)\n",
      "('Andrews McMeel Publishing', 1)\n",
      "('Oxford University Press, USA', 2)\n",
      "('University of Toronto Press', 1)\n",
      "('Frog Books', 1)\n",
      "('U of Minnesota Press', 1)\n",
      "('Fordham Univ Press', 1)\n",
      "('University of Chicago Press', 1)\n",
      "('Cambridge University Press', 3)\n",
      "('Springer Science & Business Media', 4)\n",
      "('Boydell Press', 1)\n",
      "('Cornell University Press', 2)\n",
      "('Lexington Books', 1)\n",
      "('Manchester University Press', 1)\n",
      "('Heritage Books', 1)\n",
      "('Indiana University Press', 1)\n",
      "('Booksllc.Net', 1)\n",
      "('Psychology Press', 1)\n",
      "('Yale University Press', 1)\n",
      "('North Atlantic Books', 1)\n",
      "('Penn State Press', 1)\n",
      "('John Wiley & Sons', 1)\n",
      "('None', 2)\n",
      "('Bloomsbury Publishing', 1)\n",
      "('Arcadia Publishing', 1)\n",
      "('Gibbs Smith', 1)\n",
      "('Oxford University Press', 1)\n",
      "('Routledge', 1)\n",
      "('Sams Publishing', 1)\n"
     ]
    }
   ],
   "source": [
    "from collections import OrderedDict\n",
    "\n",
    "publisher_counter = OrderedDict(berkeley_counter)\n",
    "\n",
    "for publisher in publisher_counter.items():\n",
    "    print(publisher)"
   ]
  },
  {
   "cell_type": "markdown",
   "metadata": {},
   "source": [
    "## Using deques"
   ]
  },
  {
   "cell_type": "code",
   "execution_count": 132,
   "metadata": {},
   "outputs": [
    {
     "name": "stdout",
     "output_type": "stream",
     "text": [
      "['Springer Science & Business Media', 'Univ of California Press', 'Cambridge University Press', 'Oxford University Press, USA', 'Cornell University Press', 'None', 'Princeton Architectural Press', 'Andrews McMeel Publishing', 'University of Toronto Press', 'Frog Books', 'U of Minnesota Press', 'Fordham Univ Press', 'University of Chicago Press', 'Boydell Press', 'Lexington Books', 'Manchester University Press', 'Heritage Books', 'Indiana University Press', 'Booksllc.Net', 'Psychology Press', 'Yale University Press', 'North Atlantic Books', 'Penn State Press', 'John Wiley & Sons', 'Bloomsbury Publishing', 'Arcadia Publishing', 'Gibbs Smith', 'Oxford University Press', 'Routledge', 'Sams Publishing']\n"
     ]
    }
   ],
   "source": [
    "berkeley_publisher_list_ordered = list()\n",
    "\n",
    "for key, value in berkeley_counter.most_common():\n",
    "    berkeley_publisher_list_ordered.append(key)\n",
    "    \n",
    "print(berkeley_publisher_list_ordered)"
   ]
  },
  {
   "cell_type": "code",
   "execution_count": 134,
   "metadata": {},
   "outputs": [
    {
     "name": "stdout",
     "output_type": "stream",
     "text": [
      "deque(['Univ of California Press', 'Cambridge University Press', 'Oxford University Press, USA', 'Cornell University Press', 'None', 'Princeton Architectural Press', 'Andrews McMeel Publishing', 'University of Toronto Press', 'Frog Books', 'U of Minnesota Press', 'Fordham Univ Press', 'University of Chicago Press', 'Boydell Press', 'Lexington Books', 'Manchester University Press', 'Heritage Books', 'Indiana University Press', 'Booksllc.Net', 'Psychology Press', 'Yale University Press', 'North Atlantic Books', 'Penn State Press', 'John Wiley & Sons', 'Bloomsbury Publishing', 'Arcadia Publishing', 'Gibbs Smith', 'Oxford University Press', 'Routledge'])\n"
     ]
    }
   ],
   "source": [
    "from collections import deque\n",
    "\n",
    "berkeley_publisher_list_ordered_deque = deque(berkeley_publisher_list_ordered)\n",
    "berkeley_publisher_list_ordered_deque.pop()\n",
    "berkeley_publisher_list_ordered_deque.popleft()\n",
    "print(berkeley_publisher_list_ordered_deque)\n"
   ]
  },
  {
   "cell_type": "markdown",
   "metadata": {},
   "source": [
    "## Pretty print with pprint"
   ]
  },
  {
   "cell_type": "code",
   "execution_count": 136,
   "metadata": {},
   "outputs": [
    {
     "name": "stdout",
     "output_type": "stream",
     "text": [
      "['Springer Science & Business Media',\n",
      " 'Univ of California Press',\n",
      " 'Cambridge University Press',\n",
      " 'Oxford University Press, USA',\n",
      " 'Cornell University Press',\n",
      " 'None',\n",
      " 'Princeton Architectural Press',\n",
      " 'Andrews McMeel Publishing',\n",
      " 'University of Toronto Press',\n",
      " 'Frog Books',\n",
      " 'U of Minnesota Press',\n",
      " 'Fordham Univ Press',\n",
      " 'University of Chicago Press',\n",
      " 'Boydell Press',\n",
      " 'Lexington Books',\n",
      " 'Manchester University Press',\n",
      " 'Heritage Books',\n",
      " 'Indiana University Press',\n",
      " 'Booksllc.Net',\n",
      " 'Psychology Press',\n",
      " 'Yale University Press',\n",
      " 'North Atlantic Books',\n",
      " 'Penn State Press',\n",
      " 'John Wiley & Sons',\n",
      " 'Bloomsbury Publishing',\n",
      " 'Arcadia Publishing',\n",
      " 'Gibbs Smith',\n",
      " 'Oxford University Press',\n",
      " 'Routledge',\n",
      " 'Sams Publishing']\n"
     ]
    }
   ],
   "source": [
    "from pprint import pprint\n",
    "\n",
    "pprint(berkeley_publisher_list_ordered)"
   ]
  },
  {
   "cell_type": "markdown",
   "metadata": {},
   "source": [
    "## Book Exercises"
   ]
  },
  {
   "cell_type": "markdown",
   "metadata": {},
   "source": [
    "5.1. Make a file called zoo.py. In it, define a function called hours that prints the string 'Open 9-5 daily'. Then, use the interactive interpreter to import the zoo module and call its hours function. Here’s zoo.py:"
   ]
  },
  {
   "cell_type": "code",
   "execution_count": 138,
   "metadata": {},
   "outputs": [],
   "source": [
    "import zoo"
   ]
  },
  {
   "cell_type": "code",
   "execution_count": 141,
   "metadata": {},
   "outputs": [
    {
     "name": "stdout",
     "output_type": "stream",
     "text": [
      "Open 9-5 daily.\n"
     ]
    }
   ],
   "source": [
    "zoo.hours()"
   ]
  },
  {
   "cell_type": "markdown",
   "metadata": {},
   "source": [
    "5.2. In the interactive interpreter, import the zoo module as menagerie and call its hours() function."
   ]
  },
  {
   "cell_type": "code",
   "execution_count": 142,
   "metadata": {},
   "outputs": [
    {
     "name": "stdout",
     "output_type": "stream",
     "text": [
      "Open 9-5 daily.\n"
     ]
    }
   ],
   "source": [
    "import zoo as menagerie\n",
    "\n",
    "menagerie.hours()"
   ]
  },
  {
   "cell_type": "markdown",
   "metadata": {},
   "source": [
    "5.3. Staying in the interpreter, import the hours() function from zoo directly and call it."
   ]
  },
  {
   "cell_type": "code",
   "execution_count": 143,
   "metadata": {},
   "outputs": [
    {
     "name": "stdout",
     "output_type": "stream",
     "text": [
      "Open 9-5 daily.\n"
     ]
    }
   ],
   "source": [
    "from zoo import hours\n",
    "\n",
    "hours()"
   ]
  },
  {
   "cell_type": "markdown",
   "metadata": {},
   "source": [
    "5.4. Import the hours() function as info and call it."
   ]
  },
  {
   "cell_type": "code",
   "execution_count": 146,
   "metadata": {},
   "outputs": [
    {
     "name": "stdout",
     "output_type": "stream",
     "text": [
      "Open 9-5 daily.\n"
     ]
    }
   ],
   "source": [
    "from zoo import hours as info\n",
    "\n",
    "info()"
   ]
  },
  {
   "cell_type": "markdown",
   "metadata": {},
   "source": [
    "5.5 Make a dictionary called plain with the key-value pairs 'a': 1, 'b': 2, and 'c': 3, and then print it."
   ]
  },
  {
   "cell_type": "code",
   "execution_count": 148,
   "metadata": {
    "scrolled": true
   },
   "outputs": [
    {
     "name": "stdout",
     "output_type": "stream",
     "text": [
      "{'a': 1, 'b': 2, 'c': 3}\n"
     ]
    }
   ],
   "source": [
    "plain_dc = { 'a': 1, 'b': 2, 'c': 3, }\n",
    "print(plain_dc)"
   ]
  },
  {
   "cell_type": "markdown",
   "metadata": {},
   "source": [
    "5.6. Make an OrderedDict called fancy from the same pairs and print it. Did it print in the same order as plain?"
   ]
  },
  {
   "cell_type": "code",
   "execution_count": 151,
   "metadata": {},
   "outputs": [
    {
     "data": {
      "text/plain": [
       "OrderedDict([('a', 1), ('b', 2), ('c', 3)])"
      ]
     },
     "execution_count": 151,
     "metadata": {},
     "output_type": "execute_result"
    }
   ],
   "source": [
    "fancy = OrderedDict(plain_dc)\n",
    "fancy"
   ]
  },
  {
   "cell_type": "markdown",
   "metadata": {},
   "source": [
    "5.7. Make a defaultdict called dict_of_lists and pass it the argument list. Make the list dict_of_lists['a'] and append the value 'something for a' to it in one assignment. Print dict_of_lists['a']."
   ]
  },
  {
   "cell_type": "code",
   "execution_count": 153,
   "metadata": {},
   "outputs": [],
   "source": [
    "dict_of_lists = defaultdict(list)"
   ]
  },
  {
   "cell_type": "code",
   "execution_count": 154,
   "metadata": {},
   "outputs": [],
   "source": [
    "dict_of_lists['a'].append('somethin for a')"
   ]
  },
  {
   "cell_type": "code",
   "execution_count": 155,
   "metadata": {},
   "outputs": [
    {
     "name": "stdout",
     "output_type": "stream",
     "text": [
      "['somethin for a']\n"
     ]
    }
   ],
   "source": [
    "print(dict_of_lists['a'])"
   ]
  },
  {
   "cell_type": "code",
   "execution_count": 156,
   "metadata": {},
   "outputs": [
    {
     "ename": "KeyError",
     "evalue": "'a'",
     "output_type": "error",
     "traceback": [
      "\u001b[0;31m---------------------------------------------------------------------------\u001b[0m",
      "\u001b[0;31mKeyError\u001b[0m                                  Traceback (most recent call last)",
      "\u001b[0;32m<ipython-input-156-f3b59a40690d>\u001b[0m in \u001b[0;36m<module>\u001b[0;34m\u001b[0m\n\u001b[1;32m      1\u001b[0m \u001b[0mlists_dc\u001b[0m \u001b[0;34m=\u001b[0m \u001b[0;34m{\u001b[0m\u001b[0;34m}\u001b[0m\u001b[0;34m\u001b[0m\u001b[0;34m\u001b[0m\u001b[0m\n\u001b[0;32m----> 2\u001b[0;31m \u001b[0mlists_dc\u001b[0m\u001b[0;34m[\u001b[0m\u001b[0;34m'a'\u001b[0m\u001b[0;34m]\u001b[0m\u001b[0;34m.\u001b[0m\u001b[0mappend\u001b[0m\u001b[0;34m(\u001b[0m\u001b[0;34m'somethin for a'\u001b[0m\u001b[0;34m)\u001b[0m\u001b[0;34m\u001b[0m\u001b[0;34m\u001b[0m\u001b[0m\n\u001b[0m\u001b[1;32m      3\u001b[0m \u001b[0mprint\u001b[0m\u001b[0;34m(\u001b[0m\u001b[0mlists_dc\u001b[0m\u001b[0;34m)\u001b[0m\u001b[0;34m\u001b[0m\u001b[0;34m\u001b[0m\u001b[0m\n",
      "\u001b[0;31mKeyError\u001b[0m: 'a'"
     ]
    }
   ],
   "source": [
    "lists_dc = {}\n",
    "lists_dc['a'].append('somethin for a')\n",
    "print(lists_dc)"
   ]
  }
 ],
 "metadata": {
  "kernelspec": {
   "display_name": "Python Analytics",
   "language": "python",
   "name": "analytics_py3"
  },
  "language_info": {
   "codemirror_mode": {
    "name": "ipython",
    "version": 3
   },
   "file_extension": ".py",
   "mimetype": "text/x-python",
   "name": "python",
   "nbconvert_exporter": "python",
   "pygments_lexer": "ipython3",
   "version": "3.7.4"
  }
 },
 "nbformat": 4,
 "nbformat_minor": 2
}
