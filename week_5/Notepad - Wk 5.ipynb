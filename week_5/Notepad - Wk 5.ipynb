{
 "cells": [
  {
   "cell_type": "markdown",
   "metadata": {},
   "source": [
    "# Video Notes"
   ]
  },
  {
   "cell_type": "markdown",
   "metadata": {},
   "source": [
    "## Fuctions"
   ]
  },
  {
   "cell_type": "code",
   "execution_count": 1,
   "metadata": {},
   "outputs": [],
   "source": [
    "def print_stuff():\n",
    "    print('some stuff')"
   ]
  },
  {
   "cell_type": "code",
   "execution_count": 2,
   "metadata": {},
   "outputs": [
    {
     "data": {
      "text/plain": [
       "<function __main__.print_stuff()>"
      ]
     },
     "execution_count": 2,
     "metadata": {},
     "output_type": "execute_result"
    }
   ],
   "source": [
    "print_stuff"
   ]
  },
  {
   "cell_type": "code",
   "execution_count": 4,
   "metadata": {},
   "outputs": [
    {
     "name": "stdout",
     "output_type": "stream",
     "text": [
      "some stuff\n"
     ]
    }
   ],
   "source": [
    "print_stuff()"
   ]
  },
  {
   "cell_type": "code",
   "execution_count": 18,
   "metadata": {},
   "outputs": [],
   "source": [
    "def sqrt__(x, epsilon):\n",
    "    '''\n",
    "    Newton's method for finding square roots \n",
    "    to within a precision epsilon\n",
    "    '''\n",
    "    num_iterations = 0\n",
    "    ans = 1  # first guest\n",
    "    while abs(x/ ans - ans) > 2 * epsilon:  # keep shortening the testing interval\n",
    "        ans = (x/ans + ans) /2  #  pick the bisectrix until x /ans is close to ans\n",
    "        num_iterations += 1\n",
    "    \n",
    "    return ans\n",
    "\n",
    "        "
   ]
  },
  {
   "cell_type": "code",
   "execution_count": 20,
   "metadata": {},
   "outputs": [
    {
     "name": "stdout",
     "output_type": "stream",
     "text": [
      "2.2360688956433634 is close to the square root of 5\n",
      "1.4953562995298426 is close to the fourth root of 5\n"
     ]
    }
   ],
   "source": [
    "square_root = sqrt__(5, 0.00001)\n",
    "print(square_root, \"is close to the square root of 5\")\n",
    "fourth_root = sqrt__(square_root, 0.00001)\n",
    "print(fourth_root, \"is close to the fourth root of 5\")"
   ]
  },
  {
   "cell_type": "markdown",
   "metadata": {},
   "source": [
    "## Nesting Functions"
   ]
  },
  {
   "cell_type": "code",
   "execution_count": 30,
   "metadata": {},
   "outputs": [],
   "source": [
    "def distance_to_origin(x, y):\n",
    "    '''\n",
    "    Find the distance from a point at (x,y) to the origin.\n",
    "    '''\n",
    "    ans = sqrt__(float(x)**2 + float(y)**2, 0.000001)  # pythagoras theorem\n",
    "    return ans\n",
    "\n",
    "def geometric_mean(x, y):\n",
    "    '''\n",
    "    Compute the square root of x * y.\n",
    "    '''\n",
    "    return sqrt__(float(x) * float(y), 0.000001)"
   ]
  },
  {
   "cell_type": "code",
   "execution_count": 31,
   "metadata": {
    "scrolled": true
   },
   "outputs": [
    {
     "name": "stdout",
     "output_type": "stream",
     "text": [
      "Enter an x coordiante:3\n",
      "Enter an y coordiante:4\n",
      "The maginitude of your vector is 5.000000000053722\n",
      "The geometric mean of x and y is 3.4641016533502986\n"
     ]
    }
   ],
   "source": [
    "x = input(\"Enter an x coordiante:\")\n",
    "y = input(\"Enter an y coordiante:\")\n",
    "\n",
    "magnitude = distance_to_origin(x, y)\n",
    "print(\"The maginitude of your vector is\", magnitude)\n",
    "\n",
    "geo_mean = geometric_mean(x, y)\n",
    "print(\"The geometric mean of x and y is\", geo_mean)"
   ]
  },
  {
   "cell_type": "markdown",
   "metadata": {},
   "source": [
    "## Namespaces\n",
    "\n",
    "e.g. global and local (usually changes by function)"
   ]
  },
  {
   "cell_type": "code",
   "execution_count": 35,
   "metadata": {},
   "outputs": [
    {
     "name": "stdout",
     "output_type": "stream",
     "text": [
      "In the fucntion, x = 4\n",
      "The fucntion returned 4\n",
      "Outside the function, x is 3\n"
     ]
    }
   ],
   "source": [
    "def add_one(x):\n",
    "    x = x + 1\n",
    "    print(\"In the fucntion, x =\", x)\n",
    "    return x\n",
    "\n",
    "x = 3\n",
    "result = add_one(x)\n",
    "print('The fucntion returned', result)\n",
    "print('Outside the function, x is', x)"
   ]
  },
  {
   "cell_type": "code",
   "execution_count": 37,
   "metadata": {},
   "outputs": [
    {
     "name": "stdout",
     "output_type": "stream",
     "text": [
      "In the fucntion, x = 3\n",
      "In the fucntion, y = 4\n",
      "The fucntion returned 4\n",
      "Outside the function, x is 3\n",
      "Outside the function, y is 3\n"
     ]
    }
   ],
   "source": [
    "def add_one(x):\n",
    "    y = x + 1\n",
    "    print(\"In the fucntion, x =\", x)\n",
    "    print(\"In the fucntion, y =\", y)\n",
    "    return y\n",
    "\n",
    "x = 3\n",
    "y = 3\n",
    "result = add_one(x)\n",
    "print('The fucntion returned', result)\n",
    "print('Outside the function, x is', x)\n",
    "print('Outside the function, y is', y)"
   ]
  },
  {
   "cell_type": "markdown",
   "metadata": {},
   "source": [
    "## Accessing global variables"
   ]
  },
  {
   "cell_type": "code",
   "execution_count": 41,
   "metadata": {},
   "outputs": [],
   "source": [
    "def add_y(x):\n",
    "    ans = x + y  # note that there is no local y variable\n",
    "    print('In the function y is', y)\n",
    "    return ans"
   ]
  },
  {
   "cell_type": "code",
   "execution_count": 43,
   "metadata": {},
   "outputs": [
    {
     "name": "stdout",
     "output_type": "stream",
     "text": [
      "In the function y is 5\n",
      "the function returned 8\n",
      "Outside the function y is 5\n"
     ]
    }
   ],
   "source": [
    "y = 5\n",
    "result = add_y(3)\n",
    "print(\"the function returned\", result)\n",
    "print(\"Outside the function y is\",  y)"
   ]
  },
  {
   "cell_type": "code",
   "execution_count": 44,
   "metadata": {},
   "outputs": [],
   "source": [
    "def change_y():\n",
    "    y = y + 1\n",
    "    print('In the function y is', y)"
   ]
  },
  {
   "cell_type": "code",
   "execution_count": 45,
   "metadata": {},
   "outputs": [
    {
     "ename": "UnboundLocalError",
     "evalue": "local variable 'y' referenced before assignment",
     "output_type": "error",
     "traceback": [
      "\u001b[0;31m---------------------------------------------------------------------------\u001b[0m",
      "\u001b[0;31mUnboundLocalError\u001b[0m                         Traceback (most recent call last)",
      "\u001b[0;32m<ipython-input-45-d4f121725bef>\u001b[0m in \u001b[0;36m<module>\u001b[0;34m\u001b[0m\n\u001b[1;32m      1\u001b[0m \u001b[0my\u001b[0m \u001b[0;34m=\u001b[0m \u001b[0;36m5\u001b[0m\u001b[0;34m\u001b[0m\u001b[0;34m\u001b[0m\u001b[0m\n\u001b[0;32m----> 2\u001b[0;31m \u001b[0mchange_y\u001b[0m\u001b[0;34m(\u001b[0m\u001b[0;34m)\u001b[0m\u001b[0;34m\u001b[0m\u001b[0;34m\u001b[0m\u001b[0m\n\u001b[0m\u001b[1;32m      3\u001b[0m \u001b[0mprint\u001b[0m\u001b[0;34m(\u001b[0m\u001b[0;34m'Outside the function, y is'\u001b[0m\u001b[0;34m,\u001b[0m \u001b[0my\u001b[0m\u001b[0;34m)\u001b[0m\u001b[0;34m\u001b[0m\u001b[0;34m\u001b[0m\u001b[0m\n",
      "\u001b[0;32m<ipython-input-44-9bb9b36255d8>\u001b[0m in \u001b[0;36mchange_y\u001b[0;34m()\u001b[0m\n\u001b[1;32m      1\u001b[0m \u001b[0;32mdef\u001b[0m \u001b[0mchange_y\u001b[0m\u001b[0;34m(\u001b[0m\u001b[0;34m)\u001b[0m\u001b[0;34m:\u001b[0m\u001b[0;34m\u001b[0m\u001b[0;34m\u001b[0m\u001b[0m\n\u001b[0;32m----> 2\u001b[0;31m     \u001b[0my\u001b[0m \u001b[0;34m=\u001b[0m \u001b[0my\u001b[0m \u001b[0;34m+\u001b[0m \u001b[0;36m1\u001b[0m\u001b[0;34m\u001b[0m\u001b[0;34m\u001b[0m\u001b[0m\n\u001b[0m\u001b[1;32m      3\u001b[0m     \u001b[0mprint\u001b[0m\u001b[0;34m(\u001b[0m\u001b[0;34m'In the function y is'\u001b[0m\u001b[0;34m,\u001b[0m \u001b[0my\u001b[0m\u001b[0;34m)\u001b[0m\u001b[0;34m\u001b[0m\u001b[0;34m\u001b[0m\u001b[0m\n",
      "\u001b[0;31mUnboundLocalError\u001b[0m: local variable 'y' referenced before assignment"
     ]
    }
   ],
   "source": [
    "y = 5\n",
    "change_y()\n",
    "print('Outside the function, y is', y)"
   ]
  },
  {
   "cell_type": "markdown",
   "metadata": {},
   "source": [
    "Key steps in running a function:\n",
    "1. Create a new local namespace\n",
    "2. For each paramenter, create a new local variable and bind it to the argument\n",
    "3. For each assigment statement, if the name of the variable is not in the local namespace, then create a new local variable\n",
    "4. Execute statements"
   ]
  },
  {
   "cell_type": "code",
   "execution_count": 46,
   "metadata": {},
   "outputs": [],
   "source": [
    "def change_y():\n",
    "    global y  # since there is no y paramenter being passed and there is no local object being defined as y\n",
    "    y = y + 1  # we need to pass the globla y variables as a parameter\n",
    "    print('In the function y is', y)"
   ]
  },
  {
   "cell_type": "code",
   "execution_count": 48,
   "metadata": {},
   "outputs": [
    {
     "name": "stdout",
     "output_type": "stream",
     "text": [
      "In the function y is 6\n",
      "Outside the function, y is 6\n"
     ]
    }
   ],
   "source": [
    "y = 5\n",
    "change_y()\n",
    "print('Outside the function, y is', y)"
   ]
  },
  {
   "cell_type": "markdown",
   "metadata": {},
   "source": [
    "Note that the global variable y changed"
   ]
  },
  {
   "cell_type": "markdown",
   "metadata": {},
   "source": [
    "## Function Parameters"
   ]
  },
  {
   "cell_type": "code",
   "execution_count": 50,
   "metadata": {},
   "outputs": [],
   "source": [
    "def feedback(grade, comment= ''):\n",
    "    if grade >= 90 and grade <= 100:\n",
    "        return('A ' + comment)\n",
    "    elif grade >= 80 and grade < 90:\n",
    "        return('B ' + comment)\n",
    "    elif grade >= 70 and grade < 80:\n",
    "        return('C ' + comment)\n",
    "    elif grade >= 60 and grade < 70:\n",
    "        return('D ' + comment)\n",
    "    else:\n",
    "        return('F ' + comment)"
   ]
  },
  {
   "cell_type": "code",
   "execution_count": 51,
   "metadata": {
    "scrolled": true
   },
   "outputs": [
    {
     "name": "stdout",
     "output_type": "stream",
     "text": [
      "A Great work!\n"
     ]
    }
   ],
   "source": [
    "print(feedback(90, 'Great work!'))"
   ]
  },
  {
   "cell_type": "code",
   "execution_count": 52,
   "metadata": {},
   "outputs": [
    {
     "name": "stdout",
     "output_type": "stream",
     "text": [
      "B \n"
     ]
    }
   ],
   "source": [
    "print(feedback(80))"
   ]
  },
  {
   "cell_type": "code",
   "execution_count": 53,
   "metadata": {},
   "outputs": [
    {
     "name": "stdout",
     "output_type": "stream",
     "text": [
      "C Please study more\n"
     ]
    }
   ],
   "source": [
    "print(feedback(75, 'Please study more'))"
   ]
  },
  {
   "cell_type": "code",
   "execution_count": 54,
   "metadata": {},
   "outputs": [
    {
     "data": {
      "text/plain": [
       "NoneType"
      ]
     },
     "execution_count": 54,
     "metadata": {},
     "output_type": "execute_result"
    }
   ],
   "source": [
    "type(None)"
   ]
  },
  {
   "cell_type": "code",
   "execution_count": 60,
   "metadata": {},
   "outputs": [],
   "source": [
    "def feedback(grade= None, comment= None):\n",
    "    \n",
    "    text = '' if comment == None else '- ' + comment\n",
    "    \n",
    "    if grade == None:\n",
    "        return(\"Grade is missing. \" + text)\n",
    "    elif grade >= 90 and grade <= 100:\n",
    "        return('A ' + text)\n",
    "    elif grade >= 80 and grade < 90:\n",
    "        return('B ' + text)\n",
    "    elif grade >= 70 and grade < 80:\n",
    "        return('C ' + text)\n",
    "    elif grade >= 60 and grade < 70:\n",
    "        return('D ' + text)\n",
    "    else:\n",
    "        return('F ' + text)"
   ]
  },
  {
   "cell_type": "code",
   "execution_count": 61,
   "metadata": {},
   "outputs": [
    {
     "name": "stdout",
     "output_type": "stream",
     "text": [
      "A - Great work!\n"
     ]
    }
   ],
   "source": [
    "print(feedback(90, 'Great work!'))"
   ]
  },
  {
   "cell_type": "code",
   "execution_count": 62,
   "metadata": {},
   "outputs": [
    {
     "name": "stdout",
     "output_type": "stream",
     "text": [
      "B \n"
     ]
    }
   ],
   "source": [
    "print(feedback(80))"
   ]
  },
  {
   "cell_type": "code",
   "execution_count": 63,
   "metadata": {},
   "outputs": [
    {
     "name": "stdout",
     "output_type": "stream",
     "text": [
      "C - Please study more\n"
     ]
    }
   ],
   "source": [
    "print(feedback(75, 'Please study more'))"
   ]
  },
  {
   "cell_type": "code",
   "execution_count": 64,
   "metadata": {},
   "outputs": [
    {
     "name": "stdout",
     "output_type": "stream",
     "text": [
      "Grade is missing. \n"
     ]
    }
   ],
   "source": [
    "print(feedback())"
   ]
  },
  {
   "cell_type": "code",
   "execution_count": 92,
   "metadata": {},
   "outputs": [],
   "source": [
    "def add_total(ls= []):\n",
    "    total = sum([quantity for name, quantity in ls])\n",
    "    ls.append( ('Total', total) )\n",
    "    print(ls)"
   ]
  },
  {
   "cell_type": "code",
   "execution_count": 93,
   "metadata": {},
   "outputs": [
    {
     "name": "stdout",
     "output_type": "stream",
     "text": [
      "[('Bob', 8), ('Teri', 3), ('Pat', 4), ('Total', 15)]\n"
     ]
    }
   ],
   "source": [
    "order_list = [('Bob', 8), ('Teri', 3), ('Pat', 4)]\n",
    "add_total(order_list)"
   ]
  },
  {
   "cell_type": "code",
   "execution_count": 94,
   "metadata": {},
   "outputs": [
    {
     "name": "stdout",
     "output_type": "stream",
     "text": [
      "[('Total', 0)]\n"
     ]
    }
   ],
   "source": [
    "add_total()"
   ]
  },
  {
   "cell_type": "code",
   "execution_count": 95,
   "metadata": {},
   "outputs": [
    {
     "name": "stdout",
     "output_type": "stream",
     "text": [
      "[('Total', 0), ('Total', 0)]\n"
     ]
    }
   ],
   "source": [
    "add_total()"
   ]
  },
  {
   "cell_type": "markdown",
   "metadata": {},
   "source": [
    "Note that the firstly defined local variable ls keeps it's value in the function"
   ]
  },
  {
   "cell_type": "markdown",
   "metadata": {},
   "source": [
    "## Keyword Arguments"
   ]
  },
  {
   "cell_type": "code",
   "execution_count": 101,
   "metadata": {},
   "outputs": [
    {
     "name": "stdout",
     "output_type": "stream",
     "text": [
      "A - Keep it up!\n"
     ]
    }
   ],
   "source": [
    "print(feedback(90, comment= 'Keep it up!'))"
   ]
  },
  {
   "cell_type": "code",
   "execution_count": 100,
   "metadata": {},
   "outputs": [
    {
     "name": "stdout",
     "output_type": "stream",
     "text": [
      "B - Keep it up!\n"
     ]
    }
   ],
   "source": [
    "print(feedback(comment= 'Keep it up!', grade= 88))"
   ]
  },
  {
   "cell_type": "markdown",
   "metadata": {},
   "source": [
    "When you specified the assigned value to an argument, you don't need to write arguments in order"
   ]
  },
  {
   "cell_type": "code",
   "execution_count": 106,
   "metadata": {},
   "outputs": [
    {
     "name": "stdout",
     "output_type": "stream",
     "text": [
      "Default\n",
      "print\n",
      "beahviour.\n",
      "Modified print beahviour."
     ]
    }
   ],
   "source": [
    "print('Default')\n",
    "print('print')\n",
    "print('beahviour.')\n",
    "\n",
    "print('Modified', end= ' ')\n",
    "print('print', end= ' ')\n",
    "print('beahviour', end='.')\n"
   ]
  },
  {
   "cell_type": "markdown",
   "metadata": {},
   "source": [
    "## Functions are objects"
   ]
  },
  {
   "cell_type": "code",
   "execution_count": 107,
   "metadata": {},
   "outputs": [],
   "source": [
    "def round10(x):\n",
    "    return ((x + 5) // 10) * 10"
   ]
  },
  {
   "cell_type": "code",
   "execution_count": 108,
   "metadata": {},
   "outputs": [
    {
     "data": {
      "text/plain": [
       "function"
      ]
     },
     "execution_count": 108,
     "metadata": {},
     "output_type": "execute_result"
    }
   ],
   "source": [
    "type(round10)"
   ]
  },
  {
   "cell_type": "code",
   "execution_count": 109,
   "metadata": {},
   "outputs": [
    {
     "data": {
      "text/plain": [
       "10"
      ]
     },
     "execution_count": 109,
     "metadata": {},
     "output_type": "execute_result"
    }
   ],
   "source": [
    "a = round10\n",
    "a(12)"
   ]
  },
  {
   "cell_type": "code",
   "execution_count": 110,
   "metadata": {},
   "outputs": [],
   "source": [
    "def apply_to_grades(operation, grade_list):\n",
    "    return [(name, operation(grade)) for name, grade in grade_list]"
   ]
  },
  {
   "cell_type": "code",
   "execution_count": 111,
   "metadata": {},
   "outputs": [
    {
     "name": "stdout",
     "output_type": "stream",
     "text": [
      "[('Betty', 90), ('Steve', 80), ('Bob', 70), ('Teri', 90), ('Sandy', 100)]\n"
     ]
    }
   ],
   "source": [
    "grade_list = [('Betty', 88), ('Steve', 75), ('Bob', 73), ('Teri', 94), ('Sandy', 97)]\n",
    "print(apply_to_grades(round10, grade_list))"
   ]
  },
  {
   "cell_type": "code",
   "execution_count": 113,
   "metadata": {},
   "outputs": [
    {
     "data": {
      "text/plain": [
       "[20, 50, 40, 70]"
      ]
     },
     "execution_count": 113,
     "metadata": {},
     "output_type": "execute_result"
    }
   ],
   "source": [
    "list(map(round10, [23, 45, 42, 66]))"
   ]
  },
  {
   "cell_type": "code",
   "execution_count": 114,
   "metadata": {},
   "outputs": [
    {
     "data": {
      "text/plain": [
       "<function __main__.<lambda>(x)>"
      ]
     },
     "execution_count": 114,
     "metadata": {},
     "output_type": "execute_result"
    }
   ],
   "source": [
    "lambda x: 100 - (100 - x) /2"
   ]
  },
  {
   "cell_type": "markdown",
   "metadata": {},
   "source": [
    "lambda signals an operation"
   ]
  },
  {
   "cell_type": "code",
   "execution_count": 116,
   "metadata": {},
   "outputs": [
    {
     "data": {
      "text/plain": [
       "[('Betty', 94.0),\n",
       " ('Steve', 87.5),\n",
       " ('Bob', 86.5),\n",
       " ('Teri', 97.0),\n",
       " ('Sandy', 98.5)]"
      ]
     },
     "execution_count": 116,
     "metadata": {},
     "output_type": "execute_result"
    }
   ],
   "source": [
    "apply_to_grades(lambda x: 100 - (100 - x) /2, grade_list) "
   ]
  },
  {
   "cell_type": "code",
   "execution_count": 119,
   "metadata": {},
   "outputs": [
    {
     "name": "stdout",
     "output_type": "stream",
     "text": [
      "Betty in: 88\n",
      "Betty out: 94.0\n"
     ]
    }
   ],
   "source": [
    "print('Betty in:', 88)\n",
    "print('Betty out:', 100 - (100 - 88)/2)"
   ]
  },
  {
   "cell_type": "code",
   "execution_count": 123,
   "metadata": {},
   "outputs": [
    {
     "data": {
      "text/plain": [
       "[4, 9, 16, 25, 36, 49, 64]"
      ]
     },
     "execution_count": 123,
     "metadata": {},
     "output_type": "execute_result"
    }
   ],
   "source": [
    "list(map(lambda x: x**2, range(2,9)))"
   ]
  },
  {
   "cell_type": "markdown",
   "metadata": {},
   "source": [
    "## Exceptions"
   ]
  },
  {
   "cell_type": "code",
   "execution_count": 125,
   "metadata": {},
   "outputs": [
    {
     "name": "stdout",
     "output_type": "stream",
     "text": [
      "Enter a number: k\n"
     ]
    },
    {
     "ename": "ValueError",
     "evalue": "invalid literal for int() with base 10: 'k'",
     "output_type": "error",
     "traceback": [
      "\u001b[0;31m---------------------------------------------------------------------------\u001b[0m",
      "\u001b[0;31mValueError\u001b[0m                                Traceback (most recent call last)",
      "\u001b[0;32m<ipython-input-125-5abcb6aed2e5>\u001b[0m in \u001b[0;36m<module>\u001b[0;34m\u001b[0m\n\u001b[0;32m----> 1\u001b[0;31m \u001b[0mx\u001b[0m \u001b[0;34m=\u001b[0m \u001b[0mint\u001b[0m\u001b[0;34m(\u001b[0m\u001b[0minput\u001b[0m\u001b[0;34m(\u001b[0m\u001b[0;34m\"Enter a number: \"\u001b[0m\u001b[0;34m)\u001b[0m\u001b[0;34m)\u001b[0m\u001b[0;34m\u001b[0m\u001b[0;34m\u001b[0m\u001b[0m\n\u001b[0m\u001b[1;32m      2\u001b[0m \u001b[0mprint\u001b[0m\u001b[0;34m(\u001b[0m\u001b[0;34m'The reciprocal of your number is'\u001b[0m\u001b[0;34m,\u001b[0m \u001b[0;36m1\u001b[0m \u001b[0;34m/\u001b[0m\u001b[0mx\u001b[0m\u001b[0;34m)\u001b[0m\u001b[0;34m\u001b[0m\u001b[0;34m\u001b[0m\u001b[0m\n",
      "\u001b[0;31mValueError\u001b[0m: invalid literal for int() with base 10: 'k'"
     ]
    }
   ],
   "source": [
    "x = int(input(\"Enter a number: \"))\n",
    "print('The reciprocal of your number is', 1 /x)"
   ]
  },
  {
   "cell_type": "code",
   "execution_count": 127,
   "metadata": {},
   "outputs": [
    {
     "name": "stdout",
     "output_type": "stream",
     "text": [
      "Enter a number: O\n",
      "ERROR: You did not enter a valid number\n"
     ]
    }
   ],
   "source": [
    "try:\n",
    "    x = int(input(\"Enter a number: \"))\n",
    "    print('The reciprocal of your number is', 1 /x)\n",
    "except:\n",
    "    print('ERROR: You did not enter a valid number')"
   ]
  },
  {
   "cell_type": "code",
   "execution_count": 130,
   "metadata": {},
   "outputs": [
    {
     "name": "stdout",
     "output_type": "stream",
     "text": [
      "Enter a number: 0\n",
      "ERROR: Zero does not have a reciprocal\n"
     ]
    }
   ],
   "source": [
    "try:\n",
    "    x = int(input(\"Enter a number: \"))\n",
    "    print('The reciprocal of your number is', 1 /x)\n",
    "except ValueError:\n",
    "    print('ERROR: You did not enter a valid number')\n",
    "except ZeroDivisionError:\n",
    "    print('ERROR: Zero does not have a reciprocal')\n",
    "except:\n",
    "    print('ERROR')"
   ]
  },
  {
   "cell_type": "code",
   "execution_count": 135,
   "metadata": {},
   "outputs": [],
   "source": [
    "def sell(item, quantity, inventory):\n",
    "    item = str(item)\n",
    "    if item not in inventory:\n",
    "        raise Exception(item.title + ' does not appear in inventory.')\n",
    "    q = inventory[item]\n",
    "    if q < quantity:\n",
    "        raise Exception(\"Inventory does not contain enough of item to sell.\")\n",
    "    inventory[item] = q - quantity\n",
    "    \n",
    "    \n",
    "inventory_dc = {\n",
    "    'oranges': 10,\n",
    "    'apples': 5,\n",
    "    'plums': 3,\n",
    "}"
   ]
  },
  {
   "cell_type": "code",
   "execution_count": 136,
   "metadata": {},
   "outputs": [
    {
     "ename": "Exception",
     "evalue": "Inventory does not contain enough of item to sell.",
     "output_type": "error",
     "traceback": [
      "\u001b[0;31m---------------------------------------------------------------------------\u001b[0m",
      "\u001b[0;31mException\u001b[0m                                 Traceback (most recent call last)",
      "\u001b[0;32m<ipython-input-136-2834bb145d7b>\u001b[0m in \u001b[0;36m<module>\u001b[0;34m\u001b[0m\n\u001b[0;32m----> 1\u001b[0;31m \u001b[0msell\u001b[0m\u001b[0;34m(\u001b[0m\u001b[0;34m'oranges'\u001b[0m\u001b[0;34m,\u001b[0m \u001b[0;36m15\u001b[0m\u001b[0;34m,\u001b[0m \u001b[0minventory_dc\u001b[0m\u001b[0;34m)\u001b[0m\u001b[0;34m\u001b[0m\u001b[0;34m\u001b[0m\u001b[0m\n\u001b[0m",
      "\u001b[0;32m<ipython-input-135-965fec9ea2c0>\u001b[0m in \u001b[0;36msell\u001b[0;34m(item, quantity, inventory)\u001b[0m\n\u001b[1;32m      5\u001b[0m     \u001b[0mq\u001b[0m \u001b[0;34m=\u001b[0m \u001b[0minventory\u001b[0m\u001b[0;34m[\u001b[0m\u001b[0mitem\u001b[0m\u001b[0;34m]\u001b[0m\u001b[0;34m\u001b[0m\u001b[0;34m\u001b[0m\u001b[0m\n\u001b[1;32m      6\u001b[0m     \u001b[0;32mif\u001b[0m \u001b[0mq\u001b[0m \u001b[0;34m<\u001b[0m \u001b[0mquantity\u001b[0m\u001b[0;34m:\u001b[0m\u001b[0;34m\u001b[0m\u001b[0;34m\u001b[0m\u001b[0m\n\u001b[0;32m----> 7\u001b[0;31m         \u001b[0;32mraise\u001b[0m \u001b[0mException\u001b[0m\u001b[0;34m(\u001b[0m\u001b[0;34m\"Inventory does not contain enough of item to sell.\"\u001b[0m\u001b[0;34m)\u001b[0m\u001b[0;34m\u001b[0m\u001b[0;34m\u001b[0m\u001b[0m\n\u001b[0m\u001b[1;32m      8\u001b[0m     \u001b[0minventory\u001b[0m\u001b[0;34m[\u001b[0m\u001b[0mitem\u001b[0m\u001b[0;34m]\u001b[0m \u001b[0;34m=\u001b[0m \u001b[0mq\u001b[0m \u001b[0;34m-\u001b[0m \u001b[0mquantity\u001b[0m\u001b[0;34m\u001b[0m\u001b[0;34m\u001b[0m\u001b[0m\n\u001b[1;32m      9\u001b[0m \u001b[0;34m\u001b[0m\u001b[0m\n",
      "\u001b[0;31mException\u001b[0m: Inventory does not contain enough of item to sell."
     ]
    }
   ],
   "source": [
    "sell('oranges', 15, inventory_dc)"
   ]
  },
  {
   "cell_type": "code",
   "execution_count": 139,
   "metadata": {
    "scrolled": false
   },
   "outputs": [
    {
     "name": "stdout",
     "output_type": "stream",
     "text": [
      "Could not complete sales: Inventory does not contain enough of item to sell.\n"
     ]
    }
   ],
   "source": [
    "try:\n",
    "    sell('oranges', 15, inventory_dc)\n",
    "except Exception as e:\n",
    "    print('Could not complete sales:', str(e))"
   ]
  },
  {
   "cell_type": "markdown",
   "metadata": {},
   "source": [
    "# Book exercises: Chapter 4"
   ]
  },
  {
   "cell_type": "markdown",
   "metadata": {},
   "source": [
    "4.7 Use a generator comprehension to return the string 'Got ' and a number for the numbers in range(10). Iterate through this by using a for loop."
   ]
  },
  {
   "cell_type": "code",
   "execution_count": 147,
   "metadata": {},
   "outputs": [
    {
     "name": "stdout",
     "output_type": "stream",
     "text": [
      "<class 'generator'>\n",
      "Got 0\n",
      "Got 1\n",
      "Got 2\n",
      "Got 3\n",
      "Got 4\n",
      "Got 5\n",
      "Got 6\n",
      "Got 7\n",
      "Got 8\n",
      "Got 9\n"
     ]
    }
   ],
   "source": [
    "got_num_gn = ('Got %s' % n for n in range(10))\n",
    "print(type(got_num_gn))\n",
    "\n",
    "for i in got_num_gn:\n",
    "    print(i)"
   ]
  },
  {
   "cell_type": "markdown",
   "metadata": {},
   "source": [
    "4.8 Define a function called good that returns the list ['Harry', 'Ron', 'Hermione']."
   ]
  },
  {
   "cell_type": "code",
   "execution_count": 149,
   "metadata": {},
   "outputs": [
    {
     "name": "stdout",
     "output_type": "stream",
     "text": [
      "['Harry', 'Ron', 'Hermione']\n"
     ]
    }
   ],
   "source": [
    "def good():\n",
    "    return ['Harry', 'Ron', 'Hermione']\n",
    "\n",
    "\n",
    "print(good())"
   ]
  },
  {
   "cell_type": "markdown",
   "metadata": {},
   "source": [
    "4.9 Define a generator function called get_odds that returns the odd numbers from range(10). Use a for loop to find and print the third value returned."
   ]
  },
  {
   "cell_type": "code",
   "execution_count": 187,
   "metadata": {},
   "outputs": [
    {
     "name": "stdout",
     "output_type": "stream",
     "text": [
      "The third odd number is: 5\n"
     ]
    }
   ],
   "source": [
    "def get_odds():\n",
    "    # for i in (n for n in range(10) if n % 2 != 0):\n",
    "    #    yield i\n",
    "    for n in range(1,10,2):\n",
    "        yield n  # yield value is used instead than return for generators\n",
    "    \n",
    "\n",
    "for p, v in enumerate(get_odds()):  # use enumerate to create tuple of position and value\n",
    "    if p == 2:  # if we use i == 2 on a list, the loop will never end because its looking for the value not the position\n",
    "        print('The third odd number is:', v)\n",
    "        break\n",
    "        "
   ]
  },
  {
   "cell_type": "markdown",
   "metadata": {},
   "source": [
    "4.10 Define a decorator called test that prints 'start' when a function is called and 'end' when it finishes."
   ]
  },
  {
   "cell_type": "code",
   "execution_count": null,
   "metadata": {},
   "outputs": [],
   "source": []
  },
  {
   "cell_type": "markdown",
   "metadata": {},
   "source": [
    "\n",
    "\n",
    "\n",
    "4.11 Define an exception called OopsException. Raise this exception to see what happens. Then write the code to catch this exception and print 'Caught an oops'.\n",
    "4.12 Use zip() to make a dictionary called movies that pairs these lists: titles = ['Creature of Habit', 'Crewel Fate'] and plots = ['A nun turns into a monster', 'A haunted yarn shop']."
   ]
  }
 ],
 "metadata": {
  "kernelspec": {
   "display_name": "Python 3",
   "language": "python",
   "name": "python3"
  },
  "language_info": {
   "codemirror_mode": {
    "name": "ipython",
    "version": 3
   },
   "file_extension": ".py",
   "mimetype": "text/x-python",
   "name": "python",
   "nbconvert_exporter": "python",
   "pygments_lexer": "ipython3",
   "version": "3.7.1"
  }
 },
 "nbformat": 4,
 "nbformat_minor": 2
}
