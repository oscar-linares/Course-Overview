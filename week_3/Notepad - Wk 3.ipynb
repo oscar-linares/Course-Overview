{
 "cells": [
  {
   "cell_type": "markdown",
   "metadata": {},
   "source": [
    "# Video Notes"
   ]
  },
  {
   "cell_type": "markdown",
   "metadata": {},
   "source": [
    "## Loops"
   ]
  },
  {
   "cell_type": "code",
   "execution_count": 8,
   "metadata": {},
   "outputs": [
    {
     "name": "stdout",
     "output_type": "stream",
     "text": [
      "5 4 3 2 1 Blast off!\n"
     ]
    }
   ],
   "source": [
    "countdown = 5\n",
    "while countdown > 0:\n",
    "   b     print(countdown, end= \" \")\n",
    "        countdown -= 1\n",
    "print('Blast off!')"
   ]
  },
  {
   "cell_type": "code",
   "execution_count": 9,
   "metadata": {},
   "outputs": [
    {
     "name": "stdout",
     "output_type": "stream",
     "text": [
      "5\n",
      "4\n",
      "3\n",
      "2\n",
      "1\n",
      "Blast off!\n"
     ]
    }
   ],
   "source": [
    "countdown = 5\n",
    "for x in range(countdown, 0, -1):\n",
    "    print(x)\n",
    "print('Blast off!')"
   ]
  },
  {
   "cell_type": "code",
   "execution_count": 10,
   "metadata": {},
   "outputs": [
    {
     "name": "stdout",
     "output_type": "stream",
     "text": [
      "enter an interger: 9\n",
      "0 1 2 3 4 5 6 7 8 9 \n",
      "0 1 2 3 4 5 6 7 8 \n",
      "0 1 2 3 4 5 6 7 \n",
      "0 1 2 3 4 5 6 \n",
      "0 1 2 3 4 5 \n",
      "0 1 2 3 4 \n",
      "0 1 2 3 \n",
      "0 1 2 \n",
      "0 1 \n",
      "0 \n"
     ]
    }
   ],
   "source": [
    "row = int(input(\"enter an interger: \"))\n",
    "\n",
    "while row >= 0:\n",
    "        j = 0\n",
    "        while j <= row:\n",
    "            print(j, end = ' ')\n",
    "            j += 1\n",
    "        print(\"\")\n",
    "        row -= 1\n",
    "        \n",
    "        "
   ]
  },
  {
   "cell_type": "code",
   "execution_count": 11,
   "metadata": {},
   "outputs": [
    {
     "name": "stdout",
     "output_type": "stream",
     "text": [
      "enter an interger: 9\n",
      "0 1 2 3 4 5 6 7 8 9 \n",
      "0 1 2 3 4 5 6 7 8 \n",
      "0 1 2 3 4 5 6 7 \n",
      "0 1 2 3 4 5 6 \n",
      "0 1 2 3 4 5 \n",
      "0 1 2 3 4 \n",
      "0 1 2 3 \n",
      "0 1 2 \n",
      "0 1 \n",
      "0 \n"
     ]
    }
   ],
   "source": [
    "row = int(input(\"enter an interger: \"))\n",
    "\n",
    "for x in range(row, -1, -1):\n",
    "    for j in range(x + 1):\n",
    "        print(j, end= ' ')\n",
    "    print('')"
   ]
  },
  {
   "cell_type": "code",
   "execution_count": 15,
   "metadata": {},
   "outputs": [
    {
     "name": "stdout",
     "output_type": "stream",
     "text": [
      "Enter your name: oscar\n",
      "s c r "
     ]
    }
   ],
   "source": [
    "x = input(\"Enter your name: \")\n",
    "\n",
    "for char in x:\n",
    "    if char.lower() not in \"aeiou\":\n",
    "        print(char, end= ' ')\n",
    "    \n",
    "    "
   ]
  },
  {
   "cell_type": "code",
   "execution_count": 17,
   "metadata": {},
   "outputs": [
    {
     "name": "stdout",
     "output_type": "stream",
     "text": [
      "Paul, as himself\n",
      "Bill, as himself\n",
      "Kay, as himself\n"
     ]
    }
   ],
   "source": [
    "x = ['Paul', 'Bill', 'Kay']\n",
    "\n",
    "for name in x:\n",
    "    print(name + ', as himself')"
   ]
  },
  {
   "cell_type": "markdown",
   "metadata": {},
   "source": [
    "## Loop Exists\n",
    "\n",
    "Example: test if x is prime"
   ]
  },
  {
   "cell_type": "code",
   "execution_count": 21,
   "metadata": {},
   "outputs": [
    {
     "name": "stdout",
     "output_type": "stream",
     "text": [
      "Enter a number: 41\n",
      "41 is prime\n"
     ]
    }
   ],
   "source": [
    "# testing the for loop\n",
    "x = int(input(\"Enter a number: \"))\n",
    "flag_prime = True\n",
    "\n",
    "for i in range(2, x):\n",
    "        # check if i devides x\n",
    "        if x % i == 0:\n",
    "            # now I know x is not prime\n",
    "            flag_prime = False\n",
    "\n",
    "if flag_prime == True:\n",
    "    print(x, \"is prime\")\n",
    "else:\n",
    "    print(x, \"is not prime\")"
   ]
  },
  {
   "cell_type": "markdown",
   "metadata": {},
   "source": [
    "We want to have a better algorithm by stoping as soon as the number can be divided by a number different than itself"
   ]
  },
  {
   "cell_type": "code",
   "execution_count": 30,
   "metadata": {},
   "outputs": [
    {
     "name": "stdout",
     "output_type": "stream",
     "text": [
      "Enter a number: 21\n",
      "last checked number was 3\n",
      "21 is not prime\n"
     ]
    }
   ],
   "source": [
    "# testing an algorithm that requires less computation\n",
    "x = int(input(\"Enter a number: \"))\n",
    "flag_prime = True\n",
    "\n",
    "i = 2  # first prime number\n",
    "while i < x and flag_prime:\n",
    "        # check if i devides x\n",
    "        if x % i == 0:\n",
    "            # now I know x is not prime\n",
    "            flag_prime = False\n",
    "            print('last checked number was', i)\n",
    "        i += 1\n",
    "\n",
    "if flag_prime == True:\n",
    "    print(x, \"is prime\")\n",
    "else:\n",
    "    print(x, \"is not prime\")"
   ]
  },
  {
   "cell_type": "code",
   "execution_count": 59,
   "metadata": {},
   "outputs": [
    {
     "name": "stdout",
     "output_type": "stream",
     "text": [
      "Enter a number: 6\n",
      "6 is not prime\n"
     ]
    }
   ],
   "source": [
    "# using break to reduce unneccessary computations\n",
    "x = int(input(\"Enter a number: \"))\n",
    "# flag_prime = True\n",
    "\n",
    "for i in range(2, x):\n",
    "        # check if i devides x\n",
    "        if x % i == 0:\n",
    "            print(x, \"is not prime\")\n",
    "            break\n",
    "else:  # occurs when the for loop ends normaly\n",
    "    print(x, \"is prime\")\n"
   ]
  },
  {
   "cell_type": "markdown",
   "metadata": {},
   "source": [
    "Example: are the vowels in a word in Alphabetical order"
   ]
  },
  {
   "cell_type": "code",
   "execution_count": 70,
   "metadata": {},
   "outputs": [
    {
     "name": "stdout",
     "output_type": "stream",
     "text": [
      "Enter a word: Paul\n",
      "a\n",
      "u\n",
      "The vowels in Paul are in order.\n"
     ]
    }
   ],
   "source": [
    "# testing break again\n",
    "word = input(\"Enter a word: \")\n",
    "last_letter = 'a'\n",
    "\n",
    "for letter in word.lower():\n",
    "    if letter in 'aeiou':\n",
    "        print(letter)\n",
    "        # check to see if order is alphabetical\n",
    "        if letter < last_letter:\n",
    "            print(\"The vowels in\", word, \"are out of order.\")\n",
    "            break\n",
    "        last_letter = letter\n",
    "else: \n",
    "    print(\"The vowels in\", word, \"are in order.\")\n",
    "            "
   ]
  },
  {
   "cell_type": "code",
   "execution_count": 77,
   "metadata": {},
   "outputs": [
    {
     "name": "stdout",
     "output_type": "stream",
     "text": [
      "Enter a word: Oscar\n",
      "The vowels in Oscar are out of order.\n"
     ]
    }
   ],
   "source": [
    "# using continue\n",
    "word = input(\"Enter a word: \")\n",
    "last_letter = 'a'\n",
    "\n",
    "for letter in word.lower():\n",
    "    if letter not in 'aeiou': ## if letter not in aeiuo we continue to next iteam\n",
    "        continue  # works as a filterb\n",
    "    # check to see if order is alphabetical\n",
    "    if letter < last_letter:\n",
    "        print(\"The vowels in\", word, \"are out of order.\")\n",
    "        break\n",
    "    last_letter = letter\n",
    "else: \n",
    "    print(\"The vowels in\", word, \"are in order.\")\n",
    "            "
   ]
  },
  {
   "cell_type": "markdown",
   "metadata": {},
   "source": [
    "## Algorithms"
   ]
  },
  {
   "cell_type": "markdown",
   "metadata": {},
   "source": [
    "Algorithm:\n",
    "1. Abstract set of steps a program will execute\n",
    "2. Plan for solving a problem\n",
    "\n",
    "Problem: How do you find the square root of x, where x > 0 and belongs to the set of real numbers. We want to be withoin epsilon of the real square root."
   ]
  },
  {
   "cell_type": "code",
   "execution_count": 90,
   "metadata": {},
   "outputs": [
    {
     "name": "stdout",
     "output_type": "stream",
     "text": [
      "Enter a number:9\n",
      "3.000000000011186 is close to the square root of 9.0\n",
      "Number of iterations: 300000\n"
     ]
    }
   ],
   "source": [
    "# Exhaustive Search (aka brute force algo)\n",
    "x = float(input('Enter a number:'))\n",
    "num_iterations = 0\n",
    "epsilon = 0.00001  # max margin of error\n",
    "ans = 0.0\n",
    "\n",
    "while ans ** 2 <= x:\n",
    "    ans += epsilon\n",
    "    num_iterations += 1\n",
    "\n",
    "print(ans, \"is close to the square root of\", x)\n",
    "print('Number of iterations:', num_iterations)\n",
    "\n"
   ]
  },
  {
   "cell_type": "code",
   "execution_count": 111,
   "metadata": {},
   "outputs": [
    {
     "name": "stdout",
     "output_type": "stream",
     "text": [
      "Enter a number:9\n",
      "lower bound:  0 upper bound:  9.0\n",
      "lower bound:  0 upper bound:  4.5\n",
      "lower bound:  2.25 upper bound:  4.5\n",
      "lower bound:  2.25 upper bound:  3.375\n",
      "lower bound:  2.8125 upper bound:  3.375\n",
      "lower bound:  2.8125 upper bound:  3.09375\n",
      "lower bound:  2.953125 upper bound:  3.09375\n",
      "lower bound:  2.953125 upper bound:  3.0234375\n",
      "lower bound:  2.98828125 upper bound:  3.0234375\n",
      "lower bound:  2.98828125 upper bound:  3.005859375\n",
      "lower bound:  2.9970703125 upper bound:  3.005859375\n",
      "lower bound:  2.9970703125 upper bound:  3.00146484375\n",
      "lower bound:  2.999267578125 upper bound:  3.00146484375\n",
      "lower bound:  2.999267578125 upper bound:  3.0003662109375\n",
      "lower bound:  2.99981689453125 upper bound:  3.0003662109375\n",
      "lower bound:  2.99981689453125 upper bound:  3.000091552734375\n",
      "lower bound:  2.9999542236328125 upper bound:  3.000091552734375\n",
      "lower bound:  2.9999542236328125 upper bound:  3.0000228881835938\n",
      "lower bound:  2.999988555908203 upper bound:  3.0000228881835938\n",
      "2.999997138977051 is close to the square root of 9.0\n",
      "Number of iterations:  19\n"
     ]
    }
   ],
   "source": [
    "# Bisection Search\n",
    "# only applies to numbers equal or greater than 1 \n",
    "# because the square root of decimals is greater than itself\n",
    "\n",
    "x = float(input('Enter a number:'))\n",
    "num_iterations = 0\n",
    "epsilon = 0.00001  # max margin of error\n",
    "low_bound = 0\n",
    "up_bound = x\n",
    "ans = (up_bound + low_bound) /2\n",
    "\n",
    "while (up_bound - low_bound) >= 2 * epsilon:\n",
    "    print(\"lower bound: \", low_bound, end= ' ')\n",
    "    print(\"upper bound: \", up_bound)\n",
    "    num_iterations += 1\n",
    "    if ans ** 2 < x:  # bisetrix is less than square root\n",
    "        low_bound = ans  # then adjust lower bound\n",
    "    else:\n",
    "        up_bound = ans  # else adjust upper bound\n",
    "    ans = (up_bound + low_bound) /2 \n",
    "\n",
    "print(ans, \"is close to the square root of\", x)\n",
    "print(\"Number of iterations: \", num_iterations)"
   ]
  },
  {
   "cell_type": "markdown",
   "metadata": {},
   "source": [
    "### Heron's Method\n",
    "\n",
    "Let ans be any real number greater or equal to 1.\n",
    "Let ans be our first guess.\n",
    "Consider the value x /ans. \n",
    "For any x /ans, ans * (x /ans) = x.\n",
    "Thus:\n",
    "1. If x /ans = ans, then ans^2 = x (ans is the square root of x)\n",
    "2. If x /ans > ans, then ans^2 < x (we need a bigger ans).\n",
    "3. If x /ans < ans, then ans^2 > x (we need a smaller ans). \n",
    "\n",
    "Also, note that the answer must be between ans and x /ans.\n",
    "\n",
    "Note that Newton's Method is a generalized form of Heron's method.\n",
    "\n",
    "Let f(ans) = ans^2 - x\n",
    "fin ans such that f(ans) = 0"
   ]
  },
  {
   "cell_type": "code",
   "execution_count": 110,
   "metadata": {},
   "outputs": [
    {
     "name": "stdout",
     "output_type": "stream",
     "text": [
      "Enter a number:9\n",
      "3.000000001396984 is close to the square root of 9.0\n",
      "Number of iterations:  5\n"
     ]
    }
   ],
   "source": [
    "x = float(input('Enter a number:'))\n",
    "\n",
    "epsilon = 0.00001\n",
    "num_iterations = 0\n",
    "\n",
    "ans = 1  # first guest\n",
    "\n",
    "while abs(x/ ans - ans) > 2 * epsilon:  # keep shortening the testing interval\n",
    "    ans = (x/ans + ans) /2  #  pick the bisectrix until x /ans is close to ans\n",
    "    num_iterations += 1\n",
    "    \n",
    "print(ans, \"is close to the square root of\", x)\n",
    "print('Number of iterations: ', num_iterations)"
   ]
  },
  {
   "cell_type": "markdown",
   "metadata": {},
   "source": [
    "## Arrays"
   ]
  },
  {
   "cell_type": "markdown",
   "metadata": {},
   "source": [
    "Array are not native to python. They are available through numpy.\n",
    "\n",
    "Array are optimized for computational performance.\n",
    "\n",
    "Arrays are sequences, so they share properties and methods with other python sequence objects.\n",
    "\n",
    "Array have limited range of operations, when compared to lists for example.\n",
    "\n",
    "All items in the array need to be the same type."
   ]
  },
  {
   "cell_type": "code",
   "execution_count": 113,
   "metadata": {},
   "outputs": [],
   "source": [
    "import numpy as np"
   ]
  },
  {
   "cell_type": "code",
   "execution_count": 115,
   "metadata": {},
   "outputs": [
    {
     "data": {
      "text/plain": [
       "array([ 0,  1,  2,  3,  4,  5,  6,  7,  8,  9, 10, 11, 12, 13, 14, 15, 16,\n",
       "       17, 18, 19])"
      ]
     },
     "execution_count": 115,
     "metadata": {},
     "output_type": "execute_result"
    }
   ],
   "source": [
    "x = np.arange(0, 20)\n",
    "x"
   ]
  },
  {
   "cell_type": "code",
   "execution_count": 116,
   "metadata": {},
   "outputs": [
    {
     "data": {
      "text/plain": [
       "array([ 0,  1, 22,  3,  4,  5,  6,  7,  8,  9, 10, 11, 12, 13, 14, 15, 16,\n",
       "       17, 18, 19])"
      ]
     },
     "execution_count": 116,
     "metadata": {},
     "output_type": "execute_result"
    }
   ],
   "source": [
    "x[2] = 22\n",
    "x"
   ]
  },
  {
   "cell_type": "code",
   "execution_count": 119,
   "metadata": {},
   "outputs": [
    {
     "data": {
      "text/plain": [
       "dtype('int64')"
      ]
     },
     "execution_count": 119,
     "metadata": {},
     "output_type": "execute_result"
    }
   ],
   "source": [
    "x.dtype"
   ]
  },
  {
   "cell_type": "code",
   "execution_count": 120,
   "metadata": {},
   "outputs": [
    {
     "ename": "ValueError",
     "evalue": "invalid literal for int() with base 10: 'shoe'",
     "output_type": "error",
     "traceback": [
      "\u001b[0;31m---------------------------------------------------------------------------\u001b[0m",
      "\u001b[0;31mValueError\u001b[0m                                Traceback (most recent call last)",
      "\u001b[0;32m<ipython-input-120-84432ece67a6>\u001b[0m in \u001b[0;36m<module>\u001b[0;34m\u001b[0m\n\u001b[0;32m----> 1\u001b[0;31m \u001b[0mx\u001b[0m\u001b[0;34m[\u001b[0m\u001b[0;36m10\u001b[0m\u001b[0;34m]\u001b[0m \u001b[0;34m=\u001b[0m \u001b[0;34m'shoe'\u001b[0m\u001b[0;34m\u001b[0m\u001b[0;34m\u001b[0m\u001b[0m\n\u001b[0m",
      "\u001b[0;31mValueError\u001b[0m: invalid literal for int() with base 10: 'shoe'"
     ]
    }
   ],
   "source": [
    "x[10] = 'shoe'"
   ]
  },
  {
   "cell_type": "code",
   "execution_count": 121,
   "metadata": {},
   "outputs": [
    {
     "ename": "AttributeError",
     "evalue": "'numpy.ndarray' object has no attribute 'append'",
     "output_type": "error",
     "traceback": [
      "\u001b[0;31m---------------------------------------------------------------------------\u001b[0m",
      "\u001b[0;31mAttributeError\u001b[0m                            Traceback (most recent call last)",
      "\u001b[0;32m<ipython-input-121-5dc4c0c2dc0c>\u001b[0m in \u001b[0;36m<module>\u001b[0;34m\u001b[0m\n\u001b[0;32m----> 1\u001b[0;31m \u001b[0mx\u001b[0m\u001b[0;34m.\u001b[0m\u001b[0mappend\u001b[0m\u001b[0;34m(\u001b[0m\u001b[0;36m3\u001b[0m\u001b[0;34m)\u001b[0m\u001b[0;34m\u001b[0m\u001b[0;34m\u001b[0m\u001b[0m\n\u001b[0m",
      "\u001b[0;31mAttributeError\u001b[0m: 'numpy.ndarray' object has no attribute 'append'"
     ]
    }
   ],
   "source": [
    "x.append(3)"
   ]
  },
  {
   "cell_type": "code",
   "execution_count": 122,
   "metadata": {},
   "outputs": [
    {
     "ename": "AttributeError",
     "evalue": "'numpy.ndarray' object has no attribute 'pop'",
     "output_type": "error",
     "traceback": [
      "\u001b[0;31m---------------------------------------------------------------------------\u001b[0m",
      "\u001b[0;31mAttributeError\u001b[0m                            Traceback (most recent call last)",
      "\u001b[0;32m<ipython-input-122-22e0729a7b70>\u001b[0m in \u001b[0;36m<module>\u001b[0;34m\u001b[0m\n\u001b[0;32m----> 1\u001b[0;31m \u001b[0mx\u001b[0m\u001b[0;34m.\u001b[0m\u001b[0mpop\u001b[0m\u001b[0;34m(\u001b[0m\u001b[0;34m)\u001b[0m\u001b[0;34m\u001b[0m\u001b[0;34m\u001b[0m\u001b[0m\n\u001b[0m",
      "\u001b[0;31mAttributeError\u001b[0m: 'numpy.ndarray' object has no attribute 'pop'"
     ]
    }
   ],
   "source": [
    "x.pop()"
   ]
  },
  {
   "cell_type": "code",
   "execution_count": 123,
   "metadata": {},
   "outputs": [
    {
     "data": {
      "text/plain": [
       "array([[0.03804032, 0.45712938, 0.40388224, 0.4388878 , 0.35186093],\n",
       "       [0.65479068, 0.25178812, 0.72353058, 0.61794241, 0.22566228],\n",
       "       [0.49196855, 0.01350938, 0.0629544 , 0.74933313, 0.88854389],\n",
       "       [0.63886183, 0.51643828, 0.27009726, 0.93079399, 0.7606518 ],\n",
       "       [0.21758759, 0.7955673 , 0.91638226, 0.65985611, 0.74362995]])"
      ]
     },
     "execution_count": 123,
     "metadata": {},
     "output_type": "execute_result"
    }
   ],
   "source": [
    "np.random.rand(5,5)"
   ]
  },
  {
   "cell_type": "code",
   "execution_count": 145,
   "metadata": {},
   "outputs": [
    {
     "data": {
      "text/plain": [
       "array([ 0.41677819, -0.88857182,  0.31842667,  1.49776706, -1.6771778 ,\n",
       "        2.56852871, -0.26591379,  1.10611933,  0.82764138, -0.77737969,\n",
       "        1.36990179, -0.74404947,  1.71023612, -0.08737278, -0.7604338 ,\n",
       "        0.14168674,  1.50887393, -0.94480754, -0.58766616,  2.12722914,\n",
       "        2.43754594,  0.59137295, -0.40006316, -0.57262374, -0.34670597,\n",
       "       -1.13234747,  0.01342887, -0.11001021, -0.19882449, -0.78681396])"
      ]
     },
     "execution_count": 145,
     "metadata": {},
     "output_type": "execute_result"
    }
   ],
   "source": [
    "ar = np.random.randn(30)  # standard normal dist m= 0, std = 1\n",
    "ar"
   ]
  },
  {
   "cell_type": "code",
   "execution_count": 146,
   "metadata": {},
   "outputs": [
    {
     "data": {
      "text/plain": [
       "0.21182583265427618"
      ]
     },
     "execution_count": 146,
     "metadata": {},
     "output_type": "execute_result"
    }
   ],
   "source": [
    "ar.mean()"
   ]
  },
  {
   "cell_type": "code",
   "execution_count": 147,
   "metadata": {},
   "outputs": [
    {
     "data": {
      "text/plain": [
       "1.1076880614518396"
      ]
     },
     "execution_count": 147,
     "metadata": {},
     "output_type": "execute_result"
    }
   ],
   "source": [
    "ar.std()"
   ]
  },
  {
   "cell_type": "code",
   "execution_count": 150,
   "metadata": {},
   "outputs": [
    {
     "data": {
      "text/plain": [
       "array([[ 0.41677819, -0.88857182,  0.31842667,  1.49776706, -1.6771778 ],\n",
       "       [ 2.56852871, -0.26591379,  1.10611933,  0.82764138, -0.77737969],\n",
       "       [ 1.36990179, -0.74404947,  1.71023612, -0.08737278, -0.7604338 ],\n",
       "       [ 0.14168674,  1.50887393, -0.94480754, -0.58766616,  2.12722914],\n",
       "       [ 2.43754594,  0.59137295, -0.40006316, -0.57262374, -0.34670597],\n",
       "       [-1.13234747,  0.01342887, -0.11001021, -0.19882449, -0.78681396]])"
      ]
     },
     "execution_count": 150,
     "metadata": {},
     "output_type": "execute_result"
    }
   ],
   "source": [
    "ar = ar.reshape(6,5)\n",
    "ar"
   ]
  },
  {
   "cell_type": "code",
   "execution_count": 151,
   "metadata": {},
   "outputs": [
    {
     "data": {
      "text/plain": [
       "array([ 0.96701565,  0.03585678,  0.27998354,  0.14648688, -0.37021368])"
      ]
     },
     "execution_count": 151,
     "metadata": {},
     "output_type": "execute_result"
    }
   ],
   "source": [
    "ar.mean(axis = 0)  # mean of each column"
   ]
  },
  {
   "cell_type": "code",
   "execution_count": 152,
   "metadata": {
    "scrolled": true
   },
   "outputs": [
    {
     "data": {
      "text/plain": [
       "array([-0.06655554,  0.69179919,  0.29765637,  0.44906322,  0.3419052 ,\n",
       "       -0.44291345])"
      ]
     },
     "execution_count": 152,
     "metadata": {},
     "output_type": "execute_result"
    }
   ],
   "source": [
    "ar.mean(axis = 1)  # mean of each rowb"
   ]
  },
  {
   "cell_type": "markdown",
   "metadata": {},
   "source": [
    "## Comprehensions"
   ]
  },
  {
   "cell_type": "code",
   "execution_count": 156,
   "metadata": {},
   "outputs": [
    {
     "name": "stdout",
     "output_type": "stream",
     "text": [
      "[1, 4, 9, 16, 25, 36, 49, 64, 81, 100]\n"
     ]
    }
   ],
   "source": [
    "squares = []\n",
    "for i in range(1,11):\n",
    "    squares.append(i**2)\n",
    "\n",
    "    \n",
    "print(squares)"
   ]
  },
  {
   "cell_type": "code",
   "execution_count": 157,
   "metadata": {},
   "outputs": [
    {
     "data": {
      "text/plain": [
       "[1, 4, 9, 16, 25, 36, 49, 64, 81, 100]"
      ]
     },
     "execution_count": 157,
     "metadata": {},
     "output_type": "execute_result"
    }
   ],
   "source": [
    "[i**2 for i in range(1, 11)]"
   ]
  },
  {
   "cell_type": "code",
   "execution_count": 159,
   "metadata": {},
   "outputs": [
    {
     "data": {
      "text/plain": [
       "[(0, 0),\n",
       " (0, 1),\n",
       " (0, 2),\n",
       " (0, 3),\n",
       " (1, 0),\n",
       " (1, 1),\n",
       " (1, 2),\n",
       " (1, 3),\n",
       " (2, 0),\n",
       " (2, 1),\n",
       " (2, 2),\n",
       " (2, 3),\n",
       " (3, 0),\n",
       " (3, 1),\n",
       " (3, 2),\n",
       " (3, 3)]"
      ]
     },
     "execution_count": 159,
     "metadata": {},
     "output_type": "execute_result"
    }
   ],
   "source": [
    "[(row, column) for row in range(4) for column in range(4)]"
   ]
  },
  {
   "cell_type": "code",
   "execution_count": 161,
   "metadata": {},
   "outputs": [
    {
     "name": "stdout",
     "output_type": "stream",
     "text": [
      "Enter a word: oscar\n",
      "['a', 'c', 'o', 'r', 's']\n"
     ]
    }
   ],
   "source": [
    "# get ordered list of letters in a word\n",
    "import string\n",
    "word = input(\"Enter a word: \")\n",
    "# string.ascii_lowercase all the abecedary in order\n",
    "\n",
    "letters = [l for l in string.ascii_lowercase if l in word]\n",
    "\n",
    "print(letters)"
   ]
  },
  {
   "cell_type": "code",
   "execution_count": 163,
   "metadata": {
    "scrolled": true
   },
   "outputs": [
    {
     "name": "stdout",
     "output_type": "stream",
     "text": [
      "{'H': 1, 'e': 6, 'r': 1, ' ': 4, 'i': 1, 's': 2, 'o': 1, 'm': 2, 'x': 2, 'a': 1, 'p': 1, 'l': 1, 't': 2, '.': 1}\n"
     ]
    }
   ],
   "source": [
    "# get letter frequency dictionary\n",
    "\n",
    "text = \"Here is some example text.\"\n",
    "freque = { letter: text.count(letter) for letter in text }\n",
    "print(freque)"
   ]
  },
  {
   "cell_type": "markdown",
   "metadata": {},
   "source": [
    "# Book exercises: Chapter 4"
   ]
  },
  {
   "cell_type": "markdown",
   "metadata": {},
   "source": [
    "4.1 Assign the value 7 to the variable guess_me. Then, write the conditional tests (if, else, and elif) to print the string 'too low' if guess_me is less than 7, 'too high' if greater than 7, and 'just right' if equal to 7."
   ]
  },
  {
   "cell_type": "code",
   "execution_count": 1,
   "metadata": {},
   "outputs": [
    {
     "name": "stdout",
     "output_type": "stream",
     "text": [
      "just right\n"
     ]
    }
   ],
   "source": [
    "guess_me = 7\n",
    "\n",
    "if guess_me < 7:\n",
    "    print('too low')\n",
    "elif guess_me > 7:\n",
    "    print('too high')\n",
    "else:\n",
    "    print('just right')"
   ]
  },
  {
   "cell_type": "markdown",
   "metadata": {},
   "source": [
    "4.2 Assign the value 7 to the variable guess_me and the value 1 to the variable start. Write a while loop that compares start with guess_me. Print too low if start is less than guess me. If start equals guess_me, print 'found it!' and exit the loop. If start is greater than guess_me, print 'oops' and exit the loop. Increment start at the end of the loop."
   ]
  },
  {
   "cell_type": "code",
   "execution_count": 15,
   "metadata": {},
   "outputs": [
    {
     "name": "stdout",
     "output_type": "stream",
     "text": [
      "Enter an integer:8\n",
      "Number: 1 too low\n",
      "Number: 2 too low\n",
      "Number: 3 too low\n",
      "Number: 4 too low\n",
      "Number: 5 too low\n",
      "Number: 6 too low\n",
      "Number: 7 too low\n",
      "Number: 8 found it!\n"
     ]
    }
   ],
   "source": [
    "guess_me = int(input('Enter an integer:'))\n",
    "start = 1\n",
    "\n",
    "while True:  # indefinite loop as the ending is determined by the if clauses below\n",
    "    print('Number:', start, end= ' ')\n",
    "    if start > guess_me:  # put the break options first in the list to reduce iterations\n",
    "        print('opps')\n",
    "        break\n",
    "    elif start == guess_me:\n",
    "        print('found it!')\n",
    "        break\n",
    "    else:\n",
    "        print('too low')\n",
    "        \n",
    "    start += 1"
   ]
  },
  {
   "cell_type": "markdown",
   "metadata": {},
   "source": [
    "4.3 Use a for loop to print the values of the list [3, 2, 1, 0]."
   ]
  },
  {
   "cell_type": "code",
   "execution_count": 16,
   "metadata": {},
   "outputs": [
    {
     "name": "stdout",
     "output_type": "stream",
     "text": [
      "3\n",
      "2\n",
      "1\n",
      "0\n"
     ]
    }
   ],
   "source": [
    "for i in [3, 2, 1, 0]:\n",
    "    print(i)"
   ]
  },
  {
   "cell_type": "markdown",
   "metadata": {},
   "source": [
    "4.4 Use a list comprehension to make a list of the even numbers in range(10)."
   ]
  },
  {
   "cell_type": "code",
   "execution_count": 35,
   "metadata": {},
   "outputs": [
    {
     "name": "stdout",
     "output_type": "stream",
     "text": [
      "[0, 2, 4, 6, 8]\n"
     ]
    }
   ],
   "source": [
    "even_num_ls = [n for n in range(10) if n % 2 == 0]\n",
    "print(even_num_ls)"
   ]
  },
  {
   "cell_type": "markdown",
   "metadata": {},
   "source": [
    "4.5 Use a dictionary comprehension to create the dictionary squares. Use range(10) to return the keys, and use the square of each key as its value."
   ]
  },
  {
   "cell_type": "code",
   "execution_count": 31,
   "metadata": {},
   "outputs": [
    {
     "name": "stdout",
     "output_type": "stream",
     "text": [
      "{0: 0, 1: 1, 2: 4, 3: 9, 4: 16, 5: 25, 6: 36, 7: 49, 8: 64, 9: 81}\n"
     ]
    }
   ],
   "source": [
    "squares_dc = { n:n**2 for n in range(10) }\n",
    "print(squares_dc)"
   ]
  },
  {
   "cell_type": "markdown",
   "metadata": {},
   "source": [
    "4.6 Use a set comprehension to create the set odd from the odd numbers in range(10)."
   ]
  },
  {
   "cell_type": "code",
   "execution_count": 36,
   "metadata": {},
   "outputs": [
    {
     "name": "stdout",
     "output_type": "stream",
     "text": [
      "{1, 3, 5, 7, 9}\n"
     ]
    }
   ],
   "source": [
    "odds_st = { n for n in range(10) if n % 2 != 0}\n",
    "print(odds_st)"
   ]
  }
 ],
 "metadata": {
  "kernelspec": {
   "display_name": "Python 3",
   "language": "python",
   "name": "python3"
  },
  "language_info": {
   "codemirror_mode": {
    "name": "ipython",
    "version": 3
   },
   "file_extension": ".py",
   "mimetype": "text/x-python",
   "name": "python",
   "nbconvert_exporter": "python",
   "pygments_lexer": "ipython3",
   "version": "3.7.1"
  }
 },
 "nbformat": 4,
 "nbformat_minor": 2
}
