{
 "cells": [
  {
   "cell_type": "markdown",
   "metadata": {},
   "source": [
    "# Video Lectures\n",
    "\n",
    "## Class Inheritance\n",
    "\n",
    "### Simulations\n",
    "Use a class to represent a Stochastic Process (single variable that changes randomly over time): $x_1$, $x_2$, ...\n",
    "\n",
    "Examples:\n",
    "1. Stock pirce over time\n",
    "2. Measurement of solar radiation for each day\n",
    "3. Average planetary surface temperature"
   ]
  },
  {
   "cell_type": "code",
   "execution_count": 1,
   "metadata": {},
   "outputs": [],
   "source": [
    "class Process:\n",
    "    '''Representation of Stochastic Processs'''\n",
    "    \n",
    "    def __init__(self, start_value = 0):\n",
    "        self.value = start_value\n",
    "        \n",
    "    def time_step(self):\n",
    "        raise NotImplementedError('function has not been completed')\n",
    "        pass\n",
    "    "
   ]
  },
  {
   "cell_type": "code",
   "execution_count": 2,
   "metadata": {},
   "outputs": [
    {
     "ename": "NotImplementedError",
     "evalue": "function has not been completed",
     "output_type": "error",
     "traceback": [
      "\u001b[0;31m---------------------------------------------------------------------------\u001b[0m",
      "\u001b[0;31mNotImplementedError\u001b[0m                       Traceback (most recent call last)",
      "\u001b[0;32m<ipython-input-2-d39eaabf4b18>\u001b[0m in \u001b[0;36m<module>\u001b[0;34m\u001b[0m\n\u001b[1;32m      1\u001b[0m \u001b[0mp1\u001b[0m \u001b[0;34m=\u001b[0m \u001b[0mProcess\u001b[0m\u001b[0;34m(\u001b[0m\u001b[0;34m)\u001b[0m\u001b[0;34m\u001b[0m\u001b[0;34m\u001b[0m\u001b[0m\n\u001b[0;32m----> 2\u001b[0;31m \u001b[0mp1\u001b[0m\u001b[0;34m.\u001b[0m\u001b[0mtime_step\u001b[0m\u001b[0;34m(\u001b[0m\u001b[0;34m)\u001b[0m\u001b[0;34m\u001b[0m\u001b[0;34m\u001b[0m\u001b[0m\n\u001b[0m",
      "\u001b[0;32m<ipython-input-1-38c7d7e70de1>\u001b[0m in \u001b[0;36mtime_step\u001b[0;34m(self)\u001b[0m\n\u001b[1;32m      6\u001b[0m \u001b[0;34m\u001b[0m\u001b[0m\n\u001b[1;32m      7\u001b[0m     \u001b[0;32mdef\u001b[0m \u001b[0mtime_step\u001b[0m\u001b[0;34m(\u001b[0m\u001b[0mself\u001b[0m\u001b[0;34m)\u001b[0m\u001b[0;34m:\u001b[0m\u001b[0;34m\u001b[0m\u001b[0;34m\u001b[0m\u001b[0m\n\u001b[0;32m----> 8\u001b[0;31m         \u001b[0;32mraise\u001b[0m \u001b[0mNotImplementedError\u001b[0m\u001b[0;34m(\u001b[0m\u001b[0;34m'function has not been completed'\u001b[0m\u001b[0;34m)\u001b[0m\u001b[0;34m\u001b[0m\u001b[0;34m\u001b[0m\u001b[0m\n\u001b[0m\u001b[1;32m      9\u001b[0m         \u001b[0;32mpass\u001b[0m\u001b[0;34m\u001b[0m\u001b[0;34m\u001b[0m\u001b[0m\n\u001b[1;32m     10\u001b[0m \u001b[0;34m\u001b[0m\u001b[0m\n",
      "\u001b[0;31mNotImplementedError\u001b[0m: function has not been completed"
     ]
    }
   ],
   "source": [
    "p1 = Process()\n",
    "p1.time_step()"
   ]
  },
  {
   "cell_type": "code",
   "execution_count": 3,
   "metadata": {},
   "outputs": [],
   "source": [
    "class Process:\n",
    "    '''Representation of Stochastic Processs'''\n",
    "    \n",
    "    def __init__(self, start_value = 0):\n",
    "        self.value = start_value\n",
    "        \n",
    "    def time_step(self):\n",
    "        pass\n",
    "    "
   ]
  },
  {
   "cell_type": "code",
   "execution_count": 4,
   "metadata": {},
   "outputs": [],
   "source": [
    "class BoundedLinearProcess(Process):\n",
    "    '''A stochastic process that develops linearly, increases by velocity\n",
    "    in every time period but is bounded between 0 and 1.'''\n",
    "    \n",
    "    def __init__(self, start_value = 0, velocity = 0):\n",
    "        super().__init__(start_value)  # calls the super/parent class\n",
    "        self.velocity = velocity\n",
    "        \n",
    "    def time_step(self):\n",
    "        self.value += self.velocity\n",
    "        if self.value < 0:\n",
    "            self.value = - self.value\n",
    "            self.velocity = -self.velocity\n",
    "        elif self.value > 1:\n",
    "            self.value = 1 - (self.value - 1)\n",
    "            self.velocity = -self.velocity\n",
    "        super().time_step\n",
    "    \n",
    "    "
   ]
  },
  {
   "cell_type": "code",
   "execution_count": 5,
   "metadata": {},
   "outputs": [
    {
     "name": "stdout",
     "output_type": "stream",
     "text": [
      "<__main__.BoundedLinearProcess object at 0x10c8c8a50>\n"
     ]
    }
   ],
   "source": [
    "p1 = BoundedLinearProcess(0, 0.3)\n",
    "print(p1)"
   ]
  },
  {
   "cell_type": "code",
   "execution_count": 6,
   "metadata": {},
   "outputs": [
    {
     "name": "stdout",
     "output_type": "stream",
     "text": [
      "Current Process value:  0.3\n",
      "Current Process value:  0.6\n",
      "Current Process value:  0.8999999999999999\n",
      "Current Process value:  0.8\n"
     ]
    }
   ],
   "source": [
    "for i in range(4):\n",
    "    p1.time_step()\n",
    "    print (\"Current Process value: \", p1.value)"
   ]
  },
  {
   "cell_type": "markdown",
   "metadata": {},
   "source": [
    "Adding easier ways to print "
   ]
  },
  {
   "cell_type": "code",
   "execution_count": 51,
   "metadata": {},
   "outputs": [],
   "source": [
    "class Process:\n",
    "    '''Representation of Stochastic Processs'''\n",
    "    \n",
    "    def __init__(self, start_value = 0):\n",
    "        self.value = start_value\n",
    "        \n",
    "    def time_step(self):\n",
    "        pass\n",
    "    \n",
    "    def __str__(self):\n",
    "        return \"Process with current value \" + str(self.value)\n",
    "    \n",
    "    def __repr__(self):\n",
    "        return __str__(self)\n",
    "    \n",
    "    def simulate(self, steps = 30):\n",
    "        for i in range(steps):\n",
    "            print(self)\n",
    "            self.time_step()"
   ]
  },
  {
   "cell_type": "code",
   "execution_count": 52,
   "metadata": {},
   "outputs": [],
   "source": [
    "class BoundedLinearProcess(Process):\n",
    "    '''A stochastic process that develops linearly, increases by velocity\n",
    "    in every time period but is bounded between 0 and 1.'''\n",
    "    \n",
    "    def __init__(self, start_value = 0, velocity = 0):\n",
    "        super().__init__(start_value)  # calls the super/parent class\n",
    "        self.velocity = velocity\n",
    "        \n",
    "    def time_step(self):\n",
    "        self.value += self.velocity\n",
    "        if self.value < 0:\n",
    "            self.value = - self.value\n",
    "            self.velocity = -self.velocity\n",
    "        elif self.value > 1:\n",
    "            self.value = 1 - (self.value - 1)\n",
    "            self.velocity = -self.velocity\n",
    "        super().time_step\n",
    "        \n",
    "    def __str__(self):\n",
    "        return \"  \" * int(self.value * 20) + '*'\n",
    "    \n",
    "    "
   ]
  },
  {
   "cell_type": "code",
   "execution_count": 9,
   "metadata": {
    "scrolled": true
   },
   "outputs": [
    {
     "name": "stdout",
     "output_type": "stream",
     "text": [
      "*\n"
     ]
    }
   ],
   "source": [
    "p1 = BoundedLinearProcess(0, 0.3)\n",
    "print(p1)"
   ]
  },
  {
   "cell_type": "code",
   "execution_count": 10,
   "metadata": {},
   "outputs": [
    {
     "name": "stdout",
     "output_type": "stream",
     "text": [
      "0.3\n",
      "0.6\n",
      "0.8999999999999999\n",
      "0.8\n"
     ]
    }
   ],
   "source": [
    "for i in range(4):\n",
    "    p1.time_step()\n",
    "    print (p1.value)"
   ]
  },
  {
   "cell_type": "code",
   "execution_count": 11,
   "metadata": {
    "scrolled": false
   },
   "outputs": [
    {
     "data": {
      "text/plain": [
       "0.8"
      ]
     },
     "execution_count": 11,
     "metadata": {},
     "output_type": "execute_result"
    }
   ],
   "source": [
    "# representation example\n",
    "p1.value"
   ]
  },
  {
   "cell_type": "code",
   "execution_count": 12,
   "metadata": {},
   "outputs": [
    {
     "name": "stdout",
     "output_type": "stream",
     "text": [
      "                    *\n",
      "        *\n",
      "  *\n",
      "              *\n",
      "                            *\n",
      "                                        *\n",
      "                            *\n",
      "              *\n",
      "  *\n",
      "        *\n",
      "                    *\n",
      "                                *\n",
      "                                    *\n",
      "                      *\n",
      "          *\n",
      "*\n",
      "            *\n",
      "                        *\n",
      "                                    *\n",
      "                              *\n",
      "                  *\n",
      "      *\n",
      "    *\n",
      "                *\n",
      "                            *\n",
      "                                      *\n",
      "                          *\n",
      "              *\n",
      "  *\n",
      "        *\n"
     ]
    }
   ],
   "source": [
    "for i in range(30):\n",
    "    p1.time_step()\n",
    "    print (p1)"
   ]
  },
  {
   "cell_type": "markdown",
   "metadata": {},
   "source": [
    "Creating a Autoregressive Process of Order 1: AR(1)\n",
    "\n",
    "$x_t = \\alpha x_{t-1} + w_t, \\alpha < 1$"
   ]
  },
  {
   "cell_type": "code",
   "execution_count": 14,
   "metadata": {},
   "outputs": [],
   "source": [
    "import numpy as np"
   ]
  },
  {
   "cell_type": "code",
   "execution_count": 53,
   "metadata": {},
   "outputs": [],
   "source": [
    "class ARprocess(Process):\n",
    "    def __init__(self, alpha = 0.5, sigma = 1, start_value = 0):\n",
    "        super().__init__(start_value)\n",
    "        self.alpha = alpha\n",
    "        self.sigma = sigma\n",
    "    \n",
    "    def time_step(self):\n",
    "        self.value = self.alpha * self.value + np.random.normal(scale = self.sigma)\n",
    "        super().time_step()\n",
    "        \n",
    "    def __str__(self):\n",
    "        if self.value < 0:\n",
    "            s = \" \" * int(5 * (self.value + 3)) + '*' + \" \" * int(-self.value * 5) + \"|\"\n",
    "        elif self.value == 0:\n",
    "            s = \" \" * 15 + '*'\n",
    "        else:\n",
    "            s = \" \" * 15 + '|' + \" \" * int(5 * self.value) + '*'\n",
    "        return s\n",
    "        \n",
    "        "
   ]
  },
  {
   "cell_type": "code",
   "execution_count": 33,
   "metadata": {},
   "outputs": [
    {
     "name": "stdout",
     "output_type": "stream",
     "text": [
      "Process with current value 0\n",
      "Process with current value 0.5397275079698656\n",
      "Process with current value 1.1240605451999233\n",
      "Process with current value 0.30256394390946945\n",
      "Process with current value 0.03954269825482615\n",
      "Process with current value 0.653385915026694\n",
      "Process with current value 1.922286453460758\n",
      "Process with current value 0.7256846904722277\n",
      "Process with current value -0.9900036770119114\n",
      "Process with current value -1.1177006159781384\n",
      "Process with current value -1.908347021859601\n",
      "Process with current value -1.0000970532617086\n",
      "Process with current value 0.10373937490216822\n",
      "Process with current value 1.0475283090480851\n",
      "Process with current value 2.462669001816521\n",
      "Process with current value 0.9795868389443166\n",
      "Process with current value 2.0120257030204467\n",
      "Process with current value 0.5644511637372654\n",
      "Process with current value 1.0228049432224928\n",
      "Process with current value 0.6684091286989028\n"
     ]
    }
   ],
   "source": [
    "p2 = ARprocess()\n",
    "for i in np.arange(20):\n",
    "    print(p2)\n",
    "    p2.time_step()\n",
    "    "
   ]
  },
  {
   "cell_type": "code",
   "execution_count": 77,
   "metadata": {},
   "outputs": [
    {
     "name": "stdout",
     "output_type": "stream",
     "text": [
      "               *\n",
      "               |           *\n",
      "               |    *\n",
      "               |      *\n",
      "               | *\n",
      "               |*\n",
      "               |      *\n",
      "               |     *\n",
      "               |             *\n",
      "               |          *\n",
      "               |            *\n",
      "            *  |\n",
      "               | *\n",
      "   *           |\n",
      "              *|\n",
      "  *            |\n",
      "             * |\n",
      "               |     *\n",
      "               |         *\n",
      "               |          *\n",
      "               |         *\n",
      "               |      *\n",
      "            *  |\n",
      "  *            |\n",
      "       *       |\n",
      "               |      *\n",
      "               |               *\n",
      "               |         *\n",
      "               |      *\n",
      "               |        *\n"
     ]
    }
   ],
   "source": [
    "p2 = ARprocess(alpha = .5)\n",
    "for i in np.arange(30):\n",
    "    print(p2)\n",
    "    p2.time_step()\n",
    "    "
   ]
  },
  {
   "cell_type": "code",
   "execution_count": 78,
   "metadata": {},
   "outputs": [],
   "source": [
    "p1 = BoundedLinearProcess(0, .1)\n",
    "p2 = ARprocess(alpha = 0.9)"
   ]
  },
  {
   "cell_type": "code",
   "execution_count": 79,
   "metadata": {},
   "outputs": [
    {
     "name": "stdout",
     "output_type": "stream",
     "text": [
      "*\n",
      "    *\n",
      "        *\n",
      "            *\n",
      "                *\n",
      "                    *\n",
      "                        *\n",
      "                            *\n",
      "                              *\n",
      "                                    *\n",
      "                                      *\n",
      "                                    *\n",
      "                                *\n",
      "                            *\n",
      "                        *\n",
      "                    *\n",
      "                *\n",
      "            *\n",
      "        *\n",
      "    *\n",
      "*\n",
      "  *\n",
      "      *\n",
      "          *\n",
      "              *\n",
      "                  *\n",
      "                      *\n",
      "                          *\n",
      "                              *\n",
      "                                  *\n"
     ]
    }
   ],
   "source": [
    "p1.simulate()"
   ]
  },
  {
   "cell_type": "code",
   "execution_count": 56,
   "metadata": {},
   "outputs": [
    {
     "name": "stdout",
     "output_type": "stream",
     "text": [
      "               *\n",
      "               |    *\n",
      "               |   *\n",
      "              *|\n",
      "               |   *\n",
      "               |*\n",
      "              *|\n",
      "       *       |\n",
      "            *  |\n",
      "      *        |\n",
      "         *     |\n",
      "             * |\n",
      "    *          |\n",
      "      *        |\n",
      "        *      |\n",
      "      *        |\n",
      "        *      |\n",
      "       *       |\n",
      "       *       |\n",
      "            *  |\n",
      "         *     |\n",
      "        *      |\n",
      "           *   |\n",
      "     *         |\n",
      "               | *\n",
      "             * |\n",
      "               |*\n",
      "               |     *\n",
      "               |           *\n",
      "               |         *\n"
     ]
    }
   ],
   "source": [
    "p2.simulate()"
   ]
  },
  {
   "cell_type": "markdown",
   "metadata": {},
   "source": [
    "Random Walk (Non Autoregressive/Stationary)\n",
    "\n",
    "$x_t = x_{t-1} + w_t$"
   ]
  },
  {
   "cell_type": "code",
   "execution_count": 58,
   "metadata": {},
   "outputs": [],
   "source": [
    "class RandomWalk(ARprocess):\n",
    "    def __init__(self, sigma = 1):\n",
    "        super().__init__(alpha = 1)  # this voids the auto-regression\n",
    "    \n",
    "    "
   ]
  },
  {
   "cell_type": "code",
   "execution_count": 60,
   "metadata": {},
   "outputs": [
    {
     "name": "stdout",
     "output_type": "stream",
     "text": [
      "               *\n",
      "               |     *\n",
      "               |   *\n",
      "           *   |\n",
      "               |*\n",
      "               |     *\n",
      "               |*\n",
      "             * |\n",
      "               |  *\n",
      "               |    *\n",
      "               |     *\n",
      "               |       *\n",
      "               |               *\n",
      "               |             *\n",
      "               |                           *\n",
      "               |                                    *\n",
      "               |                                    *\n",
      "               |                                      *\n",
      "               |                           *\n",
      "               |                          *\n",
      "               |                           *\n",
      "               |                   *\n",
      "               |              *\n",
      "               |              *\n",
      "               |             *\n",
      "               |           *\n",
      "               |   *\n",
      "               |         *\n",
      "               |       *\n",
      "               |         *\n"
     ]
    }
   ],
   "source": [
    "p3 = RandomWalk()\n",
    "p3.simulate()"
   ]
  },
  {
   "cell_type": "markdown",
   "metadata": {},
   "source": [
    "## Using Polymorphism"
   ]
  },
  {
   "cell_type": "code",
   "execution_count": 71,
   "metadata": {},
   "outputs": [],
   "source": [
    "# plotting the history of our simulations\n",
    "\n",
    "import numpy as np\n",
    "\n",
    "class Process:\n",
    "    '''Representation of Stochastic Processs'''\n",
    "    \n",
    "    def __init__(self, start_value = 0):\n",
    "        self.value = start_value\n",
    "        self.history = []\n",
    "        \n",
    "    def time_step(self):\n",
    "        self.history.append(self.value)\n",
    "    \n",
    "    def __str__(self):\n",
    "        return \"Process with current value \" + str(self.value)\n",
    "    \n",
    "    def __repr__(self):\n",
    "        return __str__(self)\n",
    "    \n",
    "    def simulate(self, steps = 30):\n",
    "        for i in range(steps):\n",
    "            print(self)\n",
    "            self.time_step()\n",
    "            \n",
    "\n",
    "class BoundedLinearProcess(Process):\n",
    "    '''A stochastic process that develops linearly, increases by velocity\n",
    "    in every time period but is bounded between 0 and 1.'''\n",
    "    \n",
    "    def __init__(self, start_value = 0, velocity = 0):\n",
    "        super().__init__(start_value)  # calls the super/parent class\n",
    "        self.velocity = velocity\n",
    "        \n",
    "    def time_step(self):\n",
    "        self.value += self.velocity\n",
    "        if self.value < 0:\n",
    "            self.value = - self.value\n",
    "            self.velocity = -self.velocity\n",
    "        elif self.value > 1:\n",
    "            self.value = 1 - (self.value - 1)\n",
    "            self.velocity = -self.velocity\n",
    "        super().time_step()\n",
    "        \n",
    "    def __str__(self):\n",
    "        return \"  \" * int(self.value * 20) + '*'\n",
    "    \n",
    "    \n",
    "class ARprocess(Process):\n",
    "    def __init__(self, alpha = 0.5, sigma = 1, start_value = 0):\n",
    "        super().__init__(start_value)\n",
    "        self.alpha = alpha\n",
    "        self.sigma = sigma\n",
    "    \n",
    "    def time_step(self):\n",
    "        self.value = self.alpha * self.value + np.random.normal(scale = self.sigma)\n",
    "        super().time_step()\n",
    "        \n",
    "    def __str__(self):\n",
    "        if self.value < 0:\n",
    "            s = \" \" * int(5 * (self.value + 3)) + '*' + \" \" * int(-self.value * 5) + \"|\"\n",
    "        elif self.value == 0:\n",
    "            s = \" \" * 15 + '*'\n",
    "        else:\n",
    "            s = \" \" * 15 + '|' + \" \" * int(5 * self.value) + '*'\n",
    "        return s\n",
    "        \n",
    "        \n",
    "class RandomWalk(ARprocess):\n",
    "    def __init__(self, sigma = 1):\n",
    "        super().__init__(alpha = 1)  # this voids the auto-regression\n",
    "    \n",
    "    "
   ]
  },
  {
   "cell_type": "code",
   "execution_count": 72,
   "metadata": {},
   "outputs": [],
   "source": [
    "class ProcessPlotter:\n",
    "    '''An object to display the history of a process.'''\n",
    "    def __init__(self, process = None):\n",
    "        self.process = process\n",
    "        \n",
    "    def plot(slef):\n",
    "        pass\n",
    "    \n",
    "    "
   ]
  },
  {
   "cell_type": "code",
   "execution_count": 73,
   "metadata": {},
   "outputs": [],
   "source": [
    "class TextProcessPlotter(ProcessPlotter):\n",
    "    def plot(self):\n",
    "        upper = max(self.process.history)\n",
    "        lower = min(self.process.history)\n",
    "        if upper == lower:\n",
    "            upper += 1\n",
    "        for val in self.process.history:\n",
    "            print(\" \" * int(20 * (val - lower)/ (upper - lower)) + '*')\n",
    "            \n",
    "            "
   ]
  },
  {
   "cell_type": "code",
   "execution_count": 84,
   "metadata": {
    "scrolled": true
   },
   "outputs": [
    {
     "name": "stdout",
     "output_type": "stream",
     "text": [
      "               *\n",
      "              *|\n",
      "               | *\n",
      "           *   |\n",
      "            *  |\n",
      "   *           |\n",
      "   *           |\n",
      "     *         |\n",
      "       *       |\n",
      "      *        |\n",
      "         *     |\n",
      "               |   *\n",
      "               |         *\n",
      "               |        *\n",
      "               |   *\n",
      "               |        *\n",
      "               |          *\n",
      "               |        *\n",
      "               |           *\n",
      "               |     *\n",
      "               |     *\n",
      "          *    |\n",
      "              *|\n",
      "               |  *\n",
      "               |  *\n",
      "             * |\n",
      "               |    *\n",
      "               |     *\n",
      "               |     *\n",
      "               |       *\n"
     ]
    }
   ],
   "source": [
    "p1 = ARprocess(alpha = .9)\n",
    "plotter1 = TextProcessPlotter(p1)\n",
    "p1.simulate()"
   ]
  },
  {
   "cell_type": "code",
   "execution_count": 83,
   "metadata": {},
   "outputs": [
    {
     "name": "stdout",
     "output_type": "stream",
     "text": [
      "      *\n",
      "     *\n",
      "      *\n",
      "         *\n",
      "          *\n",
      "         *\n",
      "       *\n",
      "         *\n",
      " *\n",
      "      *\n",
      "     *\n",
      "    *\n",
      "  *\n",
      "   *\n",
      "*\n",
      "  *\n",
      "     *\n",
      "    *\n",
      "   *\n",
      "  *\n",
      "  *\n",
      "      *\n",
      "      *\n",
      "       *\n",
      "          *\n",
      "            *\n",
      "                 *\n",
      "                   *\n",
      "                  *\n",
      "                    *\n"
     ]
    }
   ],
   "source": [
    "plotter1.plot()"
   ]
  },
  {
   "cell_type": "code",
   "execution_count": 85,
   "metadata": {},
   "outputs": [
    {
     "name": "stdout",
     "output_type": "stream",
     "text": [
      "               *\n",
      "               |   *\n",
      "               |       *\n",
      "             * |\n",
      "               |*\n",
      "               |              *\n",
      "               |                    *\n",
      "               |                 *\n",
      "               |                   *\n",
      "               |                         *\n",
      "               |                    *\n",
      "               |                       *\n",
      "               |                        *\n",
      "               |                   *\n",
      "               |              *\n",
      "               |              *\n",
      "               |              *\n",
      "               |          *\n",
      "               |       *\n",
      "               |      *\n",
      "               |         *\n",
      "               |     *\n",
      "               |  *\n",
      "               |  *\n",
      "       *       |\n",
      "         *     |\n",
      "       *       |\n",
      "         *     |\n",
      "       *       |\n",
      "  *            |\n"
     ]
    }
   ],
   "source": [
    "p2 = RandomWalk()\n",
    "plotter2 = TextProcessPlotter(p2)\n",
    "p2.simulate()"
   ]
  },
  {
   "cell_type": "code",
   "execution_count": 86,
   "metadata": {},
   "outputs": [
    {
     "name": "stdout",
     "output_type": "stream",
     "text": [
      "         *\n",
      "           *\n",
      "       *\n",
      "        *\n",
      "              *\n",
      "                 *\n",
      "                *\n",
      "                 *\n",
      "                    *\n",
      "                 *\n",
      "                   *\n",
      "                   *\n",
      "                 *\n",
      "               *\n",
      "              *\n",
      "              *\n",
      "             *\n",
      "           *\n",
      "          *\n",
      "            *\n",
      "          *\n",
      "         *\n",
      "         *\n",
      "    *\n",
      "     *\n",
      "    *\n",
      "     *\n",
      "    *\n",
      "  *\n",
      "*\n"
     ]
    }
   ],
   "source": [
    "plotter2.plot()"
   ]
  },
  {
   "cell_type": "code",
   "execution_count": 87,
   "metadata": {},
   "outputs": [],
   "source": [
    "import matplotlib\n",
    "%matplotlib inline"
   ]
  },
  {
   "cell_type": "code",
   "execution_count": 88,
   "metadata": {},
   "outputs": [],
   "source": [
    "class GraphicProcessPlotter(ProcessPlotter):\n",
    "    def plot(self):\n",
    "        matplotlib.pyplot.plot(self.process.history)\n",
    "        matplotlib.pyplot.title(\"Process Time Plot\")\n",
    "    \n",
    "    "
   ]
  },
  {
   "cell_type": "code",
   "execution_count": 90,
   "metadata": {},
   "outputs": [
    {
     "data": {
      "image/png": "[encoded data removed]",
      "text/plain": [
       "<Figure size 432x288 with 1 Axes>"
      ]
     },
     "metadata": {
      "needs_background": "light"
     },
     "output_type": "display_data"
    }
   ],
   "source": [
    "plotter3 = GraphicProcessPlotter(p1)\n",
    "plotter3.plot()"
   ]
  },
  {
   "cell_type": "code",
   "execution_count": 91,
   "metadata": {},
   "outputs": [
    {
     "data": {
      "image/png": "[encoded data removed]",
      "text/plain": [
       "<Figure size 432x288 with 1 Axes>"
      ]
     },
     "metadata": {
      "needs_background": "light"
     },
     "output_type": "display_data"
    }
   ],
   "source": [
    "plotter4 = GraphicProcessPlotter(p2)\n",
    "plotter4.plot()"
   ]
  },
  {
   "cell_type": "markdown",
   "metadata": {},
   "source": [
    "## Magic Methods"
   ]
  },
  {
   "cell_type": "code",
   "execution_count": 99,
   "metadata": {},
   "outputs": [],
   "source": [
    "class Cards:\n",
    "    def __init__(self, value, suit):\n",
    "        self.value = value\n",
    "        self.suit = suit\n",
    "    \n",
    "    def __eq__(self, other):\n",
    "        if self.value == other.value:\n",
    "            return True\n",
    "        else:\n",
    "            return False\n",
    "        \n",
    "        "
   ]
  },
  {
   "cell_type": "code",
   "execution_count": 101,
   "metadata": {
    "scrolled": true
   },
   "outputs": [
    {
     "data": {
      "text/plain": [
       "<__main__.Cards at 0x11a3d7810>"
      ]
     },
     "execution_count": 101,
     "metadata": {},
     "output_type": "execute_result"
    }
   ],
   "source": [
    "Cards(5, \"spades\")"
   ]
  },
  {
   "cell_type": "code",
   "execution_count": 102,
   "metadata": {},
   "outputs": [
    {
     "data": {
      "text/plain": [
       "<__main__.Cards at 0x11a3d7c90>"
      ]
     },
     "execution_count": 102,
     "metadata": {},
     "output_type": "execute_result"
    }
   ],
   "source": [
    "Cards(6, \"dimonds\")"
   ]
  },
  {
   "cell_type": "code",
   "execution_count": 103,
   "metadata": {
    "scrolled": true
   },
   "outputs": [
    {
     "data": {
      "text/plain": [
       "False"
      ]
     },
     "execution_count": 103,
     "metadata": {},
     "output_type": "execute_result"
    }
   ],
   "source": [
    "Cards(5, \"spades\") == Cards(5, \"spades\")"
   ]
  },
  {
   "cell_type": "code",
   "execution_count": 137,
   "metadata": {},
   "outputs": [],
   "source": [
    "class Card:\n",
    "    def __init__(self, value, suit):\n",
    "        self.value = value\n",
    "        self.suit = suit\n",
    "    \n",
    "    def __eq__(self, other):\n",
    "        if self.value == other.value:\n",
    "            return True\n",
    "        else:\n",
    "            return False\n",
    "\n",
    "    def __lt__(self, other):\n",
    "        if self.value < other.value:\n",
    "            return True\n",
    "        else:\n",
    "            return False\n",
    "    \n",
    "    def __gt__(self, other):\n",
    "        if self.value > other.value:\n",
    "            return True\n",
    "        else:\n",
    "            return False\n",
    "        \n",
    "        "
   ]
  },
  {
   "cell_type": "code",
   "execution_count": 138,
   "metadata": {
    "scrolled": true
   },
   "outputs": [
    {
     "data": {
      "text/plain": [
       "True"
      ]
     },
     "execution_count": 138,
     "metadata": {},
     "output_type": "execute_result"
    }
   ],
   "source": [
    "Card(5, \"spades\") == Card(5, \"spades\")"
   ]
  },
  {
   "cell_type": "code",
   "execution_count": 139,
   "metadata": {},
   "outputs": [],
   "source": [
    "cards = []\n",
    "for suit in ['hearts', 'spades', 'diamonds', 'clubs']:\n",
    "    for value in range(0,13):\n",
    "        cards.append(Card(value, suit))\n"
   ]
  },
  {
   "cell_type": "code",
   "execution_count": 140,
   "metadata": {},
   "outputs": [
    {
     "data": {
      "text/plain": [
       "[<__main__.Card at 0x11a3ea0d0>,\n",
       " <__main__.Card at 0x11a3ea090>,\n",
       " <__main__.Card at 0x11a3ea110>,\n",
       " <__main__.Card at 0x11a3ea150>,\n",
       " <__main__.Card at 0x11a3ea190>]"
      ]
     },
     "execution_count": 140,
     "metadata": {},
     "output_type": "execute_result"
    }
   ],
   "source": [
    "cards[:5]"
   ]
  },
  {
   "cell_type": "code",
   "execution_count": 141,
   "metadata": {},
   "outputs": [
    {
     "data": {
      "text/plain": [
       "<__main__.Card at 0x11a3ea0d0>"
      ]
     },
     "execution_count": 141,
     "metadata": {},
     "output_type": "execute_result"
    }
   ],
   "source": [
    "cards[0]"
   ]
  },
  {
   "cell_type": "code",
   "execution_count": 142,
   "metadata": {},
   "outputs": [
    {
     "data": {
      "text/plain": [
       "<__main__.Card at 0x11a3f7450>"
      ]
     },
     "execution_count": 142,
     "metadata": {},
     "output_type": "execute_result"
    }
   ],
   "source": [
    "cards[12]"
   ]
  },
  {
   "cell_type": "code",
   "execution_count": 143,
   "metadata": {},
   "outputs": [
    {
     "data": {
      "text/plain": [
       "True"
      ]
     },
     "execution_count": 143,
     "metadata": {},
     "output_type": "execute_result"
    }
   ],
   "source": [
    "cards[0] < cards[12]"
   ]
  },
  {
   "cell_type": "code",
   "execution_count": 144,
   "metadata": {},
   "outputs": [],
   "source": [
    "class Card:\n",
    "    def __init__(self, value, suit):\n",
    "        self.value = value\n",
    "        self.suit = suit\n",
    "    \n",
    "    def __eq__(self, other):\n",
    "        if self.value == other.value:\n",
    "            return True\n",
    "        else:\n",
    "            return False\n",
    "\n",
    "    def __lt__(self, other):\n",
    "        if self.value < other.value:\n",
    "            return True\n",
    "        else:\n",
    "            return False\n",
    "    \n",
    "    def __gt__(self, other):\n",
    "        if self.value > other.value:\n",
    "            return True\n",
    "        else:\n",
    "            return False\n",
    "    \n",
    "    def __repr__(self):\n",
    "        return \"%i of %s\" % (self.value, self.suit)\n",
    "    \n",
    "    "
   ]
  },
  {
   "cell_type": "code",
   "execution_count": 145,
   "metadata": {},
   "outputs": [
    {
     "name": "stdout",
     "output_type": "stream",
     "text": [
      "10 of hearts\n"
     ]
    }
   ],
   "source": [
    "print(Card(10, 'hearts'))"
   ]
  },
  {
   "cell_type": "code",
   "execution_count": 146,
   "metadata": {},
   "outputs": [
    {
     "data": {
      "text/plain": [
       "10 of hearts"
      ]
     },
     "execution_count": 146,
     "metadata": {},
     "output_type": "execute_result"
    }
   ],
   "source": [
    "Card(10, 'hearts')"
   ]
  },
  {
   "cell_type": "code",
   "execution_count": 154,
   "metadata": {},
   "outputs": [],
   "source": [
    "cards = []\n",
    "for suit in ['hearts', 'spades', 'diamonds', 'clubs']:\n",
    "    for value in range(1,13):\n",
    "        cards.append(Card(value, suit))\n"
   ]
  },
  {
   "cell_type": "code",
   "execution_count": 148,
   "metadata": {},
   "outputs": [
    {
     "name": "stdout",
     "output_type": "stream",
     "text": [
      "[0 of hearts, 1 of hearts, 2 of hearts, 3 of hearts, 4 of hearts, 5 of hearts, 6 of hearts, 7 of hearts, 8 of hearts, 9 of hearts, 10 of hearts, 11 of hearts, 12 of hearts, 0 of spades, 1 of spades, 2 of spades, 3 of spades, 4 of spades, 5 of spades, 6 of spades, 7 of spades, 8 of spades, 9 of spades, 10 of spades, 11 of spades, 12 of spades, 0 of diamonds, 1 of diamonds, 2 of diamonds, 3 of diamonds, 4 of diamonds, 5 of diamonds, 6 of diamonds, 7 of diamonds, 8 of diamonds, 9 of diamonds, 10 of diamonds, 11 of diamonds, 12 of diamonds, 0 of clubs, 1 of clubs, 2 of clubs, 3 of clubs, 4 of clubs, 5 of clubs, 6 of clubs, 7 of clubs, 8 of clubs, 9 of clubs, 10 of clubs, 11 of clubs, 12 of clubs]\n"
     ]
    }
   ],
   "source": [
    "print(cards)"
   ]
  },
  {
   "cell_type": "code",
   "execution_count": 155,
   "metadata": {},
   "outputs": [],
   "source": [
    "class Card:\n",
    "    def __init__(self, value, suit):\n",
    "        self.value = value\n",
    "        self.suit = suit\n",
    "    \n",
    "    def __eq__(self, other):\n",
    "        if self.value == other.value:\n",
    "            return True\n",
    "        else:\n",
    "            return False\n",
    "\n",
    "    def __lt__(self, other):\n",
    "        if self.value < other.value:\n",
    "            return True\n",
    "        else:\n",
    "            return False\n",
    "    \n",
    "    def __gt__(self, other):\n",
    "        if self.value > other.value:\n",
    "            return True\n",
    "        else:\n",
    "            return False\n",
    "    \n",
    "    def __repr__(self):\n",
    "        return \"%i of %s\" % (self.value, self.suit)\n",
    "    \n",
    "    "
   ]
  },
  {
   "cell_type": "code",
   "execution_count": 156,
   "metadata": {},
   "outputs": [],
   "source": [
    "from random import shuffle"
   ]
  },
  {
   "cell_type": "code",
   "execution_count": 157,
   "metadata": {
    "scrolled": true
   },
   "outputs": [
    {
     "name": "stdout",
     "output_type": "stream",
     "text": [
      "[2 of diamonds, 10 of hearts, 8 of hearts, 4 of diamonds, 11 of hearts]\n"
     ]
    }
   ],
   "source": [
    "shuffle(cards)\n",
    "print(cards[:5])"
   ]
  },
  {
   "cell_type": "code",
   "execution_count": 158,
   "metadata": {},
   "outputs": [
    {
     "data": {
      "text/plain": [
       "[1 of spades, 1 of hearts, 1 of diamonds, 1 of clubs, 2 of diamonds]"
      ]
     },
     "execution_count": 158,
     "metadata": {},
     "output_type": "execute_result"
    }
   ],
   "source": [
    "sorted(cards)[:5]"
   ]
  },
  {
   "cell_type": "code",
   "execution_count": 160,
   "metadata": {},
   "outputs": [],
   "source": [
    "class Vector:\n",
    "    def __init__(self, numbers):\n",
    "        self.__numbers = numbers\n",
    "        \n",
    "    @property\n",
    "    def numbers(self):\n",
    "        return self.__numbers\n",
    "    \n",
    "    def dot(self, other):\n",
    "        values = []\n",
    "        if len(self.__numbers) != len(other.numbers):\n",
    "            raise Exception('Cannot multiply different sized vectors.')\n",
    "        for x in range(len(self.__numbers)):\n",
    "            this_num = self.__numbers[x]\n",
    "            other_num = other.numbers[x]\n",
    "            values.append(this_num * other_num)\n",
    "        return sum(values)\n",
    "    \n",
    "    def __mul__(self, other):\n",
    "        return self.dot(other)\n",
    "    \n",
    "    "
   ]
  },
  {
   "cell_type": "code",
   "execution_count": 162,
   "metadata": {},
   "outputs": [
    {
     "name": "stdout",
     "output_type": "stream",
     "text": [
      "12\n",
      "12\n"
     ]
    }
   ],
   "source": [
    "a = Vector([1, 10, 4])\n",
    "b = Vector([2, -1, 5])\n",
    "print(a * b)  # added ability to use * as a dot product multiplication when deadling with vectors\n",
    "print(a.dot(b))"
   ]
  },
  {
   "cell_type": "markdown",
   "metadata": {},
   "source": [
    "# Book Excercises\n",
    "\n",
    "6.1. Make a class called Thing with no contents and print it. Then, create an object called example from this class and also print it. Are the printed values the same or different?"
   ]
  },
  {
   "cell_type": "code",
   "execution_count": 164,
   "metadata": {},
   "outputs": [],
   "source": [
    "class Thing:\n",
    "    pass"
   ]
  },
  {
   "cell_type": "code",
   "execution_count": 165,
   "metadata": {
    "scrolled": true
   },
   "outputs": [
    {
     "name": "stdout",
     "output_type": "stream",
     "text": [
      "<class '__main__.Thing'>\n"
     ]
    }
   ],
   "source": [
    "print(Thing)"
   ]
  },
  {
   "cell_type": "code",
   "execution_count": 167,
   "metadata": {},
   "outputs": [
    {
     "name": "stdout",
     "output_type": "stream",
     "text": [
      "<__main__.Thing object at 0x11a3e6dd0>\n"
     ]
    }
   ],
   "source": [
    "t1 = Thing()\n",
    "print(t1)"
   ]
  },
  {
   "cell_type": "markdown",
   "metadata": {},
   "source": [
    "6.2. Make a new class called Thing2 and assign the value 'abc' to a class variable called letters. Print letters."
   ]
  },
  {
   "cell_type": "code",
   "execution_count": 173,
   "metadata": {},
   "outputs": [],
   "source": [
    "class Thing2:\n",
    "    letters = 'abc'\n",
    "        \n",
    "        "
   ]
  },
  {
   "cell_type": "code",
   "execution_count": 174,
   "metadata": {},
   "outputs": [
    {
     "name": "stdout",
     "output_type": "stream",
     "text": [
      "abc\n"
     ]
    }
   ],
   "source": [
    "print(Thing2.letters)"
   ]
  },
  {
   "cell_type": "markdown",
   "metadata": {},
   "source": [
    "6.3. Make yet another class called (of course) Thing3. This time, assign the value 'xyz' to an instance (object) variable called letters. Print letters. Do you need to make an object from the class to do this?"
   ]
  },
  {
   "cell_type": "code",
   "execution_count": 181,
   "metadata": {},
   "outputs": [],
   "source": [
    "class Thing3:\n",
    "    def __init__(self):\n",
    "        self.letters = 'xyz'  # instance object\n",
    "        \n",
    "        "
   ]
  },
  {
   "cell_type": "code",
   "execution_count": 182,
   "metadata": {
    "scrolled": true
   },
   "outputs": [
    {
     "ename": "AttributeError",
     "evalue": "type object 'Thing3' has no attribute 'letters'",
     "output_type": "error",
     "traceback": [
      "\u001b[0;31m---------------------------------------------------------------------------\u001b[0m",
      "\u001b[0;31mAttributeError\u001b[0m                            Traceback (most recent call last)",
      "\u001b[0;32m<ipython-input-182-6f5d5916809a>\u001b[0m in \u001b[0;36m<module>\u001b[0;34m\u001b[0m\n\u001b[0;32m----> 1\u001b[0;31m \u001b[0mprint\u001b[0m\u001b[0;34m(\u001b[0m\u001b[0mThing3\u001b[0m\u001b[0;34m.\u001b[0m\u001b[0mletters\u001b[0m\u001b[0;34m)\u001b[0m\u001b[0;34m\u001b[0m\u001b[0;34m\u001b[0m\u001b[0m\n\u001b[0m",
      "\u001b[0;31mAttributeError\u001b[0m: type object 'Thing3' has no attribute 'letters'"
     ]
    }
   ],
   "source": [
    "print(Thing3.letters)"
   ]
  },
  {
   "cell_type": "code",
   "execution_count": 183,
   "metadata": {},
   "outputs": [
    {
     "name": "stdout",
     "output_type": "stream",
     "text": [
      "xyz\n"
     ]
    }
   ],
   "source": [
    "t3 = Thing3()\n",
    "print(t3.letters)"
   ]
  },
  {
   "cell_type": "markdown",
   "metadata": {},
   "source": [
    "6.4. Make a class called Element, with instance attributes name, symbol, and number. Create an object called hydrogen of this class with the values 'Hydrogen', 'H', and 1."
   ]
  },
  {
   "cell_type": "code",
   "execution_count": 185,
   "metadata": {},
   "outputs": [],
   "source": [
    "class Element:\n",
    "    def __init__(self, name, symbol, number):\n",
    "        self.name = name\n",
    "        self.symbol = symbol\n",
    "        self.number = number\n",
    "        \n",
    "        "
   ]
  },
  {
   "cell_type": "code",
   "execution_count": 188,
   "metadata": {},
   "outputs": [
    {
     "name": "stdout",
     "output_type": "stream",
     "text": [
      "<__main__.Element object at 0x11b80f5d0>\n",
      "Hydrogen\n",
      "H\n",
      "1\n"
     ]
    }
   ],
   "source": [
    "hydrogen = Element(name='Hydrogen', symbol='H', number=1)\n",
    "print(hydrogen)\n",
    "print(hydrogen.name)\n",
    "print(hydrogen.symbol)\n",
    "print(hydrogen.number)"
   ]
  },
  {
   "cell_type": "markdown",
   "metadata": {},
   "source": [
    "6.5. Make a dictionary with these keys and values: 'name': 'Hydrogen', 'symbol': 'H', 'number': 1. Then, create an object called hydrogen from class Element using this dictionary.\n",
    "Start with the dictionary:\n",
    "> el_dict = {'name': 'Hydrogen', 'symbol': 'H', 'number': 1}"
   ]
  },
  {
   "cell_type": "code",
   "execution_count": 191,
   "metadata": {},
   "outputs": [
    {
     "name": "stdout",
     "output_type": "stream",
     "text": [
      "Hydrogen\n",
      "H\n",
      "1\n"
     ]
    }
   ],
   "source": [
    "el_dict = {\n",
    "    'name': 'Hydrogen', \n",
    "    'symbol': 'H', \n",
    "    'number': 1\n",
    "}\n",
    "\n",
    "hydrogen2 = Element(\n",
    "    name=el_dict['name'],\n",
    "    symbol=el_dict['symbol'],\n",
    "    number=el_dict['number'],\n",
    ")\n",
    "\n",
    "print(hydrogen2.name)\n",
    "print(hydrogen2.symbol)\n",
    "print(hydrogen2.number)"
   ]
  },
  {
   "cell_type": "code",
   "execution_count": 200,
   "metadata": {},
   "outputs": [
    {
     "name": "stdout",
     "output_type": "stream",
     "text": [
      "Hydrogen\n",
      "H\n",
      "1\n"
     ]
    }
   ],
   "source": [
    "hydrogen3 = Element(**el_dict)  # feed values given that keys match Element arguments name\n",
    "\n",
    "print(hydrogen3.name)\n",
    "print(hydrogen3.symbol)\n",
    "print(hydrogen3.number)"
   ]
  },
  {
   "cell_type": "code",
   "execution_count": 197,
   "metadata": {
    "scrolled": true
   },
   "outputs": [
    {
     "name": "stdout",
     "output_type": "stream",
     "text": [
      "name symbol number\n"
     ]
    }
   ],
   "source": [
    "print(*el_dict)"
   ]
  },
  {
   "cell_type": "markdown",
   "metadata": {},
   "source": [
    "6.6. For the Element class, define a method called dump() that prints the values of the object’s attributes (name, symbol, and number). Create the hydrogen object from this new definition and use dump() to print its attributes."
   ]
  },
  {
   "cell_type": "code",
   "execution_count": 215,
   "metadata": {},
   "outputs": [],
   "source": [
    "class Element:\n",
    "    def __init__(self, name, symbol, number):\n",
    "        self.name = name\n",
    "        self.symbol = symbol\n",
    "        self.number = number\n",
    "        \n",
    "    def dump(self):\n",
    "        print('%s, %s, %i' % (self.name , self.symbol, self.number))\n",
    "        \n",
    "        "
   ]
  },
  {
   "cell_type": "code",
   "execution_count": 216,
   "metadata": {},
   "outputs": [
    {
     "name": "stdout",
     "output_type": "stream",
     "text": [
      "Hydrogen, H, 1\n"
     ]
    }
   ],
   "source": [
    "hydrogen = Element(name='Hydrogen', symbol='H', number=1)\n",
    "hydrogen.dump()"
   ]
  },
  {
   "cell_type": "markdown",
   "metadata": {},
   "source": [
    "6.7. Call print(hydrogen). In the definition of Element, change the name of method dump to __str__, create a new hydrogen object, and call print(hydrogen) again."
   ]
  },
  {
   "cell_type": "code",
   "execution_count": 217,
   "metadata": {},
   "outputs": [
    {
     "name": "stdout",
     "output_type": "stream",
     "text": [
      "<__main__.Element object at 0x11b5d5c10>\n"
     ]
    }
   ],
   "source": [
    "print(hydrogen)"
   ]
  },
  {
   "cell_type": "code",
   "execution_count": 226,
   "metadata": {},
   "outputs": [],
   "source": [
    "class Element:\n",
    "    def __init__(self, name, symbol, number):\n",
    "        self.name = name\n",
    "        self.symbol = symbol\n",
    "        self.number = number\n",
    "        \n",
    "    def __str__(self):\n",
    "        return '%s, %s, %i' % (self.name , self.symbol, self.number)\n",
    "        \n",
    "        "
   ]
  },
  {
   "cell_type": "code",
   "execution_count": 227,
   "metadata": {},
   "outputs": [
    {
     "name": "stdout",
     "output_type": "stream",
     "text": [
      "Hydrogen, H, 1\n"
     ]
    }
   ],
   "source": [
    "hydrogen = Element(name='Hydrogen', symbol='H', number=1)\n",
    "print(hydrogen)"
   ]
  },
  {
   "cell_type": "markdown",
   "metadata": {},
   "source": [
    "6.8. Modify Element to make the attributes name, symbol, and number private. Define a getter property for each to return its value."
   ]
  },
  {
   "cell_type": "code",
   "execution_count": 228,
   "metadata": {},
   "outputs": [],
   "source": [
    "class Element:\n",
    "    def __init__(self, name, symbol, number):\n",
    "        self.__name = name\n",
    "        self.__symbol = symbol\n",
    "        self.__number = number\n",
    "        \n",
    "    def __str__(self):\n",
    "        return '%s, %s, %i' % (self.__name , self.__symbol, self.__number)\n",
    "    \n",
    "    def get_name(self):\n",
    "        return self.__name\n",
    "    \n",
    "    def get_symbol(self):\n",
    "        return self.__symbold\n",
    "    \n",
    "    def get_number(self):\n",
    "        return self.__number\n",
    "\n",
    "        "
   ]
  },
  {
   "cell_type": "code",
   "execution_count": 230,
   "metadata": {},
   "outputs": [
    {
     "name": "stdout",
     "output_type": "stream",
     "text": [
      "Hydrogen, H, 1\n",
      "Hydrogen\n"
     ]
    }
   ],
   "source": [
    "hydrogen = Element(name='Hydrogen', symbol='H', number=1)\n",
    "print(hydrogen)\n",
    "print(hydrogen.get_name())"
   ]
  },
  {
   "cell_type": "code",
   "execution_count": 233,
   "metadata": {},
   "outputs": [],
   "source": [
    "class Element:\n",
    "    def __init__(self, name, symbol, number):\n",
    "        self.__name = name\n",
    "        self.__symbol = symbol\n",
    "        self.__number = number\n",
    "        \n",
    "    def __str__(self):\n",
    "        return '%s, %s, %i' % (self.__name , self.__symbol, self.__number)\n",
    "    \n",
    "    @property\n",
    "    def name(self):\n",
    "        return self.__name\n",
    "    \n",
    "    @property\n",
    "    def symbol(self):\n",
    "        return self.__symbold\n",
    "    \n",
    "    @property\n",
    "    def number(self):\n",
    "        return self.__number\n",
    "\n",
    "        "
   ]
  },
  {
   "cell_type": "code",
   "execution_count": 235,
   "metadata": {
    "scrolled": true
   },
   "outputs": [
    {
     "name": "stdout",
     "output_type": "stream",
     "text": [
      "Hydrogen, H, 1\n",
      "Hydrogen\n"
     ]
    }
   ],
   "source": [
    "hydrogen = Element(name='Hydrogen', symbol='H', number=1)\n",
    "print(hydrogen)\n",
    "print(hydrogen.name)"
   ]
  },
  {
   "cell_type": "markdown",
   "metadata": {},
   "source": [
    "6.9 Define three classes: Bear, Rabbit, and Octothorpe. For each, define only one method: eats(). This should return 'berries' (Bear), 'clover' (Rabbit), and 'campers' (Octothorpe). Create one object from each and print what it eats."
   ]
  },
  {
   "cell_type": "code",
   "execution_count": 242,
   "metadata": {},
   "outputs": [],
   "source": [
    "class Bear:\n",
    "    def eats(self):\n",
    "        return 'berries'\n",
    "        \n",
    "        \n",
    "class Rabbit:\n",
    "    def eats(self):\n",
    "        return 'clover'\n",
    "        \n",
    "        \n",
    "class Octothorpe:\n",
    "    def eats(self):\n",
    "        return 'campers'\n",
    "        \n",
    "        "
   ]
  },
  {
   "cell_type": "code",
   "execution_count": 243,
   "metadata": {},
   "outputs": [
    {
     "name": "stdout",
     "output_type": "stream",
     "text": [
      "berries\n",
      "clover\n",
      "campers\n"
     ]
    }
   ],
   "source": [
    "b = Bear()\n",
    "r = Rabbit()\n",
    "o = Octothorpe()\n",
    "\n",
    "print(b.eats())\n",
    "print(r.eats())\n",
    "print(o.eats())"
   ]
  },
  {
   "cell_type": "markdown",
   "metadata": {},
   "source": [
    "6.10. Define these classes: Laser, Claw, and SmartPhone. Each has only one method: does(). This returns 'disintegrate' (Laser), 'crush' (Claw), or 'ring' (SmartPhone). Then, define the class Robot that has one instance (object) of each of these. Define a does() method for the Robot that prints what its component objects do."
   ]
  },
  {
   "cell_type": "code",
   "execution_count": 245,
   "metadata": {},
   "outputs": [],
   "source": [
    "class Laser:\n",
    "    def does(self):\n",
    "        return 'desintegrate'\n",
    "        \n",
    "        \n",
    "class Claw:\n",
    "    def does(self):\n",
    "        return 'crush'\n",
    "        \n",
    "        \n",
    "class SmartPhone:\n",
    "    def does(self):\n",
    "        return 'ring'\n",
    "        \n",
    "        "
   ]
  },
  {
   "cell_type": "code",
   "execution_count": 252,
   "metadata": {},
   "outputs": [],
   "source": [
    "class Robot:\n",
    "    def __init__(self):\n",
    "        self.laser = Laser()\n",
    "        self.claw = Claw()\n",
    "        self.smartphone = SmartPhone()\n",
    "        \n",
    "    def does(self):\n",
    "        return 'I can %s, %s, %s' % (self.laser.does(), self.claw.does(), self.smartphone.does())\n",
    "    \n",
    "    "
   ]
  },
  {
   "cell_type": "code",
   "execution_count": 253,
   "metadata": {},
   "outputs": [
    {
     "name": "stdout",
     "output_type": "stream",
     "text": [
      "I can desintegrate, crush, ring\n"
     ]
    }
   ],
   "source": [
    "mr_roboto = Robot()\n",
    "print(mr_roboto.does())"
   ]
  }
 ],
 "metadata": {
  "kernelspec": {
   "display_name": "Python Analytics",
   "language": "python",
   "name": "analytics_py3"
  },
  "language_info": {
   "codemirror_mode": {
    "name": "ipython",
    "version": 3
   },
   "file_extension": ".py",
   "mimetype": "text/x-python",
   "name": "python",
   "nbconvert_exporter": "python",
   "pygments_lexer": "ipython3",
   "version": "3.7.4"
  }
 },
 "nbformat": 4,
 "nbformat_minor": 2
}
