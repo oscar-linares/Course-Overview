{
 "cells": [
  {
   "cell_type": "markdown",
   "metadata": {},
   "source": [
    "# Video Lectures"
   ]
  },
  {
   "cell_type": "markdown",
   "metadata": {},
   "source": [
    "## Unicode"
   ]
  },
  {
   "cell_type": "code",
   "execution_count": 1,
   "metadata": {},
   "outputs": [],
   "source": [
    "import unicodedata"
   ]
  },
  {
   "cell_type": "code",
   "execution_count": 4,
   "metadata": {},
   "outputs": [],
   "source": [
    "def unicode_test(value):\n",
    "    name = unicodedata.name(value)\n",
    "    print(\"value=%s, name=%s\" % (value, name))"
   ]
  },
  {
   "cell_type": "code",
   "execution_count": 5,
   "metadata": {},
   "outputs": [
    {
     "name": "stdout",
     "output_type": "stream",
     "text": [
      "value=B, name=LATIN CAPITAL LETTER B\n"
     ]
    }
   ],
   "source": [
    "unicode_test(\"B\")"
   ]
  },
  {
   "cell_type": "code",
   "execution_count": 6,
   "metadata": {
    "scrolled": true
   },
   "outputs": [
    {
     "name": "stdout",
     "output_type": "stream",
     "text": [
      "value=B, name=LATIN CAPITAL LETTER B\n"
     ]
    }
   ],
   "source": [
    "unicode_test('\\u0042')  # unicode in hex"
   ]
  },
  {
   "cell_type": "code",
   "execution_count": 11,
   "metadata": {},
   "outputs": [
    {
     "name": "stdout",
     "output_type": "stream",
     "text": [
      "value=B, name=LATIN CAPITAL LETTER B\n"
     ]
    }
   ],
   "source": [
    "unicode_test('\\N{LATIN CAPITAL LETTER B}')"
   ]
  },
  {
   "cell_type": "code",
   "execution_count": 8,
   "metadata": {},
   "outputs": [
    {
     "name": "stdout",
     "output_type": "stream",
     "text": [
      "This string has a \n",
      " newline character in the middle\n"
     ]
    }
   ],
   "source": [
    "print(\"This string has a \\u000A newline character in the middle\")"
   ]
  },
  {
   "cell_type": "code",
   "execution_count": 9,
   "metadata": {
    "scrolled": true
   },
   "outputs": [
    {
     "name": "stdout",
     "output_type": "stream",
     "text": [
      "This string has a \n",
      " newline character in the middle\n"
     ]
    }
   ],
   "source": [
    "print(\"This string has a \\n newline character in the middle\")"
   ]
  },
  {
   "cell_type": "code",
   "execution_count": 15,
   "metadata": {},
   "outputs": [
    {
     "name": "stdout",
     "output_type": "stream",
     "text": [
      "café\n"
     ]
    }
   ],
   "source": [
    "place = 'caf\\u00e9'\n",
    "print(place)"
   ]
  },
  {
   "cell_type": "code",
   "execution_count": 17,
   "metadata": {},
   "outputs": [
    {
     "data": {
      "text/plain": [
       "4"
      ]
     },
     "execution_count": 17,
     "metadata": {},
     "output_type": "execute_result"
    }
   ],
   "source": [
    "len(place)  # for strings, counts the number of unicode characters"
   ]
  },
  {
   "cell_type": "markdown",
   "metadata": {},
   "source": [
    "## Encoding with UTF-8\n",
    "\n",
    "### Strings"
   ]
  },
  {
   "cell_type": "code",
   "execution_count": 18,
   "metadata": {},
   "outputs": [],
   "source": [
    "raw_char = '\\u2603'"
   ]
  },
  {
   "cell_type": "code",
   "execution_count": 20,
   "metadata": {},
   "outputs": [
    {
     "name": "stdout",
     "output_type": "stream",
     "text": [
      "☃\n"
     ]
    }
   ],
   "source": [
    "print(raw_char)"
   ]
  },
  {
   "cell_type": "code",
   "execution_count": 21,
   "metadata": {},
   "outputs": [
    {
     "data": {
      "text/plain": [
       "1"
      ]
     },
     "execution_count": 21,
     "metadata": {},
     "output_type": "execute_result"
    }
   ],
   "source": [
    "len(raw_char)"
   ]
  },
  {
   "cell_type": "code",
   "execution_count": 24,
   "metadata": {},
   "outputs": [
    {
     "name": "stdout",
     "output_type": "stream",
     "text": [
      "b'\\xe2\\x98\\x83'\n"
     ]
    }
   ],
   "source": [
    "enconded_char = raw_char.encode('utf-8')\n",
    "print(enconded_char)"
   ]
  },
  {
   "cell_type": "markdown",
   "metadata": {},
   "source": [
    "Python stores in memory the the value of enconded_char as E29883"
   ]
  },
  {
   "cell_type": "code",
   "execution_count": 26,
   "metadata": {},
   "outputs": [
    {
     "data": {
      "text/plain": [
       "3"
      ]
     },
     "execution_count": 26,
     "metadata": {},
     "output_type": "execute_result"
    }
   ],
   "source": [
    "len(enconded_char)"
   ]
  },
  {
   "cell_type": "code",
   "execution_count": 27,
   "metadata": {},
   "outputs": [
    {
     "data": {
      "text/plain": [
       "bytes"
      ]
     },
     "execution_count": 27,
     "metadata": {},
     "output_type": "execute_result"
    }
   ],
   "source": [
    "type(enconded_char)"
   ]
  },
  {
   "cell_type": "code",
   "execution_count": 28,
   "metadata": {
    "scrolled": true
   },
   "outputs": [
    {
     "data": {
      "text/plain": [
       "str"
      ]
     },
     "execution_count": 28,
     "metadata": {},
     "output_type": "execute_result"
    }
   ],
   "source": [
    "type(raw_char)"
   ]
  },
  {
   "cell_type": "code",
   "execution_count": 30,
   "metadata": {},
   "outputs": [
    {
     "name": "stdout",
     "output_type": "stream",
     "text": [
      "b'A'\n"
     ]
    }
   ],
   "source": [
    "ascii_char = 'A'\n",
    "print(ascii_char.encode('ascii'))"
   ]
  },
  {
   "cell_type": "code",
   "execution_count": 31,
   "metadata": {},
   "outputs": [
    {
     "data": {
      "text/plain": [
       "str"
      ]
     },
     "execution_count": 31,
     "metadata": {},
     "output_type": "execute_result"
    }
   ],
   "source": [
    "type(ascii_char)"
   ]
  },
  {
   "cell_type": "code",
   "execution_count": 32,
   "metadata": {},
   "outputs": [
    {
     "data": {
      "text/plain": [
       "1"
      ]
     },
     "execution_count": 32,
     "metadata": {},
     "output_type": "execute_result"
    }
   ],
   "source": [
    "len(ascii_char)"
   ]
  },
  {
   "cell_type": "markdown",
   "metadata": {},
   "source": [
    "'A' in ascii is \\x41 in unicode"
   ]
  },
  {
   "cell_type": "code",
   "execution_count": 33,
   "metadata": {
    "scrolled": true
   },
   "outputs": [
    {
     "ename": "UnicodeEncodeError",
     "evalue": "'ascii' codec can't encode character '\\u2603' in position 0: ordinal not in range(128)",
     "output_type": "error",
     "traceback": [
      "\u001b[0;31m---------------------------------------------------------------------------\u001b[0m",
      "\u001b[0;31mUnicodeEncodeError\u001b[0m                        Traceback (most recent call last)",
      "\u001b[0;32m<ipython-input-33-ac8f82d696d5>\u001b[0m in \u001b[0;36m<module>\u001b[0;34m\u001b[0m\n\u001b[1;32m      1\u001b[0m \u001b[0msnowman_char\u001b[0m \u001b[0;34m=\u001b[0m \u001b[0;34m'\\u2603'\u001b[0m\u001b[0;34m\u001b[0m\u001b[0;34m\u001b[0m\u001b[0m\n\u001b[0;32m----> 2\u001b[0;31m \u001b[0mprint\u001b[0m\u001b[0;34m(\u001b[0m\u001b[0msnowman_char\u001b[0m\u001b[0;34m.\u001b[0m\u001b[0mencode\u001b[0m\u001b[0;34m(\u001b[0m\u001b[0;34m'ascii'\u001b[0m\u001b[0;34m)\u001b[0m\u001b[0;34m)\u001b[0m\u001b[0;34m\u001b[0m\u001b[0;34m\u001b[0m\u001b[0m\n\u001b[0m",
      "\u001b[0;31mUnicodeEncodeError\u001b[0m: 'ascii' codec can't encode character '\\u2603' in position 0: ordinal not in range(128)"
     ]
    }
   ],
   "source": [
    "snowman_char = '\\u2603'\n",
    "print(snowman_char.encode('ascii'))"
   ]
  },
  {
   "cell_type": "markdown",
   "metadata": {},
   "source": [
    "## Handling encoding errors\n",
    "\n",
    "### Ignore characters that are not part of the encoding"
   ]
  },
  {
   "cell_type": "code",
   "execution_count": 34,
   "metadata": {},
   "outputs": [
    {
     "data": {
      "text/plain": [
       "b''"
      ]
     },
     "execution_count": 34,
     "metadata": {},
     "output_type": "execute_result"
    }
   ],
   "source": [
    "snowman_char.encode('ascii', 'ignore')"
   ]
  },
  {
   "cell_type": "markdown",
   "metadata": {},
   "source": [
    "### Replace characters not part of the encoding with \"?\""
   ]
  },
  {
   "cell_type": "code",
   "execution_count": 35,
   "metadata": {},
   "outputs": [
    {
     "data": {
      "text/plain": [
       "b'?'"
      ]
     },
     "execution_count": 35,
     "metadata": {},
     "output_type": "execute_result"
    }
   ],
   "source": [
    "snowman_char.encode('ascii', 'replace')"
   ]
  },
  {
   "cell_type": "markdown",
   "metadata": {},
   "source": [
    "### Escape characters not part of the encoding"
   ]
  },
  {
   "cell_type": "code",
   "execution_count": 36,
   "metadata": {},
   "outputs": [
    {
     "data": {
      "text/plain": [
       "b'\\\\u2603'"
      ]
     },
     "execution_count": 36,
     "metadata": {},
     "output_type": "execute_result"
    }
   ],
   "source": [
    "snowman_char.encode('ascii', 'backslashreplace')"
   ]
  },
  {
   "cell_type": "markdown",
   "metadata": {},
   "source": [
    "### Produce a XML-friendly string"
   ]
  },
  {
   "cell_type": "code",
   "execution_count": 37,
   "metadata": {},
   "outputs": [
    {
     "data": {
      "text/plain": [
       "b'&#9731;'"
      ]
     },
     "execution_count": 37,
     "metadata": {},
     "output_type": "execute_result"
    }
   ],
   "source": [
    "snowman_char.encode('ascii', 'xmlcharrefreplace')"
   ]
  },
  {
   "cell_type": "markdown",
   "metadata": {},
   "source": [
    "## Decoding"
   ]
  },
  {
   "cell_type": "code",
   "execution_count": 38,
   "metadata": {},
   "outputs": [],
   "source": [
    "my_nag = \"I can't wait for more heat so that there are no more \\u2603 \\u2603\""
   ]
  },
  {
   "cell_type": "code",
   "execution_count": 40,
   "metadata": {},
   "outputs": [
    {
     "name": "stdout",
     "output_type": "stream",
     "text": [
      "I can't wait for more heat so that there are no more ☃ ☃\n"
     ]
    },
    {
     "data": {
      "text/plain": [
       "str"
      ]
     },
     "execution_count": 40,
     "metadata": {},
     "output_type": "execute_result"
    }
   ],
   "source": [
    "print(my_nag)\n",
    "type(my_nag)"
   ]
  },
  {
   "cell_type": "code",
   "execution_count": 41,
   "metadata": {},
   "outputs": [
    {
     "name": "stdout",
     "output_type": "stream",
     "text": [
      "b\"I can't wait for more heat so that there are no more \\xe2\\x98\\x83 \\xe2\\x98\\x83\"\n"
     ]
    },
    {
     "data": {
      "text/plain": [
       "bytes"
      ]
     },
     "execution_count": 41,
     "metadata": {},
     "output_type": "execute_result"
    }
   ],
   "source": [
    "my_nag_bytes = my_nag.encode('utf-8')\n",
    "print(my_nag_bytes)\n",
    "type(my_nag_bytes)"
   ]
  },
  {
   "cell_type": "code",
   "execution_count": 42,
   "metadata": {},
   "outputs": [
    {
     "name": "stdout",
     "output_type": "stream",
     "text": [
      "I can't wait for more heat so that there are no more ☃ ☃\n"
     ]
    },
    {
     "data": {
      "text/plain": [
       "str"
      ]
     },
     "execution_count": 42,
     "metadata": {},
     "output_type": "execute_result"
    }
   ],
   "source": [
    "my_nag_decoded = my_nag_bytes.decode('utf-8')\n",
    "print(my_nag_decoded)\n",
    "type(my_nag_decoded)"
   ]
  },
  {
   "cell_type": "code",
   "execution_count": 43,
   "metadata": {},
   "outputs": [
    {
     "name": "stdout",
     "output_type": "stream",
     "text": [
      "I can't wait for more heat so that there are no more â â\n"
     ]
    }
   ],
   "source": [
    "my_nag_decoded_wrong = my_nag_bytes.decode('latin-1')\n",
    "print(my_nag_decoded_wrong)"
   ]
  },
  {
   "cell_type": "code",
   "execution_count": 45,
   "metadata": {},
   "outputs": [
    {
     "ename": "UnicodeDecodeError",
     "evalue": "'ascii' codec can't decode byte 0xe2 in position 53: ordinal not in range(128)",
     "output_type": "error",
     "traceback": [
      "\u001b[0;31m---------------------------------------------------------------------------\u001b[0m",
      "\u001b[0;31mUnicodeDecodeError\u001b[0m                        Traceback (most recent call last)",
      "\u001b[0;32m<ipython-input-45-4aa6378a8630>\u001b[0m in \u001b[0;36m<module>\u001b[0;34m\u001b[0m\n\u001b[0;32m----> 1\u001b[0;31m \u001b[0mmy_nag_decoded_wrong\u001b[0m \u001b[0;34m=\u001b[0m \u001b[0mmy_nag_bytes\u001b[0m\u001b[0;34m.\u001b[0m\u001b[0mdecode\u001b[0m\u001b[0;34m(\u001b[0m\u001b[0;34m'ascii'\u001b[0m\u001b[0;34m)\u001b[0m\u001b[0;34m\u001b[0m\u001b[0;34m\u001b[0m\u001b[0m\n\u001b[0m\u001b[1;32m      2\u001b[0m \u001b[0mprint\u001b[0m\u001b[0;34m(\u001b[0m\u001b[0mmy_nag_decoded_wrong\u001b[0m\u001b[0;34m)\u001b[0m\u001b[0;34m\u001b[0m\u001b[0;34m\u001b[0m\u001b[0m\n",
      "\u001b[0;31mUnicodeDecodeError\u001b[0m: 'ascii' codec can't decode byte 0xe2 in position 53: ordinal not in range(128)"
     ]
    }
   ],
   "source": [
    "my_nag_decoded_wrong = my_nag_bytes.decode('ascii')\n",
    "print(my_nag_decoded_wrong)"
   ]
  },
  {
   "cell_type": "markdown",
   "metadata": {},
   "source": [
    "## Formatting"
   ]
  },
  {
   "cell_type": "code",
   "execution_count": 46,
   "metadata": {},
   "outputs": [],
   "source": [
    "import datetime"
   ]
  },
  {
   "cell_type": "code",
   "execution_count": 49,
   "metadata": {},
   "outputs": [
    {
     "name": "stdout",
     "output_type": "stream",
     "text": [
      "Tuesday\n"
     ]
    }
   ],
   "source": [
    "today = datetime.datetime.now().strftime('%A')\n",
    "print(today)"
   ]
  },
  {
   "cell_type": "markdown",
   "metadata": {},
   "source": [
    "### Old style with %"
   ]
  },
  {
   "cell_type": "code",
   "execution_count": 50,
   "metadata": {},
   "outputs": [],
   "source": [
    "students = []\n",
    "students.append({\"name\":\"Max Powers\", \"email\":\"max@gmail.com\", \"midterm\": 87.76, \"final\":88.65, \"grade\":\"B+\"})\n",
    "students.append({\"name\":\"Julie Thompson\", \"email\":\"julie@outlook.com\", \"midterm\": 93.43, \"final\":90.45, \"grade\":\"A-\"})\n",
    "students.append({\"name\":\"Amber Francis\", \"email\":\"amber@gmail.com\", \"midterm\": 85.23, \"final\":97.54, \"grade\":\"A-\"})\n",
    "students.append({\"name\":\"Andrew Smith\", \"email\":\"andrew@yahoo.com\", \"midterm\": 87.43, \"final\":80.32, \"grade\":\"B\"})"
   ]
  },
  {
   "cell_type": "code",
   "execution_count": 55,
   "metadata": {},
   "outputs": [
    {
     "name": "stdout",
     "output_type": "stream",
     "text": [
      "Max Powers max@gmail.com 87.760000 88.650000 B+\n",
      "Julie Thompson julie@outlook.com 93.430000 90.450000 A-\n",
      "Amber Francis amber@gmail.com 85.230000 97.540000 A-\n",
      "Andrew Smith andrew@yahoo.com 87.430000 80.320000 B\n"
     ]
    }
   ],
   "source": [
    "for student in students:\n",
    "    student_data = (\"%s %s %f %f %s\" %\n",
    "                        (\n",
    "                            student['name'],\n",
    "                            student['email'],\n",
    "                            student['midterm'],\n",
    "                            student['final'],\n",
    "                            student['grade'],\n",
    "                        )\n",
    "                    )\n",
    "\n",
    "    print(student_data)"
   ]
  },
  {
   "cell_type": "code",
   "execution_count": 56,
   "metadata": {},
   "outputs": [
    {
     "name": "stdout",
     "output_type": "stream",
     "text": [
      "          Max Powers        max@gmail.com  87.760000  88.650000    B+\n",
      "      Julie Thompson    julie@outlook.com  93.430000  90.450000    A-\n",
      "       Amber Francis      amber@gmail.com  85.230000  97.540000    A-\n",
      "        Andrew Smith     andrew@yahoo.com  87.430000  80.320000     B\n"
     ]
    }
   ],
   "source": [
    "for student in students:\n",
    "    student_data = (\"%20s %20s %10f %10f %5s\" %\n",
    "                        (\n",
    "                            student['name'],\n",
    "                            student['email'],\n",
    "                            student['midterm'],\n",
    "                            student['final'],\n",
    "                            student['grade'],\n",
    "                        )\n",
    "                    )\n",
    "\n",
    "    print(student_data)"
   ]
  },
  {
   "cell_type": "code",
   "execution_count": 57,
   "metadata": {},
   "outputs": [
    {
     "name": "stdout",
     "output_type": "stream",
     "text": [
      "Max Powers           max@gmail.com        87.760000  88.650000  B+   \n",
      "Julie Thompson       julie@outlook.com    93.430000  90.450000  A-   \n",
      "Amber Francis        amber@gmail.com      85.230000  97.540000  A-   \n",
      "Andrew Smith         andrew@yahoo.com     87.430000  80.320000  B    \n"
     ]
    }
   ],
   "source": [
    "for student in students:\n",
    "    student_data = (\"%-20s %-20s %-10f %-10f %-5s\" %\n",
    "                        (\n",
    "                            student['name'],\n",
    "                            student['email'],\n",
    "                            student['midterm'],\n",
    "                            student['final'],\n",
    "                            student['grade'],\n",
    "                        )\n",
    "                    )\n",
    "\n",
    "    print(student_data)"
   ]
  },
  {
   "cell_type": "code",
   "execution_count": 60,
   "metadata": {},
   "outputs": [
    {
     "name": "stdout",
     "output_type": "stream",
     "text": [
      "Max Powers           max@gmail.com        87.8  88.7  B+   \n",
      "Julie Thompson       julie@outlook.com    93.4  90.5  A-   \n",
      "Amber Francis        amber@gmail.com      85.2  97.5  A-   \n",
      "Andrew Smith         andrew@yahoo.com     87.4  80.3  B    \n"
     ]
    }
   ],
   "source": [
    "for student in students:\n",
    "    student_data = (\"%-20s %-20s %-5.1f %-5.1f %-5s\" %\n",
    "                        (\n",
    "                            student['name'],\n",
    "                            student['email'],\n",
    "                            student['midterm'],\n",
    "                            student['final'],\n",
    "                            student['grade'],\n",
    "                        )\n",
    "                    )\n",
    "\n",
    "    print(student_data)"
   ]
  },
  {
   "cell_type": "markdown",
   "metadata": {},
   "source": [
    "### New style with {} and format"
   ]
  },
  {
   "cell_type": "code",
   "execution_count": 61,
   "metadata": {},
   "outputs": [
    {
     "name": "stdout",
     "output_type": "stream",
     "text": [
      "Max Powers max@gmail.com 87.76 88.65 B+\n",
      "Julie Thompson julie@outlook.com 93.43 90.45 A-\n",
      "Amber Francis amber@gmail.com 85.23 97.54 A-\n",
      "Andrew Smith andrew@yahoo.com 87.43 80.32 B\n"
     ]
    }
   ],
   "source": [
    "for student in students:\n",
    "    student_data = (\n",
    "        \"{} {} {} {} {}\".format(\n",
    "            student['name'],\n",
    "            student['email'],\n",
    "            student['midterm'],\n",
    "            student['final'],\n",
    "            student['grade'],\n",
    "        )\n",
    "    )\n",
    "    print(student_data)"
   ]
  },
  {
   "cell_type": "code",
   "execution_count": 63,
   "metadata": {},
   "outputs": [
    {
     "name": "stdout",
     "output_type": "stream",
     "text": [
      "Max Powers max@gmail.com 87.76 88.65 B+\n",
      "Julie Thompson julie@outlook.com 93.43 90.45 A-\n",
      "Amber Francis amber@gmail.com 85.23 97.54 A-\n",
      "Andrew Smith andrew@yahoo.com 87.43 80.32 B\n"
     ]
    }
   ],
   "source": [
    "for student in students:\n",
    "    student_data = (\n",
    "        \"{name} {email} {midterm} {final} {grade}\".format(\n",
    "            midterm = student['midterm'],\n",
    "            final = student['final'],\n",
    "            name = student['name'],\n",
    "            grade = student['grade'],\n",
    "            email = student['email'],\n",
    "        )\n",
    "    )\n",
    "    print(student_data)"
   ]
  },
  {
   "cell_type": "code",
   "execution_count": 64,
   "metadata": {},
   "outputs": [
    {
     "name": "stdout",
     "output_type": "stream",
     "text": [
      "Max Powers max@gmail.com 87.760000 88.650000 B+\n",
      "Julie Thompson julie@outlook.com 93.430000 90.450000 A-\n",
      "Amber Francis amber@gmail.com 85.230000 97.540000 A-\n",
      "Andrew Smith andrew@yahoo.com 87.430000 80.320000 B\n"
     ]
    }
   ],
   "source": [
    "for student in students:\n",
    "    student_data = (\n",
    "        \"{name:s} {email:s} {midterm:f} {final:f} {grade:s}\".format(\n",
    "            midterm = student['midterm'],\n",
    "            final = student['final'],\n",
    "            name = student['name'],\n",
    "            grade = student['grade'],\n",
    "            email = student['email'],\n",
    "        )\n",
    "    )\n",
    "    print(student_data)"
   ]
  },
  {
   "cell_type": "code",
   "execution_count": 65,
   "metadata": {},
   "outputs": [
    {
     "name": "stdout",
     "output_type": "stream",
     "text": [
      "Max Powers           max@gmail.com        87.760000 88.650000 B+   \n",
      "Julie Thompson       julie@outlook.com    93.430000 90.450000 A-   \n",
      "Amber Francis        amber@gmail.com      85.230000 97.540000 A-   \n",
      "Andrew Smith         andrew@yahoo.com     87.430000 80.320000 B    \n"
     ]
    }
   ],
   "source": [
    "for student in students:\n",
    "    student_data = (\n",
    "        \"{name:<20s} {email:<20s} {midterm:<5f} {final:<5f} {grade:<5s}\".format(\n",
    "            midterm = student['midterm'],\n",
    "            final = student['final'],\n",
    "            name = student['name'],\n",
    "            grade = student['grade'],\n",
    "            email = student['email'],\n",
    "        )\n",
    "    )\n",
    "    print(student_data)"
   ]
  },
  {
   "cell_type": "code",
   "execution_count": 66,
   "metadata": {},
   "outputs": [
    {
     "name": "stdout",
     "output_type": "stream",
     "text": [
      "Max Powers           max@gmail.com        87.8  88.7  B+   \n",
      "Julie Thompson       julie@outlook.com    93.4  90.5  A-   \n",
      "Amber Francis        amber@gmail.com      85.2  97.5  A-   \n",
      "Andrew Smith         andrew@yahoo.com     87.4  80.3  B    \n"
     ]
    }
   ],
   "source": [
    "for student in students:\n",
    "    student_data = (\n",
    "        \"{name:<20s} {email:<20s} {midterm:<5.1f} {final:<5.1f} {grade:<5s}\".format(\n",
    "            midterm = student['midterm'],\n",
    "            final = student['final'],\n",
    "            name = student['name'],\n",
    "            grade = student['grade'],\n",
    "            email = student['email'],\n",
    "        )\n",
    "    )\n",
    "    print(student_data)"
   ]
  },
  {
   "cell_type": "markdown",
   "metadata": {},
   "source": [
    "## Regular Expressions"
   ]
  },
  {
   "cell_type": "code",
   "execution_count": 1,
   "metadata": {},
   "outputs": [],
   "source": [
    "import re"
   ]
  },
  {
   "cell_type": "code",
   "execution_count": 3,
   "metadata": {},
   "outputs": [],
   "source": [
    "source = \"To be or not to be, that is the question.\"\n",
    "pattern = 'To be'"
   ]
  },
  {
   "cell_type": "code",
   "execution_count": 4,
   "metadata": {},
   "outputs": [
    {
     "name": "stdout",
     "output_type": "stream",
     "text": [
      "<re.Match object; span=(0, 5), match='To be'>\n"
     ]
    }
   ],
   "source": [
    "result = re.match(pattern, source)\n",
    "print(result)"
   ]
  },
  {
   "cell_type": "code",
   "execution_count": 9,
   "metadata": {},
   "outputs": [
    {
     "name": "stdout",
     "output_type": "stream",
     "text": [
      "re.compile('To be')\n"
     ]
    }
   ],
   "source": [
    "# compiling a pattern for regexp use\n",
    "compiled_pattern = re.compile('To be')\n",
    "print(compiled_pattern)"
   ]
  },
  {
   "cell_type": "code",
   "execution_count": 10,
   "metadata": {},
   "outputs": [
    {
     "name": "stdout",
     "output_type": "stream",
     "text": [
      "<re.Match object; span=(0, 5), match='To be'>\n"
     ]
    }
   ],
   "source": [
    "result_compiled = compiled_pattern.match(source)\n",
    "print(result_compiled)"
   ]
  },
  {
   "cell_type": "markdown",
   "metadata": {},
   "source": [
    "### Exact match with match()"
   ]
  },
  {
   "cell_type": "code",
   "execution_count": 11,
   "metadata": {},
   "outputs": [
    {
     "name": "stdout",
     "output_type": "stream",
     "text": [
      "To be\n"
     ]
    }
   ],
   "source": [
    "m = compiled_pattern.match(source)\n",
    "\n",
    "if m:\n",
    "    print(m.group())"
   ]
  },
  {
   "cell_type": "code",
   "execution_count": 14,
   "metadata": {},
   "outputs": [
    {
     "name": "stdout",
     "output_type": "stream",
     "text": [
      "Not found\n"
     ]
    }
   ],
   "source": [
    "middle_pattern = re.compile('that is')\n",
    "m = middle_pattern.match(source)\n",
    "\n",
    "if m:\n",
    "    print(m.group())\n",
    "else:\n",
    "    print('Not found')"
   ]
  },
  {
   "cell_type": "code",
   "execution_count": 16,
   "metadata": {},
   "outputs": [
    {
     "name": "stdout",
     "output_type": "stream",
     "text": [
      "To be or not to be, that is\n"
     ]
    }
   ],
   "source": [
    "# match looks at the begging of the source\n",
    "\n",
    "middle_pattern_with_wildcard = re.compile('.*that is')\n",
    "m = middle_pattern_with_wildcard.match(source)\n",
    "\n",
    "if m:\n",
    "    print(m.group())\n",
    "else:\n",
    "    print('Not found')"
   ]
  },
  {
   "cell_type": "markdown",
   "metadata": {},
   "source": [
    "### First match with search()"
   ]
  },
  {
   "cell_type": "code",
   "execution_count": 18,
   "metadata": {},
   "outputs": [
    {
     "name": "stdout",
     "output_type": "stream",
     "text": [
      "that is\n"
     ]
    }
   ],
   "source": [
    "middle_pattern = re.compile('that is')\n",
    "m = middle_pattern.search(source)\n",
    "\n",
    "if m:\n",
    "    print(m.group())\n",
    "else:\n",
    "    print('Not found')"
   ]
  },
  {
   "cell_type": "markdown",
   "metadata": {},
   "source": [
    "### All matches with findall()"
   ]
  },
  {
   "cell_type": "code",
   "execution_count": 21,
   "metadata": {},
   "outputs": [
    {
     "name": "stdout",
     "output_type": "stream",
     "text": [
      "Found 2 matches.\n",
      "['n', 'n']\n"
     ]
    }
   ],
   "source": [
    "n_pattern = re.compile('n')\n",
    "m = n_pattern.findall(source)\n",
    "\n",
    "if m:\n",
    "    print('Found', len(m), 'matches.')\n",
    "    print(m)\n",
    "else:\n",
    "    print('Not found')"
   ]
  },
  {
   "cell_type": "code",
   "execution_count": 25,
   "metadata": {},
   "outputs": [
    {
     "name": "stdout",
     "output_type": "stream",
     "text": [
      "Found 2 matches.\n",
      "['no', 'n.']\n"
     ]
    }
   ],
   "source": [
    "# find all n values that have any character after\n",
    "n_and_char_pattern = re.compile('n.')\n",
    "m = n_and_char_pattern.findall(source)\n",
    "print('Found', len(m), 'matches.')\n",
    "print(m)"
   ]
  },
  {
   "cell_type": "code",
   "execution_count": 27,
   "metadata": {},
   "outputs": [
    {
     "name": "stdout",
     "output_type": "stream",
     "text": [
      "Found 2 matches.\n",
      "['no', 'n.']\n"
     ]
    }
   ],
   "source": [
    "# find all n values that have or not any character after\n",
    "n_and_char_optional_pattern = re.compile('n.?')\n",
    "m = n_and_char_optional_pattern.findall(source)\n",
    "print('Found', len(m), 'matches.')\n",
    "print(m)"
   ]
  },
  {
   "cell_type": "markdown",
   "metadata": {},
   "source": [
    "### Split at matches with split()"
   ]
  },
  {
   "cell_type": "code",
   "execution_count": 28,
   "metadata": {},
   "outputs": [
    {
     "name": "stdout",
     "output_type": "stream",
     "text": [
      "['To be or ', 'ot to be, that is the questio', '.']\n"
     ]
    }
   ],
   "source": [
    "n_pattern = re.compile('n')\n",
    "m = n_pattern.split(source)\n",
    "print(m)"
   ]
  },
  {
   "cell_type": "markdown",
   "metadata": {},
   "source": [
    "### Replace at matches with sub()"
   ]
  },
  {
   "cell_type": "code",
   "execution_count": 29,
   "metadata": {},
   "outputs": [
    {
     "name": "stdout",
     "output_type": "stream",
     "text": [
      "To be or ?ot to be, that is the questio?.\n"
     ]
    }
   ],
   "source": [
    "m = n_pattern.sub('?', source)\n",
    "print(m)"
   ]
  },
  {
   "cell_type": "markdown",
   "metadata": {},
   "source": [
    "### Defining patterns"
   ]
  },
  {
   "cell_type": "code",
   "execution_count": 32,
   "metadata": {},
   "outputs": [
    {
     "name": "stdout",
     "output_type": "stream",
     "text": [
      "0123456789abcdefghijklmnopqrstuvwxyzABCDEFGHIJKLMNOPQRSTUVWXYZ!\"#$%&'()*+,-./:;<=>?@[\\]^_`{|}~ \t\n",
      "\r",
      "\u000b",
      "\f",
      "\n"
     ]
    }
   ],
   "source": [
    "import string\n",
    "printable = string.printable\n",
    "print(printable)"
   ]
  },
  {
   "cell_type": "code",
   "execution_count": 34,
   "metadata": {},
   "outputs": [
    {
     "data": {
      "text/plain": [
       "['0', '1', '2', '3', '4', '5', '6', '7', '8', '9']"
      ]
     },
     "execution_count": 34,
     "metadata": {},
     "output_type": "execute_result"
    }
   ],
   "source": [
    "re.findall('\\d', printable)  # matches a single digit"
   ]
  },
  {
   "cell_type": "code",
   "execution_count": 35,
   "metadata": {},
   "outputs": [
    {
     "data": {
      "text/plain": [
       "['0',\n",
       " '1',\n",
       " '2',\n",
       " '3',\n",
       " '4',\n",
       " '5',\n",
       " '6',\n",
       " '7',\n",
       " '8',\n",
       " '9',\n",
       " 'a',\n",
       " 'b',\n",
       " 'c',\n",
       " 'd',\n",
       " 'e',\n",
       " 'f',\n",
       " 'g',\n",
       " 'h',\n",
       " 'i',\n",
       " 'j',\n",
       " 'k',\n",
       " 'l',\n",
       " 'm',\n",
       " 'n',\n",
       " 'o',\n",
       " 'p',\n",
       " 'q',\n",
       " 'r',\n",
       " 's',\n",
       " 't',\n",
       " 'u',\n",
       " 'v',\n",
       " 'w',\n",
       " 'x',\n",
       " 'y',\n",
       " 'z',\n",
       " 'A',\n",
       " 'B',\n",
       " 'C',\n",
       " 'D',\n",
       " 'E',\n",
       " 'F',\n",
       " 'G',\n",
       " 'H',\n",
       " 'I',\n",
       " 'J',\n",
       " 'K',\n",
       " 'L',\n",
       " 'M',\n",
       " 'N',\n",
       " 'O',\n",
       " 'P',\n",
       " 'Q',\n",
       " 'R',\n",
       " 'S',\n",
       " 'T',\n",
       " 'U',\n",
       " 'V',\n",
       " 'W',\n",
       " 'X',\n",
       " 'Y',\n",
       " 'Z',\n",
       " '_']"
      ]
     },
     "execution_count": 35,
     "metadata": {},
     "output_type": "execute_result"
    }
   ],
   "source": [
    "re.findall('\\w', printable)  # matches any alphanumerica characters and underscore"
   ]
  },
  {
   "cell_type": "code",
   "execution_count": 36,
   "metadata": {},
   "outputs": [
    {
     "data": {
      "text/plain": [
       "[' ', '\\t', '\\n', '\\r', '\\x0b', '\\x0c']"
      ]
     },
     "execution_count": 36,
     "metadata": {},
     "output_type": "execute_result"
    }
   ],
   "source": [
    "# matche all white space\n",
    "re.findall('\\s', printable)"
   ]
  },
  {
   "cell_type": "markdown",
   "metadata": {},
   "source": [
    "### Using specifiers\n",
    "\n",
    "Special characters that allow you to capture values using regexp."
   ]
  },
  {
   "cell_type": "code",
   "execution_count": 37,
   "metadata": {},
   "outputs": [],
   "source": [
    "large_source = \"\"\"\n",
    "Hi Bianca,\n",
    "It was great to talk to you about regular expressions. I really understand\n",
    "them more than I ever had before. Would you like to work on the next project\n",
    "together? My number is 650-555-3948. Thanks and talk to you soon!\n",
    "\n",
    "-Mary\n",
    "\"\"\""
   ]
  },
  {
   "cell_type": "code",
   "execution_count": 42,
   "metadata": {},
   "outputs": [
    {
     "name": "stdout",
     "output_type": "stream",
     "text": [
      "['650-555-3948']\n"
     ]
    }
   ],
   "source": [
    "# find phone numbers in a text blob\n",
    "# raw string literal avoids using python special characters\n",
    "phone_number_pattern = re.compile(r'[0-9]{3}-[0-9]{3}-[0-9]{4}')\n",
    "m = phone_number_pattern.findall(large_source)\n",
    "print(m)"
   ]
  },
  {
   "cell_type": "code",
   "execution_count": 43,
   "metadata": {},
   "outputs": [
    {
     "name": "stdout",
     "output_type": "stream",
     "text": [
      "['650-555-3948']\n"
     ]
    }
   ],
   "source": [
    "phone_number_pattern = re.compile(r'\\d{3}-\\d{3}-\\d{4}')\n",
    "m = phone_number_pattern.findall(large_source)\n",
    "print(m)"
   ]
  },
  {
   "cell_type": "markdown",
   "metadata": {},
   "source": [
    "### Specifying match output"
   ]
  },
  {
   "cell_type": "code",
   "execution_count": 68,
   "metadata": {},
   "outputs": [
    {
     "name": "stdout",
     "output_type": "stream",
     "text": [
      "650-555-3948\n",
      "('650', '555-3948')\n"
     ]
    }
   ],
   "source": [
    "phone_number_pattern = re.compile(r'(\\d{3})-(\\d{3}-\\d{4})')\n",
    "m = phone_number_pattern.search(large_source)\n",
    "\n",
    "if m:\n",
    "    print(m.group())\n",
    "    print(m.groups())"
   ]
  },
  {
   "cell_type": "code",
   "execution_count": 70,
   "metadata": {},
   "outputs": [
    {
     "name": "stdout",
     "output_type": "stream",
     "text": [
      "650\n",
      "555-3948\n"
     ]
    }
   ],
   "source": [
    "# naming groups\n",
    "phone_number_pattern = re.compile(r'(?P<areacode>\\d{3})-(?P<number>\\d{3}-\\d{4})')\n",
    "m = phone_number_pattern.search(large_source)\n",
    "\n",
    "if m:\n",
    "    print(m.group('areacode'))\n",
    "    print(m.group('number'))"
   ]
  },
  {
   "cell_type": "markdown",
   "metadata": {},
   "source": [
    "## Binary data\n",
    "\n",
    "### Bytes and bytearray\n",
    "\n",
    "Bytes are inmutable<br>Bytearrays are mutable"
   ]
  },
  {
   "cell_type": "code",
   "execution_count": 72,
   "metadata": {},
   "outputs": [
    {
     "name": "stdout",
     "output_type": "stream",
     "text": [
      "b'\\x04\\x03\\xf2'\n"
     ]
    }
   ],
   "source": [
    "byte_value_list = [4, 3, 242]\n",
    "byte_test = bytes(byte_value_list)\n",
    "print(byte_test)"
   ]
  },
  {
   "cell_type": "code",
   "execution_count": 75,
   "metadata": {},
   "outputs": [
    {
     "ename": "TypeError",
     "evalue": "'bytes' object does not support item assignment",
     "output_type": "error",
     "traceback": [
      "\u001b[0;31m---------------------------------------------------------------------------\u001b[0m",
      "\u001b[0;31mTypeError\u001b[0m                                 Traceback (most recent call last)",
      "\u001b[0;32m<ipython-input-75-d8196f082c81>\u001b[0m in \u001b[0;36m<module>\u001b[0;34m\u001b[0m\n\u001b[0;32m----> 1\u001b[0;31m \u001b[0mbyte_test\u001b[0m\u001b[0;34m[\u001b[0m\u001b[0;36m1\u001b[0m\u001b[0;34m]\u001b[0m \u001b[0;34m=\u001b[0m \u001b[0;36m129\u001b[0m\u001b[0;34m\u001b[0m\u001b[0;34m\u001b[0m\u001b[0m\n\u001b[0m",
      "\u001b[0;31mTypeError\u001b[0m: 'bytes' object does not support item assignment"
     ]
    }
   ],
   "source": [
    "byte_test[1] = 129"
   ]
  },
  {
   "cell_type": "markdown",
   "metadata": {},
   "source": [
    "Transforming hexa to decimal:<br>\n",
    "\\xf2 =>  (15 * 16) + 2 = 242"
   ]
  },
  {
   "cell_type": "code",
   "execution_count": 74,
   "metadata": {},
   "outputs": [
    {
     "name": "stdout",
     "output_type": "stream",
     "text": [
      "bytearray(b'\\x04\\x03\\xf2')\n"
     ]
    }
   ],
   "source": [
    "bytes_array_test = bytearray(byte_value_list)\n",
    "print(bytes_array_test)"
   ]
  },
  {
   "cell_type": "code",
   "execution_count": 76,
   "metadata": {},
   "outputs": [
    {
     "name": "stdout",
     "output_type": "stream",
     "text": [
      "bytearray(b'\\x04\\x7f\\xf2')\n"
     ]
    }
   ],
   "source": [
    "bytes_array_test[1] = 127\n",
    "print(bytes_array_test)"
   ]
  },
  {
   "cell_type": "code",
   "execution_count": 77,
   "metadata": {},
   "outputs": [
    {
     "name": "stdout",
     "output_type": "stream",
     "text": [
      "bytearray(b'\\x04\\x7fD')\n"
     ]
    }
   ],
   "source": [
    "bytes_array_test[2] = 68\n",
    "print(bytes_array_test)"
   ]
  },
  {
   "cell_type": "markdown",
   "metadata": {},
   "source": [
    "### Convert binary with struct"
   ]
  },
  {
   "cell_type": "code",
   "execution_count": 81,
   "metadata": {},
   "outputs": [
    {
     "name": "stdout",
     "output_type": "stream",
     "text": [
      "Valid PNG, width 500 height 398\n"
     ]
    }
   ],
   "source": [
    "import struct\n",
    "\n",
    "f = open('cal-image.png', 'rb')\n",
    "\n",
    "try:\n",
    "    data = f.read(24)\n",
    "finally:\n",
    "    f.close()\n",
    "    \n",
    "png_header = b'\\x89PNG\\r\\n\\x1a\\n'\n",
    "\n",
    "if data[0:8] == png_header:\n",
    "    width, height = struct.unpack('>LL', data[16:24])\n",
    "    print('Valid PNG, width', width, 'height', height)\n",
    "else:\n",
    "    print('Not a valid PNG')"
   ]
  },
  {
   "cell_type": "markdown",
   "metadata": {},
   "source": [
    "### Convert byte/strings with bianascii()"
   ]
  },
  {
   "cell_type": "code",
   "execution_count": 83,
   "metadata": {
    "scrolled": true
   },
   "outputs": [
    {
     "name": "stdout",
     "output_type": "stream",
     "text": [
      "b'89504e470d0a1a0a'\n"
     ]
    }
   ],
   "source": [
    "import binascii\n",
    "png_header_in_hex = binascii.hexlify(png_header)\n",
    "print(png_header_in_hex)"
   ]
  },
  {
   "cell_type": "code",
   "execution_count": 84,
   "metadata": {},
   "outputs": [
    {
     "name": "stdout",
     "output_type": "stream",
     "text": [
      "b'\\x89PNG\\r\\n\\x1a\\n'\n"
     ]
    }
   ],
   "source": [
    "print(binascii.unhexlify(png_header_in_hex))"
   ]
  },
  {
   "cell_type": "markdown",
   "metadata": {},
   "source": [
    "## File Input and Output\n",
    "\n",
    "file_handle = open(path_to_file, mode)"
   ]
  },
  {
   "cell_type": "code",
   "execution_count": 122,
   "metadata": {},
   "outputs": [],
   "source": [
    "contents = '''To be or not to be, \n",
    "that is the question.'''"
   ]
  },
  {
   "cell_type": "code",
   "execution_count": 123,
   "metadata": {},
   "outputs": [],
   "source": [
    "poem_file = open('shakespeare.txt', 'wt')\n",
    "poem_file.write(contents)\n",
    "poem_file.close()"
   ]
  },
  {
   "cell_type": "code",
   "execution_count": 119,
   "metadata": {},
   "outputs": [
    {
     "name": "stdout",
     "output_type": "stream",
     "text": [
      "8.1 - Encoding Text.pptx           Notepad - Wk 8.ipynb\r\n",
      "8.10 - Structured Text Files.ipynb Week 8 Assignment.ipynb\r\n",
      "8.3 - Encoding Text.pptx           binary\r\n",
      "8.4 - Unicode Strings.ipynb        cal-image.png\r\n",
      "8.5 - Encoding.ipynb               grades.csv\r\n",
      "8.6 - Formatting.ipynb             grades.json\r\n",
      "8.7 - Regular Expressions.ipynb    grades.xml\r\n",
      "8.8 - Binary Data.ipynb            grades_python.json\r\n",
      "8.9 - File Input and Output.ipynb  shakespeare.txt\r\n"
     ]
    }
   ],
   "source": [
    "!ls"
   ]
  },
  {
   "cell_type": "code",
   "execution_count": 124,
   "metadata": {},
   "outputs": [
    {
     "name": "stdout",
     "output_type": "stream",
     "text": [
      "To be or not to be, \r\n",
      "that is the question."
     ]
    }
   ],
   "source": [
    "!cat shakespeare.txt"
   ]
  },
  {
   "cell_type": "code",
   "execution_count": 125,
   "metadata": {},
   "outputs": [],
   "source": [
    "author = '\\n --Written by Shakespeare'"
   ]
  },
  {
   "cell_type": "code",
   "execution_count": 126,
   "metadata": {},
   "outputs": [],
   "source": [
    "# append more text\n",
    "poem_file = open('shakespeare.txt', 'at')\n",
    "poem_file.write(author)\n",
    "poem_file.close()"
   ]
  },
  {
   "cell_type": "code",
   "execution_count": 127,
   "metadata": {},
   "outputs": [
    {
     "name": "stdout",
     "output_type": "stream",
     "text": [
      "To be or not to be, \r\n",
      "that is the question.\r\n",
      " --Written by Shakespeare"
     ]
    }
   ],
   "source": [
    "!cat shakespeare.txt"
   ]
  },
  {
   "cell_type": "code",
   "execution_count": 128,
   "metadata": {},
   "outputs": [
    {
     "name": "stdout",
     "output_type": "stream",
     "text": [
      "To be or not to be, \n",
      "that is the question.\n",
      " --Written by Shakespeare\n"
     ]
    }
   ],
   "source": [
    "poem_file_read = open('shakespeare.txt', 'rt')\n",
    "pr = poem_file_read.read()\n",
    "poem_file_read.close()\n",
    "print(pr)"
   ]
  },
  {
   "cell_type": "code",
   "execution_count": 129,
   "metadata": {},
   "outputs": [
    {
     "name": "stdout",
     "output_type": "stream",
     "text": [
      "['To be or not to be, \\n', 'that is the question.\\n', ' --Written by Shakespeare']\n"
     ]
    }
   ],
   "source": [
    "poem_file_read = open('shakespeare.txt', 'rt')\n",
    "pr = poem_file_read.readlines()\n",
    "poem_file_read.close()\n",
    "print(pr)"
   ]
  },
  {
   "cell_type": "code",
   "execution_count": 130,
   "metadata": {},
   "outputs": [
    {
     "name": "stdout",
     "output_type": "stream",
     "text": [
      "To be or not to be, \n",
      "\n"
     ]
    }
   ],
   "source": [
    "print(pr[0])"
   ]
  },
  {
   "cell_type": "code",
   "execution_count": 131,
   "metadata": {},
   "outputs": [
    {
     "name": "stdout",
     "output_type": "stream",
     "text": [
      "To be or not to be, \n",
      "\n",
      "that is the question.\n",
      "\n",
      " --Written by Shakespeare\n"
     ]
    }
   ],
   "source": [
    "for line in pr:\n",
    "    print(line)"
   ]
  },
  {
   "cell_type": "code",
   "execution_count": 132,
   "metadata": {},
   "outputs": [
    {
     "name": "stdout",
     "output_type": "stream",
     "text": [
      "To be or not to be, \n",
      "\n",
      "that is the question.\n",
      "\n",
      " --Written by Shakespeare\n"
     ]
    }
   ],
   "source": [
    "# readlines reads the entire document, readline reads specific lines\n",
    "poem_file_read = open('shakespeare.txt', 'rt')\n",
    "\n",
    "while True:\n",
    "    line = poem_file_read.readline()\n",
    "    if not line:\n",
    "        break\n",
    "    print(line)\n",
    "\n",
    "poem_file_read.close()"
   ]
  },
  {
   "cell_type": "code",
   "execution_count": 133,
   "metadata": {},
   "outputs": [
    {
     "name": "stdout",
     "output_type": "stream",
     "text": [
      "To be or not to be, \n",
      "\n",
      "that is the question.\n",
      "\n",
      " --Written by Shakespeare\n"
     ]
    }
   ],
   "source": [
    "poem_file_read = open('shakespeare.txt', 'rt')\n",
    "\n",
    "for line in poem_file_read:\n",
    "    print(line)\n",
    "    \n",
    "poem_file_read.close()"
   ]
  },
  {
   "cell_type": "code",
   "execution_count": 134,
   "metadata": {},
   "outputs": [
    {
     "name": "stdout",
     "output_type": "stream",
     "text": [
      "To be or not to be, \n",
      "\n",
      "that is the question.\n",
      "\n",
      " --Written by Shakespeare\n"
     ]
    }
   ],
   "source": [
    "with open('shakespeare.txt', 'rt') as f:\n",
    "    for line in f:\n",
    "        print(line)"
   ]
  },
  {
   "cell_type": "markdown",
   "metadata": {},
   "source": [
    "### Reading and writing binary files"
   ]
  },
  {
   "cell_type": "code",
   "execution_count": 135,
   "metadata": {},
   "outputs": [
    {
     "name": "stdout",
     "output_type": "stream",
     "text": [
      "First 5 bytes of the file:  b'\\x00\\x01\\x02\\x03\\x04'\n",
      "Second 5 bytes of the file:  b'\\x05\\x06\\x07\\x08\\t'\n"
     ]
    }
   ],
   "source": [
    "with open('binary', 'rb') as binary_file_read:\n",
    "    print('First 5 bytes of the file: ', binary_file_read.read(5))\n",
    "    print('Second 5 bytes of the file: ', binary_file_read.read(5))"
   ]
  },
  {
   "cell_type": "code",
   "execution_count": 136,
   "metadata": {},
   "outputs": [
    {
     "data": {
      "text/plain": [
       "0"
      ]
     },
     "execution_count": 136,
     "metadata": {},
     "output_type": "execute_result"
    }
   ],
   "source": [
    "bin_file = open('binary', 'rb')\n",
    "bin_file.tell()"
   ]
  },
  {
   "cell_type": "code",
   "execution_count": 137,
   "metadata": {},
   "outputs": [
    {
     "data": {
      "text/plain": [
       "65"
      ]
     },
     "execution_count": 137,
     "metadata": {},
     "output_type": "execute_result"
    }
   ],
   "source": [
    "bin_file.seek(65)"
   ]
  },
  {
   "cell_type": "code",
   "execution_count": 138,
   "metadata": {},
   "outputs": [
    {
     "data": {
      "text/plain": [
       "65"
      ]
     },
     "execution_count": 138,
     "metadata": {},
     "output_type": "execute_result"
    }
   ],
   "source": [
    "bin_file.tell()"
   ]
  },
  {
   "cell_type": "code",
   "execution_count": 139,
   "metadata": {},
   "outputs": [
    {
     "data": {
      "text/plain": [
       "b'A'"
      ]
     },
     "execution_count": 139,
     "metadata": {},
     "output_type": "execute_result"
    }
   ],
   "source": [
    "bin_file.read(1)"
   ]
  },
  {
   "cell_type": "code",
   "execution_count": 140,
   "metadata": {},
   "outputs": [
    {
     "data": {
      "text/plain": [
       "b'\\x00\\x01\\x02\\x03\\x04\\x05\\x06\\x07\\x08\\t'"
      ]
     },
     "execution_count": 140,
     "metadata": {},
     "output_type": "execute_result"
    }
   ],
   "source": [
    "bin_file.seek(0)\n",
    "bin_file.read(10)"
   ]
  },
  {
   "cell_type": "code",
   "execution_count": 141,
   "metadata": {},
   "outputs": [
    {
     "data": {
      "text/plain": [
       "10"
      ]
     },
     "execution_count": 141,
     "metadata": {},
     "output_type": "execute_result"
    }
   ],
   "source": [
    "bin_file.tell()"
   ]
  },
  {
   "cell_type": "code",
   "execution_count": 146,
   "metadata": {},
   "outputs": [
    {
     "data": {
      "text/plain": [
       "0"
      ]
     },
     "execution_count": 146,
     "metadata": {},
     "output_type": "execute_result"
    }
   ],
   "source": [
    "bin_file.seek(0)"
   ]
  },
  {
   "cell_type": "code",
   "execution_count": 147,
   "metadata": {},
   "outputs": [
    {
     "data": {
      "text/plain": [
       "b'A'"
      ]
     },
     "execution_count": 147,
     "metadata": {},
     "output_type": "execute_result"
    }
   ],
   "source": [
    "bin_file.seek(65,1 )\n",
    "bin_file.read(1)"
   ]
  },
  {
   "cell_type": "code",
   "execution_count": 153,
   "metadata": {},
   "outputs": [
    {
     "data": {
      "text/plain": [
       "b'\\x13'"
      ]
     },
     "execution_count": 153,
     "metadata": {},
     "output_type": "execute_result"
    }
   ],
   "source": [
    "bin_file.seek(19)\n",
    "bin_file.read(1)"
   ]
  },
  {
   "cell_type": "code",
   "execution_count": 154,
   "metadata": {},
   "outputs": [
    {
     "data": {
      "text/plain": [
       "b'A'"
      ]
     },
     "execution_count": 154,
     "metadata": {},
     "output_type": "execute_result"
    }
   ],
   "source": [
    "bin_file.seek(45,1)\n",
    "bin_file.read(1)"
   ]
  },
  {
   "cell_type": "markdown",
   "metadata": {},
   "source": [
    "## Structured Text Files\n",
    "\n",
    "### Comma-Separated Value (CSV)"
   ]
  },
  {
   "cell_type": "code",
   "execution_count": 157,
   "metadata": {},
   "outputs": [],
   "source": [
    "import csv\n",
    "\n",
    "grades = [\n",
    "    ['John', 88],\n",
    "    ['Kate', 93],\n",
    "    ['Harry', 83],\n",
    "    ['Linda', 87],\n",
    "    ['Harriet', 91],\n",
    "]\n",
    "\n",
    "grades_csv_write = open('grades.csv', 'wt')\n",
    "csv_out = csv.writer(grades_csv_write)\n",
    "csv_out.writerows(grades)\n",
    "grades_csv_write.close()"
   ]
  },
  {
   "cell_type": "code",
   "execution_count": 158,
   "metadata": {},
   "outputs": [
    {
     "name": "stdout",
     "output_type": "stream",
     "text": [
      "John,88\r",
      "\r\n",
      "Kate,93\r",
      "\r\n",
      "Harry,83\r",
      "\r\n",
      "Linda,87\r",
      "\r\n",
      "Harriet,91\r",
      "\r\n"
     ]
    }
   ],
   "source": [
    "!cat grades.csv"
   ]
  },
  {
   "cell_type": "code",
   "execution_count": 161,
   "metadata": {},
   "outputs": [
    {
     "name": "stdout",
     "output_type": "stream",
     "text": [
      "['John', '88']\n",
      "['Kate', '93']\n",
      "['Harry', '83']\n",
      "['Linda', '87']\n",
      "['Harriet', '91']\n"
     ]
    }
   ],
   "source": [
    "grades_csv_read = open('grades.csv', 'rt')\n",
    "csv_in = csv.reader(grades_csv_read)\n",
    "\n",
    "for row in csv_in:\n",
    "    print(row)\n",
    "    \n",
    "grades_csv_read.close()"
   ]
  },
  {
   "cell_type": "markdown",
   "metadata": {},
   "source": [
    "### eXtensible Markup Language (XML)"
   ]
  },
  {
   "cell_type": "code",
   "execution_count": 162,
   "metadata": {},
   "outputs": [],
   "source": [
    "xml_data = '''<?xml version=\"1.0\"?>\n",
    "<students>\n",
    "\t<student name=\"John\">\n",
    "\t\t<grade value=\"88\" />\n",
    "\t</student>\n",
    "\t<student name=\"Kate\">\n",
    "\t\t<grade value=\"93\" />\n",
    "\t</student>\n",
    "\t<student name=\"Harry\">\n",
    "\t\t<grade value=\"93\" />\n",
    "\t</student>\n",
    "\t<student name=\"Linda\">\n",
    "\t\t<grade value=\"87\" />\n",
    "\t</student>\n",
    "\t<student name=\"Harriet\">\n",
    "\t\t<grade value=\"91\" />\n",
    "\t</student>\n",
    "</students>'''\n",
    "\n",
    "xml_data_file = open('grades.xml', 'wt')\n",
    "xml_data_file.write(xml_data)\n",
    "xml_data_file.close()"
   ]
  },
  {
   "cell_type": "code",
   "execution_count": 163,
   "metadata": {},
   "outputs": [
    {
     "name": "stdout",
     "output_type": "stream",
     "text": [
      "<?xml version=\"1.0\"?>\r\n",
      "<students>\r\n",
      "\t<student name=\"John\">\r\n",
      "\t\t<grade value=\"88\" />\r\n",
      "\t</student>\r\n",
      "\t<student name=\"Kate\">\r\n",
      "\t\t<grade value=\"93\" />\r\n",
      "\t</student>\r\n",
      "\t<student name=\"Harry\">\r\n",
      "\t\t<grade value=\"93\" />\r\n",
      "\t</student>\r\n",
      "\t<student name=\"Linda\">\r\n",
      "\t\t<grade value=\"87\" />\r\n",
      "\t</student>\r\n",
      "\t<student name=\"Harriet\">\r\n",
      "\t\t<grade value=\"91\" />\r\n",
      "\t</student>\r\n",
      "</students>"
     ]
    }
   ],
   "source": [
    "!cat grades.xml"
   ]
  },
  {
   "cell_type": "code",
   "execution_count": 165,
   "metadata": {},
   "outputs": [
    {
     "name": "stdout",
     "output_type": "stream",
     "text": [
      "students\n"
     ]
    }
   ],
   "source": [
    "from xml.etree import ElementTree\n",
    "\n",
    "tree = ElementTree.ElementTree(file='grades.xml')\n",
    "root = tree.getroot()\n",
    "print(root.tag)"
   ]
  },
  {
   "cell_type": "code",
   "execution_count": 167,
   "metadata": {},
   "outputs": [
    {
     "name": "stdout",
     "output_type": "stream",
     "text": [
      "tag: student attribute: {'name': 'John'}\n",
      "tag: student attribute: {'name': 'Kate'}\n",
      "tag: student attribute: {'name': 'Harry'}\n",
      "tag: student attribute: {'name': 'Linda'}\n",
      "tag: student attribute: {'name': 'Harriet'}\n"
     ]
    }
   ],
   "source": [
    "for child in root:\n",
    "    print('tag:', child.tag, 'attribute:', child.attrib)"
   ]
  },
  {
   "cell_type": "code",
   "execution_count": 168,
   "metadata": {},
   "outputs": [
    {
     "name": "stdout",
     "output_type": "stream",
     "text": [
      "tag: student attribute: {'name': 'John'}\n",
      "\ttag: grade attribute: {'value': '88'}\n",
      "tag: student attribute: {'name': 'Kate'}\n",
      "\ttag: grade attribute: {'value': '93'}\n",
      "tag: student attribute: {'name': 'Harry'}\n",
      "\ttag: grade attribute: {'value': '93'}\n",
      "tag: student attribute: {'name': 'Linda'}\n",
      "\ttag: grade attribute: {'value': '87'}\n",
      "tag: student attribute: {'name': 'Harriet'}\n",
      "\ttag: grade attribute: {'value': '91'}\n"
     ]
    }
   ],
   "source": [
    "for child in root:\n",
    "    print('tag:', child.tag, 'attribute:', child.attrib)\n",
    "    \n",
    "    for grandchild in child:\n",
    "        print('\\ttag:', grandchild.tag, 'attribute:', grandchild.attrib)"
   ]
  },
  {
   "cell_type": "markdown",
   "metadata": {},
   "source": [
    "### JS Object Notation (JSON)"
   ]
  },
  {
   "cell_type": "code",
   "execution_count": 170,
   "metadata": {},
   "outputs": [],
   "source": [
    "json_data = '''{\n",
    "\t\"students\": {\n",
    "\t\t\n",
    "\t\t\"John\": {\n",
    "\t\t\t\"grades\": [88]\n",
    "\t\t},\n",
    "\n",
    "\t\t\"Kate\": {\n",
    "\t\t\t\"grades\": [93]\n",
    "\t\t},\n",
    "\n",
    "\t\t\"Harry\": {\n",
    "\t\t\t\"grades\": [93]\n",
    "\t\t},\n",
    "\n",
    "\t\t\"Linda\": {\n",
    "\t\t\t\"grades\": [87]\n",
    "\t\t},\n",
    "\n",
    "\t\t\"Harriet\": {\n",
    "\t\t\t\"grades\": [91]\n",
    "\t\t}\n",
    "\t}\n",
    "}'''\n",
    "\n",
    "json_data_file = open('grades.json', 'wt')\n",
    "json_data_file.write(json_data)\n",
    "json_data_file.close()"
   ]
  },
  {
   "cell_type": "code",
   "execution_count": 171,
   "metadata": {},
   "outputs": [
    {
     "name": "stdout",
     "output_type": "stream",
     "text": [
      "{\r\n",
      "\t\"students\": {\r\n",
      "\t\t\r\n",
      "\t\t\"John\": {\r\n",
      "\t\t\t\"grades\": [88]\r\n",
      "\t\t},\r\n",
      "\r\n",
      "\t\t\"Kate\": {\r\n",
      "\t\t\t\"grades\": [93]\r\n",
      "\t\t},\r\n",
      "\r\n",
      "\t\t\"Harry\": {\r\n",
      "\t\t\t\"grades\": [93]\r\n",
      "\t\t},\r\n",
      "\r\n",
      "\t\t\"Linda\": {\r\n",
      "\t\t\t\"grades\": [87]\r\n",
      "\t\t},\r\n",
      "\r\n",
      "\t\t\"Harriet\": {\r\n",
      "\t\t\t\"grades\": [91]\r\n",
      "\t\t}\r\n",
      "\t}\r\n",
      "}"
     ]
    }
   ],
   "source": [
    "!cat grades.json"
   ]
  },
  {
   "cell_type": "code",
   "execution_count": 174,
   "metadata": {},
   "outputs": [
    {
     "name": "stdout",
     "output_type": "stream",
     "text": [
      "root: {'students': {'John': {'grades': [88]}, 'Kate': {'grades': [93]}, 'Harry': {'grades': [93]}, 'Linda': {'grades': [87]}, 'Harriet': {'grades': [91]}}}\n",
      "\n",
      "students: {'John': {'grades': [88]}, 'Kate': {'grades': [93]}, 'Harry': {'grades': [93]}, 'Linda': {'grades': [87]}, 'Harriet': {'grades': [91]}}\n"
     ]
    }
   ],
   "source": [
    "import json\n",
    "\n",
    "json_data_file = open('grades.json', 'rt')\n",
    "json_data = json.loads(json_data_file.read())\n",
    "json_data_file.close()\n",
    "\n",
    "print('root:', json_data)\n",
    "print()\n",
    "print(\"students:\", json_data['students'])"
   ]
  },
  {
   "cell_type": "code",
   "execution_count": 181,
   "metadata": {},
   "outputs": [],
   "source": [
    "python_dict = {\n",
    "    'students': {\n",
    "        'Harriet': {'grade': 91},\n",
    "        'John': {'grade': 88},\n",
    "        'Kate': {'grade': 93},\n",
    "        'Linda': {'grade': 87},\n",
    "        'Harry': {'grade': 93},        \n",
    "    }\n",
    "}"
   ]
  },
  {
   "cell_type": "code",
   "execution_count": 182,
   "metadata": {},
   "outputs": [],
   "source": [
    "python_dict_json = json.dumps(python_dict)\n",
    "\n",
    "python_dict_json_file = open('grades_python.json', 'wt')\n",
    "python_dict_json_file.write(python_dict_json)\n",
    "python_dict_json_file.close()"
   ]
  },
  {
   "cell_type": "code",
   "execution_count": 183,
   "metadata": {
    "scrolled": true
   },
   "outputs": [
    {
     "name": "stdout",
     "output_type": "stream",
     "text": [
      "{\"students\": {\"Harriet\": {\"grade\": 91}, \"John\": {\"grade\": 88}, \"Kate\": {\"grade\": 93}, \"Linda\": {\"grade\": 87}, \"Harry\": {\"grade\": 93}}}"
     ]
    }
   ],
   "source": [
    "!cat grades_python.json"
   ]
  },
  {
   "cell_type": "markdown",
   "metadata": {},
   "source": [
    "# Book Exercises"
   ]
  },
  {
   "cell_type": "markdown",
   "metadata": {},
   "source": [
    "7.1. Create a Unicode string called mystery and assign it the value '\\U0001f4a9'. Print mystery. Look up the Unicode name for mystery."
   ]
  },
  {
   "cell_type": "code",
   "execution_count": 190,
   "metadata": {},
   "outputs": [
    {
     "name": "stdout",
     "output_type": "stream",
     "text": [
      "💩\n",
      "PILE OF POO\n"
     ]
    }
   ],
   "source": [
    "import unicodedata\n",
    "\n",
    "mystery = '\\U0001f4a9'\n",
    "print(mystery)\n",
    "\n",
    "print(unicodedata.name(mystery))"
   ]
  },
  {
   "cell_type": "markdown",
   "metadata": {},
   "source": [
    "7.2. Encode mystery, this time using UTF-8, into the bytes variable pop_bytes. Print pop_bytes."
   ]
  },
  {
   "cell_type": "code",
   "execution_count": 192,
   "metadata": {},
   "outputs": [
    {
     "name": "stdout",
     "output_type": "stream",
     "text": [
      "b'\\xf0\\x9f\\x92\\xa9'\n"
     ]
    }
   ],
   "source": [
    "pop_bytes = mystery.encode('utf-8')\n",
    "print(pop_bytes)"
   ]
  },
  {
   "cell_type": "markdown",
   "metadata": {},
   "source": [
    "7.3. Using UTF-8, decode pop_bytes into the string variable pop_string. Print pop_string. Is pop_string equal to mystery?"
   ]
  },
  {
   "cell_type": "code",
   "execution_count": 195,
   "metadata": {},
   "outputs": [
    {
     "name": "stdout",
     "output_type": "stream",
     "text": [
      "💩\n"
     ]
    },
    {
     "data": {
      "text/plain": [
       "True"
      ]
     },
     "execution_count": 195,
     "metadata": {},
     "output_type": "execute_result"
    }
   ],
   "source": [
    "pop_string = pop_bytes.decode('utf-8')\n",
    "print(pop_string)\n",
    "\n",
    "pop_string == mystery"
   ]
  },
  {
   "cell_type": "markdown",
   "metadata": {},
   "source": [
    "7.4. Write the following poem by using old-style formatting. Substitute the strings 'roast beef', 'ham', 'head', and 'clam' into this string:\n",
    "\n",
    "My kitty cat likes %s,\n",
    "My kitty cat likes %s,\n",
    "My kitty cat fell on his %s\n",
    "And now thinks he's a %s."
   ]
  },
  {
   "cell_type": "code",
   "execution_count": 204,
   "metadata": {},
   "outputs": [
    {
     "name": "stdout",
     "output_type": "stream",
     "text": [
      "My kitty cat likes %s, \n",
      "My kitty cat likes %s, \n",
      "My kitty cat fell on his %s \n",
      "And now thinks he's a %s.\n",
      "('roast beef', 'ham', 'head', 'clam')\n",
      "My kitty cat likes roast beef, \n",
      "My kitty cat likes ham, \n",
      "My kitty cat fell on his head \n",
      "And now thinks he's a clam.\n"
     ]
    }
   ],
   "source": [
    "poem ='''My kitty cat likes %s, \n",
    "My kitty cat likes %s, \n",
    "My kitty cat fell on his %s \n",
    "And now thinks he's a %s.'''\n",
    "print(poem)\n",
    "args = ('roast beef', 'ham', 'head', 'clam')\n",
    "print(args)\n",
    "\n",
    "print(poem % args)"
   ]
  },
  {
   "cell_type": "markdown",
   "metadata": {},
   "source": [
    "7.5. Write a form letter by using new-style formatting. Save the following string as letter (you’ll use it in the next exercise):"
   ]
  },
  {
   "cell_type": "code",
   "execution_count": 205,
   "metadata": {},
   "outputs": [],
   "source": [
    "letter = '''\n",
    "Dear {salutation} {name},\n",
    "\n",
    "Thank you for your letter. We are sorry that our {product} {verb} in your\n",
    "{room}. Please note that it should never be used in a {room}, especially\n",
    "near any {animals}.\n",
    "\n",
    "Send us your receipt and {amount} for shipping and handling. We will send\n",
    "you another {product} that, in our tests, is {percent}% less likely to\n",
    "have {verbed}.\n",
    "\n",
    "Thank you for your support.\n",
    "\n",
    "Sincerely,\n",
    "{spokesman}\n",
    "{job_title}\n",
    "'''"
   ]
  },
  {
   "cell_type": "markdown",
   "metadata": {},
   "source": [
    "7.6. Make a dictionary called response with values for the string keys 'salutation', 'name', 'product', 'verbed' (past tense verb), 'room', 'animals', 'percent', 'spokesman', and 'job_title'. Print letter with the values from response."
   ]
  },
  {
   "cell_type": "code",
   "execution_count": 214,
   "metadata": {},
   "outputs": [
    {
     "name": "stdout",
     "output_type": "stream",
     "text": [
      "\n",
      "Dear Don Juan,\n",
      "\n",
      "Thank you for your letter. We are sorry that our razor exploding in your\n",
      "bathroom. Please note that it should never be used in a bathroom, especially\n",
      "near any cat.\n",
      "\n",
      "Send us your receipt and $666 for shipping and handling. We will send\n",
      "you another razor that, in our tests, is 90% less likely to\n",
      "have exploded.\n",
      "\n",
      "Thank you for your support.\n",
      "\n",
      "Sincerely,\n",
      "Jose\n",
      "Chief Storyteller\n",
      "\n"
     ]
    }
   ],
   "source": [
    "responses_dc = {\n",
    "    'salutation': 'Don', \n",
    "    'name': 'Juan', \n",
    "    'product': 'razor',\n",
    "    'verb': 'exploding',\n",
    "    'verbed': 'exploded' , \n",
    "    'room': 'bathroom', \n",
    "    'animals': 'cat', \n",
    "    'amount': '$666',\n",
    "    'percent': '90', \n",
    "    'spokesman': 'Jose',\n",
    "    'job_title': 'Chief Storyteller'\n",
    "}\n",
    "\n",
    "print(letter.format(**responses_dc))"
   ]
  },
  {
   "cell_type": "markdown",
   "metadata": {},
   "source": [
    "7.7. When you’re working with text, regular expressions come in very handy. We’ll apply them in a number of ways to our featured text sample. It’s a poem titled “Ode on the Mammoth Cheese,” written by James McIntyre in 1866 in homage to a seven-thousand-pound cheese that was crafted in Ontario and sent on an international tour. If you’d rather not type all of it, use your favorite search engine and cut and paste the words into your Python program. Or, just grab it from Project Gutenberg. Call the text string mammoth."
   ]
  },
  {
   "cell_type": "code",
   "execution_count": 218,
   "metadata": {},
   "outputs": [],
   "source": [
    "mammoth = '''\n",
    "We have seen thee, queen of cheese,\n",
    "Lying quietly at your ease,\n",
    "Gently fanned by evening breeze,\n",
    "Thy fair form no flies dare seize.\n",
    "\n",
    "All gaily dressed soon you'll go\n",
    "To the great Provincial show,\n",
    "To be admired by many a beau\n",
    "In the city of Toronto.\n",
    "\n",
    "Cows numerous as a swarm of bees,\n",
    "Or as the leaves upon the trees,\n",
    "It did require to make thee please,\n",
    "And stand unrivalled, queen of cheese.\n",
    "\n",
    "May you not receive a scar as\n",
    "We have heard that Mr. Harris\n",
    "Intends to send you off as far as\n",
    "The great world's show at Paris.\n",
    "\n",
    "Of the youth beware of these,\n",
    "For some of them might rudely squeeze\n",
    "And bite your cheek, then songs or glees\n",
    "We could not sing, oh! queen of cheese.\n",
    "\n",
    "We'rt thou suspended from balloon,\n",
    "You'd cast a shade even at noon,\n",
    "Folks would think it was the moon\n",
    "About to fall and crush them soon.\n",
    "'''"
   ]
  },
  {
   "cell_type": "markdown",
   "metadata": {},
   "source": [
    "7.8 Import the re module to use Python’s regular expression functions. Use re.findall() to print all the words that begin with 'c'.\n",
    "We’ll define the variable pat for the pattern and then search for it in mammoth:"
   ]
  },
  {
   "cell_type": "code",
   "execution_count": 226,
   "metadata": {},
   "outputs": [
    {
     "data": {
      "text/plain": [
       "['cheese', 'city', 'cheese', 'cheek', 'could', 'cheese', 'cast', 'crush']"
      ]
     },
     "execution_count": 226,
     "metadata": {},
     "output_type": "execute_result"
    }
   ],
   "source": [
    "import re\n",
    "\n",
    "pat = re.compile(r'\\bc\\w+')\n",
    "re.findall(pat, mammoth)"
   ]
  },
  {
   "cell_type": "markdown",
   "metadata": {},
   "source": [
    "7.9 Find all four-letter words that begin with c."
   ]
  },
  {
   "cell_type": "code",
   "execution_count": 233,
   "metadata": {},
   "outputs": [
    {
     "data": {
      "text/plain": [
       "['city', 'cast']"
      ]
     },
     "execution_count": 233,
     "metadata": {},
     "output_type": "execute_result"
    }
   ],
   "source": [
    "pat = re.compile(r'\\bc\\w{3}\\b')\n",
    "re.findall(pat, mammoth)"
   ]
  },
  {
   "cell_type": "markdown",
   "metadata": {},
   "source": [
    "7.10. Find all the words that end with r."
   ]
  },
  {
   "cell_type": "code",
   "execution_count": 237,
   "metadata": {
    "scrolled": true
   },
   "outputs": [
    {
     "data": {
      "text/plain": [
       "['your', 'fair', 'Or', 'scar', 'Mr', 'far', 'For', 'your', 'or']"
      ]
     },
     "execution_count": 237,
     "metadata": {},
     "output_type": "execute_result"
    }
   ],
   "source": [
    "pat = re.compile(r'\\w+r\\b')\n",
    "re.findall(pat, mammoth)"
   ]
  },
  {
   "cell_type": "markdown",
   "metadata": {},
   "source": [
    "Find all words that end with l, dealing with apostrophes"
   ]
  },
  {
   "cell_type": "code",
   "execution_count": 238,
   "metadata": {},
   "outputs": [
    {
     "data": {
      "text/plain": [
       "['All', 'll', 'Provincial', 'fall']"
      ]
     },
     "execution_count": 238,
     "metadata": {},
     "output_type": "execute_result"
    }
   ],
   "source": [
    "pat = re.compile(r'\\w+l\\b')\n",
    "re.findall(pat, mammoth)"
   ]
  },
  {
   "cell_type": "code",
   "execution_count": 241,
   "metadata": {},
   "outputs": [
    {
     "data": {
      "text/plain": [
       "['All', \"you'll\", 'Provincial', 'fall']"
      ]
     },
     "execution_count": 241,
     "metadata": {},
     "output_type": "execute_result"
    }
   ],
   "source": [
    "pat = re.compile(r'[\\w\\']+l\\b')\n",
    "re.findall(pat, mammoth)"
   ]
  },
  {
   "cell_type": "markdown",
   "metadata": {},
   "source": [
    "7.11. Find all the words that contain exactly three vowels in a row."
   ]
  },
  {
   "cell_type": "code",
   "execution_count": 257,
   "metadata": {
    "scrolled": true
   },
   "outputs": [
    {
     "data": {
      "text/plain": [
       "['ha',\n",
       " 'a',\n",
       " 'ea',\n",
       " 'fa',\n",
       " 'fa',\n",
       " 'da',\n",
       " 'A',\n",
       " 'ga',\n",
       " 'grea',\n",
       " 'Provincia',\n",
       " 'a',\n",
       " 'ma',\n",
       " 'a',\n",
       " 'bea',\n",
       " 'a',\n",
       " 'a',\n",
       " 'swa',\n",
       " 'a',\n",
       " 'lea',\n",
       " 'ma',\n",
       " 'plea',\n",
       " 'A',\n",
       " 'sta',\n",
       " 'unriva',\n",
       " 'Ma',\n",
       " 'a',\n",
       " 'sca',\n",
       " 'a',\n",
       " 'ha',\n",
       " 'hea',\n",
       " 'tha',\n",
       " 'Ha',\n",
       " 'a',\n",
       " 'fa',\n",
       " 'a',\n",
       " 'grea',\n",
       " 'a',\n",
       " 'Pa',\n",
       " 'bewa',\n",
       " 'A',\n",
       " 'ba',\n",
       " 'ca',\n",
       " 'a',\n",
       " 'sha',\n",
       " 'a',\n",
       " 'wa',\n",
       " 'A',\n",
       " 'fa',\n",
       " 'a']"
      ]
     },
     "execution_count": 257,
     "metadata": {},
     "output_type": "execute_result"
    }
   ],
   "source": [
    "# get characters before a\n",
    "pat = re.compile(r'\\w*[aA]')\n",
    "re.findall(pat, mammoth)"
   ]
  },
  {
   "cell_type": "code",
   "execution_count": 262,
   "metadata": {},
   "outputs": [
    {
     "data": {
      "text/plain": [
       "['queen', 'quietly', 'beau', 'queen', 'squeeze', 'queen']"
      ]
     },
     "execution_count": 262,
     "metadata": {},
     "output_type": "execute_result"
    }
   ],
   "source": [
    "# match all characters before and after three consecutive vowels\n",
    "# excluding words with more vowels ingnoring spaces\n",
    "pat = re.compile(r'\\w*[aeiouAEIOU]{3}[^aeiouAEIOU\\s]*\\w*')\n",
    "re.findall(pat, mammoth)"
   ]
  },
  {
   "cell_type": "markdown",
   "metadata": {},
   "source": [
    "7.12. Use unhexlify() to convert this hex string (combined from two strings to fit on a page) to a bytes variable called gif:"
   ]
  },
  {
   "cell_type": "code",
   "execution_count": 267,
   "metadata": {},
   "outputs": [],
   "source": [
    "hex_string = '47494638396101000100800000000000ffffff21f9' \\\n",
    "+ '0401000000002c000000000100010000020144003b'"
   ]
  },
  {
   "cell_type": "code",
   "execution_count": 268,
   "metadata": {},
   "outputs": [
    {
     "name": "stdout",
     "output_type": "stream",
     "text": [
      "47494638396101000100800000000000ffffff21f90401000000002c000000000100010000020144003b\n",
      "b'GIF89a\\x01\\x00\\x01\\x00\\x80\\x00\\x00\\x00\\x00\\x00\\xff\\xff\\xff!\\xf9\\x04\\x01\\x00\\x00\\x00\\x00,\\x00\\x00\\x00\\x00\\x01\\x00\\x01\\x00\\x00\\x02\\x01D\\x00;'\n"
     ]
    }
   ],
   "source": [
    "import binascii\n",
    "gif = binascii.unhexlify(hex_string)\n",
    "print(hex_string)\n",
    "print(gif)"
   ]
  },
  {
   "cell_type": "markdown",
   "metadata": {},
   "source": [
    "7.13. The bytes in gif define a one-pixel transparent GIF file, one of the most common graphics file formats. A legal GIF starts with the string GIF89a. Does gif match this?"
   ]
  },
  {
   "cell_type": "code",
   "execution_count": 276,
   "metadata": {},
   "outputs": [
    {
     "data": {
      "text/plain": [
       "False"
      ]
     },
     "execution_count": 276,
     "metadata": {},
     "output_type": "execute_result"
    }
   ],
   "source": [
    "gif[:6] == 'GIF89a'"
   ]
  },
  {
   "cell_type": "code",
   "execution_count": 281,
   "metadata": {},
   "outputs": [],
   "source": [
    "gif_start = 'GIF89a'\n",
    "gif_start_bytes = gif_start.encode('utf-8')"
   ]
  },
  {
   "cell_type": "code",
   "execution_count": 282,
   "metadata": {},
   "outputs": [
    {
     "name": "stdout",
     "output_type": "stream",
     "text": [
      "b'GIF89a'\n",
      "b'GIF89a'\n"
     ]
    },
    {
     "data": {
      "text/plain": [
       "True"
      ]
     },
     "execution_count": 282,
     "metadata": {},
     "output_type": "execute_result"
    }
   ],
   "source": [
    "print(gif_start_bytes)\n",
    "print(gif[:6])\n",
    "gif_start_bytes == gif[:6]"
   ]
  },
  {
   "cell_type": "markdown",
   "metadata": {},
   "source": [
    "7.14. The pixel width of a GIF is a 16-bit big-endian integer starting at byte offset 6, and the height is the same size, starting at offset 8. Extract and print these values for gif. Are they both 1?"
   ]
  },
  {
   "cell_type": "code",
   "execution_count": 287,
   "metadata": {},
   "outputs": [
    {
     "name": "stdout",
     "output_type": "stream",
     "text": [
      "width: 1\n",
      "height: 1\n"
     ]
    }
   ],
   "source": [
    "print('width:', gif[8])\n",
    "print('height:', gif[6])"
   ]
  },
  {
   "cell_type": "markdown",
   "metadata": {},
   "source": [
    "8.1. Assign the string 'This is a test of the emergency text system' to the variable test1, and write test1 to a file called test.txt."
   ]
  },
  {
   "cell_type": "code",
   "execution_count": 306,
   "metadata": {},
   "outputs": [],
   "source": [
    "test1 =  'This is a test of the emergency text system'\n",
    "out_file = open('test.txt', 'wt')\n",
    "out_file.write(test1)\n",
    "out_file.close()"
   ]
  },
  {
   "cell_type": "code",
   "execution_count": 307,
   "metadata": {},
   "outputs": [
    {
     "name": "stdout",
     "output_type": "stream",
     "text": [
      "This is a test of the emergency text system"
     ]
    }
   ],
   "source": [
    "!cat test.txt"
   ]
  },
  {
   "cell_type": "markdown",
   "metadata": {},
   "source": [
    "8.2. Open the file test.txt and read its contents into the string test2. Are test1 and test2 the same?"
   ]
  },
  {
   "cell_type": "code",
   "execution_count": 308,
   "metadata": {},
   "outputs": [
    {
     "name": "stdout",
     "output_type": "stream",
     "text": [
      "This is a test of the emergency text system\n"
     ]
    }
   ],
   "source": [
    "in_file = open('test.txt', 'rt')\n",
    "test2 = in_file.read()\n",
    "in_file.close()\n",
    "print(test2)"
   ]
  },
  {
   "cell_type": "code",
   "execution_count": 296,
   "metadata": {},
   "outputs": [
    {
     "data": {
      "text/plain": [
       "True"
      ]
     },
     "execution_count": 296,
     "metadata": {},
     "output_type": "execute_result"
    }
   ],
   "source": [
    "test1 == test2"
   ]
  },
  {
   "cell_type": "markdown",
   "metadata": {},
   "source": [
    "8.3. Save these text lines to a file called test.csv. Notice that if the fields are separated by commas, you need to surround a field with quotes if it contains a comma.\n"
   ]
  },
  {
   "cell_type": "code",
   "execution_count": 309,
   "metadata": {},
   "outputs": [],
   "source": [
    "text = '''author, book\n",
    "J R R Tolkien, The Hobbit\n",
    "Lynne Truss, \"Eats, Shoots & Leaves\"'''"
   ]
  },
  {
   "cell_type": "code",
   "execution_count": 310,
   "metadata": {
    "scrolled": true
   },
   "outputs": [
    {
     "name": "stdout",
     "output_type": "stream",
     "text": [
      "author, book\n",
      "J R R Tolkien, The Hobbit\n",
      "Lynne Truss, \"Eats, Shoots & Leaves\"\n"
     ]
    }
   ],
   "source": [
    "print(text)"
   ]
  },
  {
   "cell_type": "code",
   "execution_count": 332,
   "metadata": {},
   "outputs": [],
   "source": [
    "out_csv_file = open('test.csv', 'wt')\n",
    "out_csv_file.write(text)\n",
    "out_csv_file.close()"
   ]
  },
  {
   "cell_type": "code",
   "execution_count": 331,
   "metadata": {
    "scrolled": false
   },
   "outputs": [
    {
     "name": "stdout",
     "output_type": "stream",
     "text": [
      "author, book\r\n",
      "J R R Tolkien, The Hobbit\r\n",
      "Lynne Truss, \"Eats, Shoots & Leaves\""
     ]
    }
   ],
   "source": [
    "!cat test.csv"
   ]
  },
  {
   "cell_type": "markdown",
   "metadata": {},
   "source": [
    "8.4. Use the csv module and its DictReader() method to read test.csv to the variable books. Print the values in books. Did DictReader() handle the quotes and commas in the second book’s title?"
   ]
  },
  {
   "cell_type": "markdown",
   "metadata": {},
   "source": [
    ">>> import csv\n",
    ">>> with open('names.csv', newline='') as csvfile:\n",
    "...     reader = csv.DictReader(csvfile)\n",
    "...     for row in reader:\n",
    "...         print(row['first_name'], row['last_name'])\n",
    "...\n",
    "Eric Idle\n",
    "John Cleese\n",
    "\n",
    ">>> print(row)\n",
    "{'first_name': 'John', 'last_name': 'Cleese'}"
   ]
  },
  {
   "cell_type": "code",
   "execution_count": 338,
   "metadata": {
    "scrolled": true
   },
   "outputs": [
    {
     "name": "stdout",
     "output_type": "stream",
     "text": [
      "OrderedDict([('author', 'J R R Tolkien'), ('book', 'The Hobbit')])\n",
      "OrderedDict([('author', 'Lynne Truss'), ('book', 'Eats, Shoots & Leaves')])\n"
     ]
    }
   ],
   "source": [
    "import csv\n",
    "in_csv_file = open('test.csv', 'rt')\n",
    "csv_reader = csv.DictReader(\n",
    "                                in_csv_file, \n",
    "                                quoting=csv.QUOTE_ALL, \n",
    "                                skipinitialspace=True,\n",
    "                                delimiter=','\n",
    "                            )\n",
    "for row in csv_reader:\n",
    "    print(row)\n",
    "in_csv_file.close()"
   ]
  },
  {
   "cell_type": "markdown",
   "metadata": {},
   "source": [
    "8.5. Create a CSV file called books.csv by using these lines:"
   ]
  },
  {
   "cell_type": "code",
   "execution_count": 340,
   "metadata": {},
   "outputs": [
    {
     "name": "stdout",
     "output_type": "stream",
     "text": [
      "title,author,year\n",
      "The Weirdstone of Brisingamen,Alan Garner,1960\n",
      "Perdido Street Station,China Miéville,2000\n",
      "Thud!,Terry Pratchett,2005\n",
      "The Spellman Files,Lisa Lutz,2007\n",
      "Small Gods,Terry Pratchett,1992\n",
      "\n"
     ]
    }
   ],
   "source": [
    "text = '''title,author,year\n",
    "The Weirdstone of Brisingamen,Alan Garner,1960\n",
    "Perdido Street Station,China Miéville,2000\n",
    "Thud!,Terry Pratchett,2005\n",
    "The Spellman Files,Lisa Lutz,2007\n",
    "Small Gods,Terry Pratchett,1992\n",
    "'''\n",
    "print(text)"
   ]
  },
  {
   "cell_type": "code",
   "execution_count": 346,
   "metadata": {},
   "outputs": [],
   "source": [
    "out_csv_file = open('books.csv', 'wt')\n",
    "out_csv_file.write(text)\n",
    "out_csv_file.close()"
   ]
  },
  {
   "cell_type": "code",
   "execution_count": 347,
   "metadata": {},
   "outputs": [
    {
     "name": "stdout",
     "output_type": "stream",
     "text": [
      "title,author,year\r\n",
      "The Weirdstone of Brisingamen,Alan Garner,1960\r\n",
      "Perdido Street Station,China Miéville,2000\r\n",
      "Thud!,Terry Pratchett,2005\r\n",
      "The Spellman Files,Lisa Lutz,2007\r\n",
      "Small Gods,Terry Pratchett,1992\r\n"
     ]
    }
   ],
   "source": [
    "!cat books.csv"
   ]
  }
 ],
 "metadata": {
  "kernelspec": {
   "display_name": "Python Analytics",
   "language": "python",
   "name": "analytics_py3"
  },
  "language_info": {
   "codemirror_mode": {
    "name": "ipython",
    "version": 3
   },
   "file_extension": ".py",
   "mimetype": "text/x-python",
   "name": "python",
   "nbconvert_exporter": "python",
   "pygments_lexer": "ipython3",
   "version": "3.7.4"
  }
 },
 "nbformat": 4,
 "nbformat_minor": 2
}
