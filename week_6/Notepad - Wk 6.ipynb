{
 "cells": [
  {
   "cell_type": "markdown",
   "metadata": {},
   "source": [
    "# Video Lecutres"
   ]
  },
  {
   "cell_type": "markdown",
   "metadata": {},
   "source": [
    "## Classes"
   ]
  },
  {
   "cell_type": "code",
   "execution_count": 1,
   "metadata": {},
   "outputs": [],
   "source": [
    "class Drone:\n",
    "    '''A representation of a drone aircraft'''"
   ]
  },
  {
   "cell_type": "code",
   "execution_count": 2,
   "metadata": {},
   "outputs": [
    {
     "name": "stdout",
     "output_type": "stream",
     "text": [
      "d1 has type <class '__main__.Drone'>\n",
      "d2 has type <class '__main__.Drone'>\n"
     ]
    }
   ],
   "source": [
    "d1 = Drone()\n",
    "d2 = Drone()\n",
    "print('d1 has type', type(d1))\n",
    "print('d2 has type', type(d2))"
   ]
  },
  {
   "cell_type": "markdown",
   "metadata": {},
   "source": [
    "## Data Attributes"
   ]
  },
  {
   "cell_type": "code",
   "execution_count": 3,
   "metadata": {},
   "outputs": [],
   "source": [
    "Drone.power_system = 'Battery'"
   ]
  },
  {
   "cell_type": "code",
   "execution_count": 4,
   "metadata": {},
   "outputs": [
    {
     "name": "stdout",
     "output_type": "stream",
     "text": [
      "Battery\n",
      "Battery\n",
      "Battery\n"
     ]
    }
   ],
   "source": [
    "print(Drone.power_system)\n",
    "print(d1.power_system)\n",
    "print(d2.power_system)"
   ]
  },
  {
   "cell_type": "code",
   "execution_count": 5,
   "metadata": {},
   "outputs": [],
   "source": [
    "d1.power_system = 'Gasoline'"
   ]
  },
  {
   "cell_type": "code",
   "execution_count": 6,
   "metadata": {},
   "outputs": [
    {
     "name": "stdout",
     "output_type": "stream",
     "text": [
      "Battery\n",
      "Gasoline\n",
      "Battery\n"
     ]
    }
   ],
   "source": [
    "print(Drone.power_system)\n",
    "print(d1.power_system)\n",
    "print(d2.power_system)"
   ]
  },
  {
   "cell_type": "code",
   "execution_count": 14,
   "metadata": {},
   "outputs": [],
   "source": [
    "d1.altitude = 100\n",
    "d2.altitude = 150"
   ]
  },
  {
   "cell_type": "code",
   "execution_count": 15,
   "metadata": {
    "scrolled": true
   },
   "outputs": [
    {
     "name": "stdout",
     "output_type": "stream",
     "text": [
      "100\n",
      "150\n"
     ]
    }
   ],
   "source": [
    "print(d1.altitude)\n",
    "print(d2.altitude)"
   ]
  },
  {
   "cell_type": "code",
   "execution_count": 16,
   "metadata": {},
   "outputs": [
    {
     "ename": "AttributeError",
     "evalue": "type object 'Drone' has no attribute 'altitude'",
     "output_type": "error",
     "traceback": [
      "\u001b[0;31m---------------------------------------------------------------------------\u001b[0m",
      "\u001b[0;31mAttributeError\u001b[0m                            Traceback (most recent call last)",
      "\u001b[0;32m<ipython-input-16-3ce571bfd626>\u001b[0m in \u001b[0;36m<module>\u001b[0;34m\u001b[0m\n\u001b[0;32m----> 1\u001b[0;31m \u001b[0mprint\u001b[0m\u001b[0;34m(\u001b[0m\u001b[0mDrone\u001b[0m\u001b[0;34m.\u001b[0m\u001b[0maltitude\u001b[0m\u001b[0;34m)\u001b[0m\u001b[0;34m\u001b[0m\u001b[0;34m\u001b[0m\u001b[0m\n\u001b[0m",
      "\u001b[0;31mAttributeError\u001b[0m: type object 'Drone' has no attribute 'altitude'"
     ]
    }
   ],
   "source": [
    "print(Drone.altitude)"
   ]
  },
  {
   "cell_type": "markdown",
   "metadata": {},
   "source": [
    "Inheritance happens from base classe to sub classes, not the other way around"
   ]
  },
  {
   "cell_type": "code",
   "execution_count": 19,
   "metadata": {},
   "outputs": [
    {
     "data": {
      "text/plain": [
       "['__class__',\n",
       " '__delattr__',\n",
       " '__dict__',\n",
       " '__dir__',\n",
       " '__doc__',\n",
       " '__eq__',\n",
       " '__format__',\n",
       " '__ge__',\n",
       " '__getattribute__',\n",
       " '__gt__',\n",
       " '__hash__',\n",
       " '__init__',\n",
       " '__init_subclass__',\n",
       " '__le__',\n",
       " '__lt__',\n",
       " '__module__',\n",
       " '__ne__',\n",
       " '__new__',\n",
       " '__reduce__',\n",
       " '__reduce_ex__',\n",
       " '__repr__',\n",
       " '__setattr__',\n",
       " '__sizeof__',\n",
       " '__str__',\n",
       " '__subclasshook__',\n",
       " '__weakref__',\n",
       " 'altitude',\n",
       " 'power_system']"
      ]
     },
     "execution_count": 19,
     "metadata": {},
     "output_type": "execute_result"
    }
   ],
   "source": [
    "# methods and data attributes of the d1 class, user-defined at the bottom\n",
    "dir(d1)"
   ]
  },
  {
   "cell_type": "code",
   "execution_count": 20,
   "metadata": {},
   "outputs": [
    {
     "data": {
      "text/plain": [
       "__main__.Drone"
      ]
     },
     "execution_count": 20,
     "metadata": {},
     "output_type": "execute_result"
    }
   ],
   "source": [
    "d1.__class__"
   ]
  },
  {
   "cell_type": "code",
   "execution_count": 21,
   "metadata": {},
   "outputs": [
    {
     "data": {
      "text/plain": [
       "__main__.Drone"
      ]
     },
     "execution_count": 21,
     "metadata": {},
     "output_type": "execute_result"
    }
   ],
   "source": [
    "type(d1)"
   ]
  },
  {
   "cell_type": "code",
   "execution_count": 23,
   "metadata": {},
   "outputs": [
    {
     "data": {
      "text/plain": [
       "{'power_system': 'Gasoline', 'altitude': 100}"
      ]
     },
     "execution_count": 23,
     "metadata": {},
     "output_type": "execute_result"
    }
   ],
   "source": [
    "# list of user-defined attributes\n",
    "d1.__dict__"
   ]
  },
  {
   "cell_type": "markdown",
   "metadata": {},
   "source": [
    "## Using the Class Definitions"
   ]
  },
  {
   "cell_type": "code",
   "execution_count": 2,
   "metadata": {},
   "outputs": [],
   "source": [
    "class Drone:\n",
    "    '''A representation of a drone aircraft'''\n",
    "    power_system = 'battery'  # this is a class attribute\n",
    "    def fly(self):\n",
    "        return 'The drone is flying'  # this is a method"
   ]
  },
  {
   "cell_type": "code",
   "execution_count": 3,
   "metadata": {},
   "outputs": [
    {
     "name": "stdout",
     "output_type": "stream",
     "text": [
      "The drone is flying\n"
     ]
    }
   ],
   "source": [
    "d = Drone()\n",
    "print(d.fly())"
   ]
  },
  {
   "cell_type": "code",
   "execution_count": 20,
   "metadata": {},
   "outputs": [],
   "source": [
    "class Drone:\n",
    "    '''A representation of a drone aircraft'''\n",
    "    \n",
    "    power_system = 'battery'  # this is a class attribute\n",
    "    \n",
    "    def fly(self):\n",
    "        print('The ' + self.power_system + '-powered drone is flying at an altitude of ' + str(self.altitude))  # this is a method\n",
    "    \n",
    "    def ascend(self, change):\n",
    "        self.altitude += change\n",
    "        \n",
    "        "
   ]
  },
  {
   "cell_type": "code",
   "execution_count": 5,
   "metadata": {},
   "outputs": [
    {
     "name": "stdout",
     "output_type": "stream",
     "text": [
      "The battery-powered drone is flying\n"
     ]
    }
   ],
   "source": [
    "d = Drone()\n",
    "print(d.fly())"
   ]
  },
  {
   "cell_type": "code",
   "execution_count": 6,
   "metadata": {},
   "outputs": [
    {
     "name": "stdout",
     "output_type": "stream",
     "text": [
      "The dream-powered drone is flying\n",
      "The battery-powered drone is flying\n"
     ]
    }
   ],
   "source": [
    "d1 = Drone()\n",
    "d2 = Drone()\n",
    "d1.power_system = 'dream'\n",
    "print(d1.fly())\n",
    "print(d2.fly())"
   ]
  },
  {
   "cell_type": "code",
   "execution_count": 10,
   "metadata": {},
   "outputs": [
    {
     "name": "stdout",
     "output_type": "stream",
     "text": [
      "The battery-powered drone is flying at an altitude of 0\n",
      "The battery-powered drone is flying at an altitude of 100\n"
     ]
    }
   ],
   "source": [
    "d = Drone()\n",
    "d.altitude = 0\n",
    "d.fly()\n",
    "d.ascend(100)\n",
    "d.fly()"
   ]
  },
  {
   "cell_type": "markdown",
   "metadata": {},
   "source": [
    "## Initializing a Class\n",
    "\n",
    "used to create an attribute when the value is not inherent to all instances of the object"
   ]
  },
  {
   "cell_type": "code",
   "execution_count": 30,
   "metadata": {},
   "outputs": [],
   "source": [
    "class Drone:\n",
    "    '''A representation of a drone aircraft'''\n",
    "    \n",
    "    def __init__(self, altitude = 0):  # initializing method\n",
    "        self.altitude = altitude\n",
    "    \n",
    "    power_system = 'battery'  # this is a class attribute\n",
    "    \n",
    "    def fly(self):  # this is a method\n",
    "        print('The ' + self.power_system + '-powered drone is flying at an altitude of ' + str(self.altitude))\n",
    "    \n",
    "    def ascend(self, change):\n",
    "        self.altitude += change\n",
    "        \n",
    "        "
   ]
  },
  {
   "cell_type": "code",
   "execution_count": 31,
   "metadata": {},
   "outputs": [
    {
     "name": "stdout",
     "output_type": "stream",
     "text": [
      "The battery-powered drone is flying at an altitude of 100\n",
      "The battery-powered drone is flying at an altitude of 200\n"
     ]
    }
   ],
   "source": [
    "d1 = Drone(100)\n",
    "d1.fly()\n",
    "d1.ascend(100)\n",
    "d1.fly()"
   ]
  },
  {
   "cell_type": "code",
   "execution_count": 32,
   "metadata": {},
   "outputs": [
    {
     "name": "stdout",
     "output_type": "stream",
     "text": [
      "The battery-powered drone is flying at an altitude of 0\n"
     ]
    }
   ],
   "source": [
    "d2 = Drone()\n",
    "d2.fly()"
   ]
  },
  {
   "cell_type": "markdown",
   "metadata": {},
   "source": [
    "## Counting with Data Attributes"
   ]
  },
  {
   "cell_type": "code",
   "execution_count": 42,
   "metadata": {},
   "outputs": [],
   "source": [
    "class Drone:\n",
    "    '''A representation of a drone aircraft'''\n",
    "    \n",
    "    num_drones = 0\n",
    "    \n",
    "    power_system = 'battery'  # this is a class attribute\n",
    "    \n",
    "    def __init__(self, altitude = 0):  # initializing method\n",
    "        self.altitude = altitude\n",
    "        self.ascend_count = 0\n",
    "        Drone.num_drones += 1\n",
    "    \n",
    "    def fly(self):  # this is a method\n",
    "        print('The ' + self.power_system + '-powered drone is flying at an altitude of ' + str(self.altitude))\n",
    "    \n",
    "    def ascend(self, change):\n",
    "        self.altitude += change\n",
    "        self.ascend_count += 1\n",
    "        print('Drone ascend count: ', self.ascend_count)\n",
    "        \n",
    "        "
   ]
  },
  {
   "cell_type": "code",
   "execution_count": 43,
   "metadata": {},
   "outputs": [
    {
     "name": "stdout",
     "output_type": "stream",
     "text": [
      "Number of drones:  1\n",
      "The battery-powered drone is flying at an altitude of 100\n",
      "Drone ascend count:  1\n",
      "The battery-powered drone is flying at an altitude of 200\n",
      "Drone ascend count:  2\n",
      "The battery-powered drone is flying at an altitude of 400\n",
      "The battery-powered drone is flying at an altitude of 0\n",
      "Number of drones:  2\n"
     ]
    }
   ],
   "source": [
    "d1 = Drone(100)\n",
    "print(\"Number of drones: \", Drone.num_drones)\n",
    "d1.fly()\n",
    "d1.ascend(100)\n",
    "d1.fly()\n",
    "d1.ascend(200)\n",
    "d1.fly()\n",
    "d2 = Drone()\n",
    "d2.fly()\n",
    "print(\"Number of drones: \", Drone.num_drones)"
   ]
  },
  {
   "cell_type": "markdown",
   "metadata": {},
   "source": [
    "## Direct Access versus Getters and Setters\n",
    "\n",
    "Set and Get functionalities are only useful when you want to add extra logic than just direct access and setting of attribute values"
   ]
  },
  {
   "cell_type": "code",
   "execution_count": 52,
   "metadata": {},
   "outputs": [],
   "source": [
    "class Drone:\n",
    "    '''A representation of a drone aircraft'''\n",
    "    \n",
    "    num_drones = 0\n",
    "    \n",
    "    power_system = 'battery'  # this is a class attribute\n",
    "    \n",
    "    def __init__(self, altitude = 0):  # initializing method\n",
    "        self.altitude = altitude\n",
    "        self.ascend_count = 0\n",
    "        Drone.num_drones += 1\n",
    "    \n",
    "    def fly(self):  # this is a method\n",
    "        print('The ' + self.power_system + '-powered drone is flying at an altitude of ' + str(self.altitude))\n",
    "    \n",
    "    \n",
    "    def ascend(self, change):\n",
    "        self.altitude += change\n",
    "        self.ascend_count += 1\n",
    "        print('Drone ascend count: ', self.ascend_count)\n",
    "    \n",
    "    \n",
    "    def get_altitude(self):\n",
    "        return self.altitude\n",
    "    \n",
    "    \n",
    "    def set_altitude(self, new_altitude):\n",
    "        if new_altitude < 0:\n",
    "            raise Exception('Drone cannot have a negative altitude')\n",
    "        \n",
    "        self.altitude = new_altitude\n",
    "        \n"
   ]
  },
  {
   "cell_type": "code",
   "execution_count": 45,
   "metadata": {
    "scrolled": true
   },
   "outputs": [
    {
     "name": "stdout",
     "output_type": "stream",
     "text": [
      "The battery-powered drone is flying at an altitude of 100\n",
      "Drone ascend count:  1\n",
      "The battery-powered drone is flying at an altitude of 200\n"
     ]
    }
   ],
   "source": [
    "d1 = Drone(100)\n",
    "d1.fly()\n",
    "d1.ascend(100)\n",
    "d1.fly()"
   ]
  },
  {
   "cell_type": "code",
   "execution_count": 48,
   "metadata": {},
   "outputs": [
    {
     "data": {
      "text/plain": [
       "200"
      ]
     },
     "execution_count": 48,
     "metadata": {},
     "output_type": "execute_result"
    }
   ],
   "source": [
    "d1.altitude"
   ]
  },
  {
   "cell_type": "code",
   "execution_count": 50,
   "metadata": {},
   "outputs": [
    {
     "data": {
      "text/plain": [
       "200"
      ]
     },
     "execution_count": 50,
     "metadata": {},
     "output_type": "execute_result"
    }
   ],
   "source": [
    "d1.get_altitude()"
   ]
  },
  {
   "cell_type": "code",
   "execution_count": 53,
   "metadata": {},
   "outputs": [
    {
     "name": "stdout",
     "output_type": "stream",
     "text": [
      "The Drone altitude is:  100\n"
     ]
    }
   ],
   "source": [
    "d1.set_altitude(100)\n",
    "print('The Drone altitude is: ', d1.get_altitude())"
   ]
  },
  {
   "cell_type": "code",
   "execution_count": 54,
   "metadata": {},
   "outputs": [
    {
     "name": "stdout",
     "output_type": "stream",
     "text": [
      "The Drone altitude is:  -10\n"
     ]
    }
   ],
   "source": [
    "d1.set_altitude(-10)\n",
    "print('The Drone altitude is: ', d1.get_altitude())"
   ]
  },
  {
   "cell_type": "markdown",
   "metadata": {},
   "source": [
    "## Hidden Attributes\n",
    "\n",
    "add \"__\" before the attribute you want to hide"
   ]
  },
  {
   "cell_type": "code",
   "execution_count": 5,
   "metadata": {},
   "outputs": [],
   "source": [
    "class Drone:\n",
    "    '''A representation of a drone aircraft'''\n",
    "    \n",
    "    num_drones = 0\n",
    "    \n",
    "    power_system = 'battery'  # this is a class attribute\n",
    "    \n",
    "    def __init__(self, altitude = 0):  # initializing method\n",
    "        self.__altitude = altitude\n",
    "        self.ascend_count = 0\n",
    "        Drone.num_drones += 1\n",
    "    \n",
    "    def fly(self):  # this is a method\n",
    "        print('The ' + self.power_system + '-powered drone is flying at an altitude of ' + str(self.altitude))\n",
    "    \n",
    "    \n",
    "    def ascend(self, change):\n",
    "        self.__altitude += change\n",
    "        self.ascend_count += 1\n",
    "        print('Drone ascend count: ', self.ascend_count)\n",
    "    \n",
    "    \n",
    "    def get_altitude(self):\n",
    "        return self.__altitude\n",
    "    \n",
    "    \n",
    "    def set_altitude(self, new_altitude):\n",
    "        if new_altitude < 0:\n",
    "            raise Exception('Drone cannot have a negative altitude')\n",
    "        else:\n",
    "            self.__altitude = new_altitude\n",
    "        \n"
   ]
  },
  {
   "cell_type": "code",
   "execution_count": 71,
   "metadata": {},
   "outputs": [
    {
     "name": "stdout",
     "output_type": "stream",
     "text": [
      "The Drone altitude is:  100\n"
     ]
    }
   ],
   "source": [
    "d3 = Drone(100)\n",
    "d3.set_altitude(100)\n",
    "print('The Drone altitude is: ', d3.get_altitude())"
   ]
  },
  {
   "cell_type": "code",
   "execution_count": 72,
   "metadata": {},
   "outputs": [
    {
     "ename": "AttributeError",
     "evalue": "'Drone' object has no attribute 'altitude'",
     "output_type": "error",
     "traceback": [
      "\u001b[0;31m---------------------------------------------------------------------------\u001b[0m",
      "\u001b[0;31mAttributeError\u001b[0m                            Traceback (most recent call last)",
      "\u001b[0;32m<ipython-input-72-6b0fd2348c5c>\u001b[0m in \u001b[0;36m<module>\u001b[0;34m\u001b[0m\n\u001b[0;32m----> 1\u001b[0;31m \u001b[0mprint\u001b[0m\u001b[0;34m(\u001b[0m\u001b[0;34m'The Drone altitude is: '\u001b[0m\u001b[0;34m,\u001b[0m \u001b[0md3\u001b[0m\u001b[0;34m.\u001b[0m\u001b[0maltitude\u001b[0m\u001b[0;34m)\u001b[0m\u001b[0;34m\u001b[0m\u001b[0;34m\u001b[0m\u001b[0m\n\u001b[0m",
      "\u001b[0;31mAttributeError\u001b[0m: 'Drone' object has no attribute 'altitude'"
     ]
    }
   ],
   "source": [
    "print('The Drone altitude is: ', d3.altitude)"
   ]
  },
  {
   "cell_type": "markdown",
   "metadata": {},
   "source": [
    "## Overriding Hidden Attributes"
   ]
  },
  {
   "cell_type": "code",
   "execution_count": 73,
   "metadata": {},
   "outputs": [
    {
     "name": "stdout",
     "output_type": "stream",
     "text": [
      "The Drone altitude is:  100\n"
     ]
    }
   ],
   "source": [
    "print('The Drone altitude is: ', d3._Drone__altitude)"
   ]
  },
  {
   "cell_type": "code",
   "execution_count": 74,
   "metadata": {},
   "outputs": [
    {
     "name": "stdout",
     "output_type": "stream",
     "text": [
      "The Drone altitude is:  300\n"
     ]
    }
   ],
   "source": [
    "d3._Drone__altitude = 300\n",
    "print('The Drone altitude is: ', d3._Drone__altitude)"
   ]
  },
  {
   "cell_type": "markdown",
   "metadata": {},
   "source": [
    "## Properties"
   ]
  },
  {
   "cell_type": "code",
   "execution_count": 1,
   "metadata": {},
   "outputs": [],
   "source": [
    "class Drone:\n",
    "    '''A representation of a drone aircraft'''\n",
    "    \n",
    "    num_drones = 0\n",
    "    \n",
    "    power_system = 'battery'  # this is a class attribute\n",
    "    \n",
    "    def __init__(self, altitude = 0):  # initializing method\n",
    "        self.altitude = altitude\n",
    "        self.ascend_count = 0\n",
    "        Drone.num_drones += 1\n",
    "    \n",
    "    def fly(self):  # this is a method\n",
    "        print('The ' + self.power_system + '-powered drone is flying at an altitude of ' + str(self.altitude))\n",
    "    \n",
    "    \n",
    "    def ascend(self, change):\n",
    "        self.altitude += change\n",
    "        self.ascend_count += 1\n",
    "        print('Drone ascend count: ', self.ascend_count)\n",
    "        \n",
    "        "
   ]
  },
  {
   "cell_type": "code",
   "execution_count": 2,
   "metadata": {},
   "outputs": [
    {
     "name": "stdout",
     "output_type": "stream",
     "text": [
      "The drone's alitude is:  100\n",
      "The drone's altitude is:  100\n"
     ]
    }
   ],
   "source": [
    "d1 = Drone(100)\n",
    "print(\"The drone's alitude is: \", d1.altitude)\n",
    "\n",
    "d1.altitude = 100\n",
    "print(\"The drone's altitude is: \", d1.altitude)"
   ]
  },
  {
   "cell_type": "code",
   "execution_count": 6,
   "metadata": {},
   "outputs": [],
   "source": [
    "class Drone:\n",
    "    '''A representation of a drone aircraft'''\n",
    "    \n",
    "    num_drones = 0\n",
    "    \n",
    "    power_system = 'battery'  # this is a class attribute\n",
    "    \n",
    "    def __init__(self, altitude = 0):  # initializing method\n",
    "        self.__altitude = altitude\n",
    "        self.ascend_count = 0\n",
    "        Drone.num_drones += 1\n",
    "    \n",
    "    def fly(self):  # this is a method\n",
    "        print('The ' + self.power_system + '-powered drone is flying at an altitude of ' + str(self.altitude))\n",
    "    \n",
    "    def ascend(self, change):\n",
    "        self.__altitude += change\n",
    "        self.ascend_count += 1\n",
    "        print('Drone ascend count: ', self.ascend_count)\n",
    "    \n",
    "    \n",
    "    def get_altitude(self):\n",
    "        return self.__altitude\n",
    "    \n",
    "    def set_altitude(self, new_altitude):\n",
    "        if new_altitude < 0:\n",
    "            raise Exception('Drone cannot have a negative altitude')\n",
    "        else:\n",
    "            self.__altitude = new_altitude\n",
    "        \n",
    "    altitude = property(get_altitude, set_altitude)\n",
    "    \n",
    "    "
   ]
  },
  {
   "cell_type": "code",
   "execution_count": 7,
   "metadata": {},
   "outputs": [
    {
     "name": "stdout",
     "output_type": "stream",
     "text": [
      "The drone's alitude is:  100\n",
      "The drone's altitude is:  100\n"
     ]
    }
   ],
   "source": [
    "d1 = Drone(100)\n",
    "print(\"The drone's alitude is: \", d1.altitude)\n",
    "\n",
    "d1.altitude = 100\n",
    "print(\"The drone's altitude is: \", d1.altitude)"
   ]
  },
  {
   "cell_type": "code",
   "execution_count": 8,
   "metadata": {},
   "outputs": [
    {
     "ename": "Exception",
     "evalue": "Drone cannot have a negative altitude",
     "output_type": "error",
     "traceback": [
      "\u001b[0;31m---------------------------------------------------------------------------\u001b[0m",
      "\u001b[0;31mException\u001b[0m                                 Traceback (most recent call last)",
      "\u001b[0;32m<ipython-input-8-09d88779400f>\u001b[0m in \u001b[0;36m<module>\u001b[0;34m\u001b[0m\n\u001b[0;32m----> 1\u001b[0;31m \u001b[0md1\u001b[0m\u001b[0;34m.\u001b[0m\u001b[0maltitude\u001b[0m \u001b[0;34m=\u001b[0m \u001b[0;34m-\u001b[0m\u001b[0;36m10\u001b[0m\u001b[0;34m\u001b[0m\u001b[0;34m\u001b[0m\u001b[0m\n\u001b[0m",
      "\u001b[0;32m<ipython-input-6-2614c1589604>\u001b[0m in \u001b[0;36mset_altitude\u001b[0;34m(self, new_altitude)\u001b[0m\n\u001b[1;32m     25\u001b[0m     \u001b[0;32mdef\u001b[0m \u001b[0mset_altitude\u001b[0m\u001b[0;34m(\u001b[0m\u001b[0mself\u001b[0m\u001b[0;34m,\u001b[0m \u001b[0mnew_altitude\u001b[0m\u001b[0;34m)\u001b[0m\u001b[0;34m:\u001b[0m\u001b[0;34m\u001b[0m\u001b[0;34m\u001b[0m\u001b[0m\n\u001b[1;32m     26\u001b[0m         \u001b[0;32mif\u001b[0m \u001b[0mnew_altitude\u001b[0m \u001b[0;34m<\u001b[0m \u001b[0;36m0\u001b[0m\u001b[0;34m:\u001b[0m\u001b[0;34m\u001b[0m\u001b[0;34m\u001b[0m\u001b[0m\n\u001b[0;32m---> 27\u001b[0;31m             \u001b[0;32mraise\u001b[0m \u001b[0mException\u001b[0m\u001b[0;34m(\u001b[0m\u001b[0;34m'Drone cannot have a negative altitude'\u001b[0m\u001b[0;34m)\u001b[0m\u001b[0;34m\u001b[0m\u001b[0;34m\u001b[0m\u001b[0m\n\u001b[0m\u001b[1;32m     28\u001b[0m         \u001b[0;32melse\u001b[0m\u001b[0;34m:\u001b[0m\u001b[0;34m\u001b[0m\u001b[0;34m\u001b[0m\u001b[0m\n\u001b[1;32m     29\u001b[0m             \u001b[0mself\u001b[0m\u001b[0;34m.\u001b[0m\u001b[0m__altitude\u001b[0m \u001b[0;34m=\u001b[0m \u001b[0mnew_altitude\u001b[0m\u001b[0;34m\u001b[0m\u001b[0;34m\u001b[0m\u001b[0m\n",
      "\u001b[0;31mException\u001b[0m: Drone cannot have a negative altitude"
     ]
    }
   ],
   "source": [
    "d1.altitude = -10"
   ]
  },
  {
   "cell_type": "code",
   "execution_count": 9,
   "metadata": {},
   "outputs": [],
   "source": [
    "class Drone:\n",
    "    '''A representation of a drone aircraft'''\n",
    "    \n",
    "    num_drones = 0\n",
    "    \n",
    "    power_system = 'battery'  # this is a class attribute\n",
    "    \n",
    "    def __init__(self, altitude = 0):  # initializing method\n",
    "        self.__altitude = altitude\n",
    "        self.ascend_count = 0\n",
    "        Drone.num_drones += 1\n",
    "    \n",
    "    def fly(self):  # this is a method\n",
    "        print('The ' + self.power_system + '-powered drone is flying at an altitude of ' + str(self.altitude))\n",
    "    \n",
    "    def ascend(self, change):\n",
    "        self.__altitude += change\n",
    "        self.ascend_count += 1\n",
    "        print('Drone ascend count: ', self.ascend_count)\n",
    "    \n",
    "    @property\n",
    "    def altitude(self):\n",
    "        return self.__altitude\n",
    "    \n",
    "    @altitude.setter\n",
    "    def altitude(self, new_altitude):\n",
    "        if new_altitude < 0:\n",
    "            raise Exception('Drone cannot have a negative altitude')\n",
    "        else:\n",
    "            self.__altitude = new_altitude\n",
    "    \n",
    "    "
   ]
  },
  {
   "cell_type": "code",
   "execution_count": 10,
   "metadata": {},
   "outputs": [
    {
     "name": "stdout",
     "output_type": "stream",
     "text": [
      "The drone's alitude is:  100\n",
      "The drone's altitude is:  100\n"
     ]
    },
    {
     "ename": "Exception",
     "evalue": "Drone cannot have a negative altitude",
     "output_type": "error",
     "traceback": [
      "\u001b[0;31m---------------------------------------------------------------------------\u001b[0m",
      "\u001b[0;31mException\u001b[0m                                 Traceback (most recent call last)",
      "\u001b[0;32m<ipython-input-10-fa2ce611e56e>\u001b[0m in \u001b[0;36m<module>\u001b[0;34m\u001b[0m\n\u001b[1;32m      5\u001b[0m \u001b[0mprint\u001b[0m\u001b[0;34m(\u001b[0m\u001b[0;34m\"The drone's altitude is: \"\u001b[0m\u001b[0;34m,\u001b[0m \u001b[0md1\u001b[0m\u001b[0;34m.\u001b[0m\u001b[0maltitude\u001b[0m\u001b[0;34m)\u001b[0m\u001b[0;34m\u001b[0m\u001b[0;34m\u001b[0m\u001b[0m\n\u001b[1;32m      6\u001b[0m \u001b[0;34m\u001b[0m\u001b[0m\n\u001b[0;32m----> 7\u001b[0;31m \u001b[0md1\u001b[0m\u001b[0;34m.\u001b[0m\u001b[0maltitude\u001b[0m \u001b[0;34m=\u001b[0m \u001b[0;34m-\u001b[0m\u001b[0;36m10\u001b[0m\u001b[0;34m\u001b[0m\u001b[0;34m\u001b[0m\u001b[0m\n\u001b[0m",
      "\u001b[0;32m<ipython-input-9-bca730554386>\u001b[0m in \u001b[0;36maltitude\u001b[0;34m(self, new_altitude)\u001b[0m\n\u001b[1;32m     26\u001b[0m     \u001b[0;32mdef\u001b[0m \u001b[0maltitude\u001b[0m\u001b[0;34m(\u001b[0m\u001b[0mself\u001b[0m\u001b[0;34m,\u001b[0m \u001b[0mnew_altitude\u001b[0m\u001b[0;34m)\u001b[0m\u001b[0;34m:\u001b[0m\u001b[0;34m\u001b[0m\u001b[0;34m\u001b[0m\u001b[0m\n\u001b[1;32m     27\u001b[0m         \u001b[0;32mif\u001b[0m \u001b[0mnew_altitude\u001b[0m \u001b[0;34m<\u001b[0m \u001b[0;36m0\u001b[0m\u001b[0;34m:\u001b[0m\u001b[0;34m\u001b[0m\u001b[0;34m\u001b[0m\u001b[0m\n\u001b[0;32m---> 28\u001b[0;31m             \u001b[0;32mraise\u001b[0m \u001b[0mException\u001b[0m\u001b[0;34m(\u001b[0m\u001b[0;34m'Drone cannot have a negative altitude'\u001b[0m\u001b[0;34m)\u001b[0m\u001b[0;34m\u001b[0m\u001b[0;34m\u001b[0m\u001b[0m\n\u001b[0m\u001b[1;32m     29\u001b[0m         \u001b[0;32melse\u001b[0m\u001b[0;34m:\u001b[0m\u001b[0;34m\u001b[0m\u001b[0;34m\u001b[0m\u001b[0m\n\u001b[1;32m     30\u001b[0m             \u001b[0mself\u001b[0m\u001b[0;34m.\u001b[0m\u001b[0m__altitude\u001b[0m \u001b[0;34m=\u001b[0m \u001b[0mnew_altitude\u001b[0m\u001b[0;34m\u001b[0m\u001b[0;34m\u001b[0m\u001b[0m\n",
      "\u001b[0;31mException\u001b[0m: Drone cannot have a negative altitude"
     ]
    }
   ],
   "source": [
    "d1 = Drone(100)\n",
    "print(\"The drone's alitude is: \", d1.altitude)\n",
    "\n",
    "d1.altitude = 100\n",
    "print(\"The drone's altitude is: \", d1.altitude)\n",
    "\n",
    "d1.altitude = -10"
   ]
  },
  {
   "cell_type": "markdown",
   "metadata": {},
   "source": [
    "## Class Methods and Static Methods\n",
    "\n",
    "**Class Methods:** Usually used to access class attributes<br></br>\n",
    "**Statics Methods:** No reference to instance or a class, usually used for operations that are relevant to a class but doesn't need a self reference"
   ]
  },
  {
   "cell_type": "code",
   "execution_count": 18,
   "metadata": {},
   "outputs": [],
   "source": [
    "class Drone:\n",
    "    '''A representation of a drone aircraft'''\n",
    "    \n",
    "    __num_drones = 0\n",
    "    \n",
    "    power_system = 'battery'  # this is a class attribute\n",
    "    \n",
    "    def __init__(self, altitude = 0):  # initializing method\n",
    "        self.altitude = altitude\n",
    "        self.ascend_count = 0\n",
    "        Drone.__num_drones += 1\n",
    "    \n",
    "    def fly(self):  # this is a method\n",
    "        print('The ' + self.power_system + '-powered drone is flying at an altitude of ' + str(self.altitude))\n",
    "    \n",
    "    \n",
    "    def ascend(self, change):\n",
    "        self.altitude += change\n",
    "        self.ascend_count += 1\n",
    "        print('Drone ascend count: ', self.ascend_count)\n",
    "        \n",
    "    @classmethod\n",
    "    def print_class(cls):\n",
    "        print(cls)\n",
    "    \n",
    "    @classmethod\n",
    "    def get_num_drones(cls):\n",
    "        return cls.__num_drones\n",
    "    \n",
    "    @staticmethod\n",
    "    def feet_from_meters(meters):\n",
    "        return meter"
   ]
  },
  {
   "cell_type": "code",
   "execution_count": 19,
   "metadata": {},
   "outputs": [
    {
     "name": "stdout",
     "output_type": "stream",
     "text": [
      "<class '__main__.Drone'>\n",
      "1\n"
     ]
    }
   ],
   "source": [
    "d1 = Drone(100)\n",
    "d1.print_class()\n",
    "print(d1.get_num_drones())"
   ]
  },
  {
   "cell_type": "code",
   "execution_count": 20,
   "metadata": {},
   "outputs": [
    {
     "name": "stdout",
     "output_type": "stream",
     "text": [
      "2\n"
     ]
    }
   ],
   "source": [
    "d2 = Drone(200)\n",
    "print(d2.get_num_drones())"
   ]
  }
 ],
 "metadata": {
  "kernelspec": {
   "display_name": "Python Analytics",
   "language": "python",
   "name": "analytics_py3"
  },
  "language_info": {
   "codemirror_mode": {
    "name": "ipython",
    "version": 3
   },
   "file_extension": ".py",
   "mimetype": "text/x-python",
   "name": "python",
   "nbconvert_exporter": "python",
   "pygments_lexer": "ipython3",
   "version": "3.7.4"
  }
 },
 "nbformat": 4,
 "nbformat_minor": 2
}
